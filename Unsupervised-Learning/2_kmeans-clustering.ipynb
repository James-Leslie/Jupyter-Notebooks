{
 "cells": [
  {
   "cell_type": "markdown",
   "metadata": {},
   "source": [
    "# Introduction to K-Means Clustering"
   ]
  },
  {
   "cell_type": "markdown",
   "metadata": {},
   "source": [
    "## Background\n",
    "We have up until now been focussed on regression and classification, the two major areas of statistical learning which make up what we call supervised learning. The defining characteristic of supervised learning is that all the observations in the data set are labelled. 'Labelled' means that each observation has an output value which we could use to train a predictive regression model, or has been allocated a class which we could use to train a classification model.\n",
    "\n",
    "Unsupervised learning is an area of statistical learning which we use to infer trends and extract patterns and groupings from unlabelled data. A variety of methods to carry out unsupervised learning are available to us, one of which is known as clustering. Clustering methods use features of the data to group observations into either distinct or overlapping sets."
   ]
  },
  {
   "cell_type": "markdown",
   "metadata": {},
   "source": [
    "\n",
    "## The K-Means Clustering Algorithm\n",
    "K-Means is what is known as a hard-clustering method, which means that the clusters, or groups, that result are distinct and non-overlapping. In other words, each observation will ultimately belong to only one cluster, although it may be passed around between clusters during the iterative clustering process.\n",
    "\n",
    "The k in k-means refers to the number of clusters, and this number needs to be specified beforehand by the analyst. This is seen as one of the drawbacks of the k-means method, because clustering is often used to uncover groupings that are not necessarily obvious to the analyst. We do, however, have methods available to us which we can use to determine an optimal number of clusters using common statistical methods. This method will be covered later on, but for now let's take a look at the k-means algorithm, which takes place after we have specifed a number of clusters, k.\n",
    "\n",
    "1. Randomly assign each observation a cluster number from 1 to k\n",
    "2. Repeat the following until cluster assignments stop changing:  \n",
    "    a. For each of the k clusters, compute the cluster centroid. The $k^{th}$ cluster centroid is the mean of the observations in the $k^{th}$ cluster.  \n",
    "    b. Assign each observation to the cluster whose centroid is closest (where closest is defined using Euclidean distance).\n",
    "    \n",
    "The sequence of images below illustrates the k-means algorithm as it iterates over a data set.\n",
    "<img src=\"https://docs.google.com/uc?export=download&id=1uORME9EgXhbv39YAFaisk-1TpaIXX66l\" width=\"500\">\n",
    "\n",
    "Source: [Introduction to Statistical Learning by Trevor Hastie and Rob Tibshirani](https://www-bcf.usc.edu/~gareth/ISL/)"
   ]
  },
  {
   "cell_type": "markdown",
   "metadata": {},
   "source": [
    "### How many clusters do we need?\n",
    "We can now revisit the topic of having to specify a number of clusters, k, when making use of the k-means method. We will make use of a popular technique called the **'Elbow Method'** for determining how many clusters to choose.   \n",
    "\n",
    "To use the elbow method, we will perform k-means clustering a number of times, changing the value of k each time. For each value of k, we will measure the *total within-cluster sum of squares*, or *WCSS*.   \n",
    "\n",
    "<img src=\"https://github.com/jordanExplore/Explore_resources/blob/master/wcss.PNG?raw=true\" width=\"700\">"
   ]
  },
  {
   "cell_type": "markdown",
   "metadata": {},
   "source": [
    "WCSS is a measure of the similarity of the observations within our clusters. Lower WCSS means that a cluster is more tightly grouped. Naturally, as we increase k, WCSS will decrease until k is equal to the number of data points in our data set (when WCSS will be zero). But what use is having as many clusters as there are observations? We need to find the optimal number of clusters such that each cluster is sufficiently consistent in its attributes without having too many clusters.   \n",
    "\n",
    "![alt text](https://github.com/jordanExplore/Explore_resources/blob/master/wcss2.PNG?raw=true)"
   ]
  },
  {
   "cell_type": "markdown",
   "metadata": {},
   "source": [
    "With that theory out of the way, let's attempt to apply the k-means clustering method to some actual data. We will be using the same data set of US census information from 2015 that was used in the previous tutorial on principal component analysis."
   ]
  },
  {
   "cell_type": "code",
   "execution_count": 1,
   "metadata": {},
   "outputs": [],
   "source": [
    "import numpy as np\n",
    "import pandas as pd\n",
    "import datetime\n",
    "from sklearn import preprocessing\n",
    "from sklearn.preprocessing import StandardScaler\n",
    "\n",
    "# clustering\n",
    "from sklearn.cluster import KMeans\n",
    "from time import time\n",
    "\n",
    "# plotting\n",
    "import matplotlib.pyplot as plt\n",
    "import seaborn as sns\n",
    "%matplotlib inline"
   ]
  },
  {
   "cell_type": "code",
   "execution_count": 2,
   "metadata": {},
   "outputs": [],
   "source": [
    "us_df = pd.read_csv('acs2015_county_data.csv', encoding='UTF-8').dropna()"
   ]
  },
  {
   "cell_type": "code",
   "execution_count": 3,
   "metadata": {},
   "outputs": [
    {
     "data": {
      "text/plain": [
       "CensusId           3218\n",
       "State              3218\n",
       "County             3218\n",
       "TotalPop           3218\n",
       "Men                3218\n",
       "Women              3218\n",
       "Hispanic           3218\n",
       "White              3218\n",
       "Black              3218\n",
       "Native             3218\n",
       "Asian              3218\n",
       "Pacific            3218\n",
       "Citizen            3218\n",
       "Income             3218\n",
       "IncomeErr          3218\n",
       "IncomePerCap       3218\n",
       "IncomePerCapErr    3218\n",
       "Poverty            3218\n",
       "ChildPoverty       3218\n",
       "Professional       3218\n",
       "Service            3218\n",
       "Office             3218\n",
       "Construction       3218\n",
       "Production         3218\n",
       "Drive              3218\n",
       "Carpool            3218\n",
       "Transit            3218\n",
       "Walk               3218\n",
       "OtherTransp        3218\n",
       "WorkAtHome         3218\n",
       "MeanCommute        3218\n",
       "Employed           3218\n",
       "PrivateWork        3218\n",
       "PublicWork         3218\n",
       "SelfEmployed       3218\n",
       "FamilyWork         3218\n",
       "Unemployment       3218\n",
       "dtype: int64"
      ]
     },
     "execution_count": 3,
     "metadata": {},
     "output_type": "execute_result"
    }
   ],
   "source": [
    "# check that each column has the same number of values\n",
    "us_df.count()"
   ]
  },
  {
   "cell_type": "code",
   "execution_count": 4,
   "metadata": {},
   "outputs": [
    {
     "data": {
      "text/html": [
       "<div>\n",
       "<style scoped>\n",
       "    .dataframe tbody tr th:only-of-type {\n",
       "        vertical-align: middle;\n",
       "    }\n",
       "\n",
       "    .dataframe tbody tr th {\n",
       "        vertical-align: top;\n",
       "    }\n",
       "\n",
       "    .dataframe thead th {\n",
       "        text-align: right;\n",
       "    }\n",
       "</style>\n",
       "<table border=\"1\" class=\"dataframe\">\n",
       "  <thead>\n",
       "    <tr style=\"text-align: right;\">\n",
       "      <th></th>\n",
       "      <th>CensusId</th>\n",
       "      <th>State</th>\n",
       "      <th>County</th>\n",
       "      <th>TotalPop</th>\n",
       "      <th>Men</th>\n",
       "      <th>Women</th>\n",
       "      <th>Hispanic</th>\n",
       "      <th>White</th>\n",
       "      <th>Black</th>\n",
       "      <th>Native</th>\n",
       "      <th>...</th>\n",
       "      <th>Walk</th>\n",
       "      <th>OtherTransp</th>\n",
       "      <th>WorkAtHome</th>\n",
       "      <th>MeanCommute</th>\n",
       "      <th>Employed</th>\n",
       "      <th>PrivateWork</th>\n",
       "      <th>PublicWork</th>\n",
       "      <th>SelfEmployed</th>\n",
       "      <th>FamilyWork</th>\n",
       "      <th>Unemployment</th>\n",
       "    </tr>\n",
       "  </thead>\n",
       "  <tbody>\n",
       "    <tr>\n",
       "      <th>0</th>\n",
       "      <td>1001</td>\n",
       "      <td>Alabama</td>\n",
       "      <td>Autauga</td>\n",
       "      <td>55221</td>\n",
       "      <td>26745</td>\n",
       "      <td>28476</td>\n",
       "      <td>2.6</td>\n",
       "      <td>75.8</td>\n",
       "      <td>18.5</td>\n",
       "      <td>0.4</td>\n",
       "      <td>...</td>\n",
       "      <td>0.5</td>\n",
       "      <td>1.3</td>\n",
       "      <td>1.8</td>\n",
       "      <td>26.5</td>\n",
       "      <td>23986</td>\n",
       "      <td>73.6</td>\n",
       "      <td>20.9</td>\n",
       "      <td>5.5</td>\n",
       "      <td>0.0</td>\n",
       "      <td>7.6</td>\n",
       "    </tr>\n",
       "    <tr>\n",
       "      <th>1</th>\n",
       "      <td>1003</td>\n",
       "      <td>Alabama</td>\n",
       "      <td>Baldwin</td>\n",
       "      <td>195121</td>\n",
       "      <td>95314</td>\n",
       "      <td>99807</td>\n",
       "      <td>4.5</td>\n",
       "      <td>83.1</td>\n",
       "      <td>9.5</td>\n",
       "      <td>0.6</td>\n",
       "      <td>...</td>\n",
       "      <td>1.0</td>\n",
       "      <td>1.4</td>\n",
       "      <td>3.9</td>\n",
       "      <td>26.4</td>\n",
       "      <td>85953</td>\n",
       "      <td>81.5</td>\n",
       "      <td>12.3</td>\n",
       "      <td>5.8</td>\n",
       "      <td>0.4</td>\n",
       "      <td>7.5</td>\n",
       "    </tr>\n",
       "    <tr>\n",
       "      <th>2</th>\n",
       "      <td>1005</td>\n",
       "      <td>Alabama</td>\n",
       "      <td>Barbour</td>\n",
       "      <td>26932</td>\n",
       "      <td>14497</td>\n",
       "      <td>12435</td>\n",
       "      <td>4.6</td>\n",
       "      <td>46.2</td>\n",
       "      <td>46.7</td>\n",
       "      <td>0.2</td>\n",
       "      <td>...</td>\n",
       "      <td>1.8</td>\n",
       "      <td>1.5</td>\n",
       "      <td>1.6</td>\n",
       "      <td>24.1</td>\n",
       "      <td>8597</td>\n",
       "      <td>71.8</td>\n",
       "      <td>20.8</td>\n",
       "      <td>7.3</td>\n",
       "      <td>0.1</td>\n",
       "      <td>17.6</td>\n",
       "    </tr>\n",
       "    <tr>\n",
       "      <th>3</th>\n",
       "      <td>1007</td>\n",
       "      <td>Alabama</td>\n",
       "      <td>Bibb</td>\n",
       "      <td>22604</td>\n",
       "      <td>12073</td>\n",
       "      <td>10531</td>\n",
       "      <td>2.2</td>\n",
       "      <td>74.5</td>\n",
       "      <td>21.4</td>\n",
       "      <td>0.4</td>\n",
       "      <td>...</td>\n",
       "      <td>0.6</td>\n",
       "      <td>1.5</td>\n",
       "      <td>0.7</td>\n",
       "      <td>28.8</td>\n",
       "      <td>8294</td>\n",
       "      <td>76.8</td>\n",
       "      <td>16.1</td>\n",
       "      <td>6.7</td>\n",
       "      <td>0.4</td>\n",
       "      <td>8.3</td>\n",
       "    </tr>\n",
       "    <tr>\n",
       "      <th>4</th>\n",
       "      <td>1009</td>\n",
       "      <td>Alabama</td>\n",
       "      <td>Blount</td>\n",
       "      <td>57710</td>\n",
       "      <td>28512</td>\n",
       "      <td>29198</td>\n",
       "      <td>8.6</td>\n",
       "      <td>87.9</td>\n",
       "      <td>1.5</td>\n",
       "      <td>0.3</td>\n",
       "      <td>...</td>\n",
       "      <td>0.9</td>\n",
       "      <td>0.4</td>\n",
       "      <td>2.3</td>\n",
       "      <td>34.9</td>\n",
       "      <td>22189</td>\n",
       "      <td>82.0</td>\n",
       "      <td>13.5</td>\n",
       "      <td>4.2</td>\n",
       "      <td>0.4</td>\n",
       "      <td>7.7</td>\n",
       "    </tr>\n",
       "  </tbody>\n",
       "</table>\n",
       "<p>5 rows × 37 columns</p>\n",
       "</div>"
      ],
      "text/plain": [
       "   CensusId    State   County  TotalPop    Men  Women  Hispanic  White  Black  \\\n",
       "0      1001  Alabama  Autauga     55221  26745  28476       2.6   75.8   18.5   \n",
       "1      1003  Alabama  Baldwin    195121  95314  99807       4.5   83.1    9.5   \n",
       "2      1005  Alabama  Barbour     26932  14497  12435       4.6   46.2   46.7   \n",
       "3      1007  Alabama     Bibb     22604  12073  10531       2.2   74.5   21.4   \n",
       "4      1009  Alabama   Blount     57710  28512  29198       8.6   87.9    1.5   \n",
       "\n",
       "   Native      ...       Walk  OtherTransp  WorkAtHome  MeanCommute  Employed  \\\n",
       "0     0.4      ...        0.5          1.3         1.8         26.5     23986   \n",
       "1     0.6      ...        1.0          1.4         3.9         26.4     85953   \n",
       "2     0.2      ...        1.8          1.5         1.6         24.1      8597   \n",
       "3     0.4      ...        0.6          1.5         0.7         28.8      8294   \n",
       "4     0.3      ...        0.9          0.4         2.3         34.9     22189   \n",
       "\n",
       "   PrivateWork  PublicWork  SelfEmployed  FamilyWork  Unemployment  \n",
       "0         73.6        20.9           5.5         0.0           7.6  \n",
       "1         81.5        12.3           5.8         0.4           7.5  \n",
       "2         71.8        20.8           7.3         0.1          17.6  \n",
       "3         76.8        16.1           6.7         0.4           8.3  \n",
       "4         82.0        13.5           4.2         0.4           7.7  \n",
       "\n",
       "[5 rows x 37 columns]"
      ]
     },
     "execution_count": 4,
     "metadata": {},
     "output_type": "execute_result"
    }
   ],
   "source": [
    "# what does the data look like?\n",
    "us_df.head()"
   ]
  },
  {
   "cell_type": "code",
   "execution_count": 5,
   "metadata": {},
   "outputs": [],
   "source": [
    "# create short list of unwanted columns\n",
    "labels = ['CensusId', 'State', 'County']\n",
    "\n",
    "# declare the features to be all columns, less the unwanted ones from above\n",
    "features = [col for col in us_df.columns if col not in labels]"
   ]
  },
  {
   "cell_type": "markdown",
   "metadata": {},
   "source": [
    "With clustering, we can never be sure how many clusters we will get, and what information they will be clustered on! Looking at the data, my intuition says that we could expect some grouping based loosely on income groups and on race groups. As there are four race groups, it might be fair to hypothesize that 4 clusters based on race groups might result, possibly where each cluster represents a group with one race more prominent than any of the others.\n",
    "\n",
    "Let's be sure to scale the data first, since the k-means algorithm makes use of a distance metric and we have many variables with different scales of measurement."
   ]
  },
  {
   "cell_type": "code",
   "execution_count": 6,
   "metadata": {},
   "outputs": [
    {
     "name": "stderr",
     "output_type": "stream",
     "text": [
      "C:\\Users\\jlesl\\Anaconda3\\lib\\site-packages\\ipykernel_launcher.py:6: DataConversionWarning: Data with input dtype int64, float64 were all converted to float64 by the scale function.\n",
      "  \n"
     ]
    }
   ],
   "source": [
    "# create scaler object\n",
    "scaler = StandardScaler()\n",
    "\n",
    "# define scaled data frame variable\n",
    "us_df_scaled = pd.read_csv('acs2015_county_data.csv', encoding=\"UTF-8\").dropna()\n",
    "us_df_scaled[features] = preprocessing.scale(us_df_scaled[features])"
   ]
  },
  {
   "cell_type": "markdown",
   "metadata": {},
   "source": [
    "### Deciding on Number of Clusters, k\n",
    "Take a look at the loop below.\n",
    "\n",
    "We have chosen a range of values for k between 1 and 20. For each value of k, we will run the k-means clustering algorithm and record the WCSS (referred to as **`inertia_`** in sklearn).\n",
    "\n",
    "Have a look at the docstring of the **`KMeans`** function to find out what the **`n_init`** and **`max_iter`** arguments do."
   ]
  },
  {
   "cell_type": "code",
   "execution_count": 7,
   "metadata": {},
   "outputs": [],
   "source": [
    "# let's try everything between 1 and 20 clusters\n",
    "n_clusters = np.arange(1, 21)"
   ]
  },
  {
   "cell_type": "code",
   "execution_count": 8,
   "metadata": {},
   "outputs": [],
   "source": [
    "# store errors for each value of k\n",
    "errors = []\n",
    "\n",
    "# for i between 1 and 20\n",
    "for k in n_clusters:\n",
    "    # perform k-means clustering\n",
    "    km = KMeans(n_clusters=k, n_init=10, max_iter=300, random_state=42)\n",
    "    km.fit(us_df_scaled[features])\n",
    "    # measure WCSS\n",
    "    errors.append(km.inertia_)"
   ]
  },
  {
   "cell_type": "markdown",
   "metadata": {},
   "source": [
    "Now that we have performed k-means clustering for each value of k between 1 and 20, we need to create a plot showing the WCSS for each corresponding value of k."
   ]
  },
  {
   "cell_type": "code",
   "execution_count": 9,
   "metadata": {},
   "outputs": [
    {
     "data": {
      "image/png": "[encoded data removed]",
      "text/plain": [
       "<Figure size 864x576 with 1 Axes>"
      ]
     },
     "metadata": {
      "needs_background": "light"
     },
     "output_type": "display_data"
    }
   ],
   "source": [
    "plt.figure(figsize=(12,8))\n",
    "plt.xlabel('Number of Clusters (k)')\n",
    "plt.ylabel('Within-Cluster Sum of Squares (WCSS)')\n",
    "plt.title('Elbow Method for Determining Optimal Value of k')\n",
    "plt.scatter(n_clusters, errors)\n",
    "plt.plot(n_clusters, errors)\n",
    "plt.xticks(n_clusters)\n",
    "plt.show()"
   ]
  },
  {
   "cell_type": "markdown",
   "metadata": {},
   "source": [
    "The elbow method is as simple as observing the plot of the within-cluster sum of squares (WCSS) for each number of clusters and deciding where the 'elbow' is. The elbow is loosely defined as the point at which the WCSS curve has its greatest decrease in slope. In other words, it is the point after which adding another cluster does not meaningfully decrease the WCSS.\n",
    "\n",
    "Below, we have provided a duplicate of the code used to generate the elbow plot from above. The 2nd last line of code is incomplete - set the `x=` argument in the `plt.axvline()` function to draw a vertical line at the number of clusters you think the elbow occurs at."
   ]
  },
  {
   "cell_type": "code",
   "execution_count": 12,
   "metadata": {},
   "outputs": [
    {
     "data": {
      "image/png": "[encoded data removed]",
      "text/plain": [
       "<Figure size 864x576 with 1 Axes>"
      ]
     },
     "metadata": {},
     "output_type": "display_data"
    }
   ],
   "source": [
    "plt.figure(figsize=(12,8))\n",
    "plt.xlabel('Number of Clusters (k)')\n",
    "plt.ylabel('Within-Cluster Sum of Squares (WCSS)')\n",
    "plt.title('Elbow Method for Determining Optimal Value of k')\n",
    "plt.scatter(n_clusters, errors)\n",
    "plt.plot(n_clusters, errors)\n",
    "plt.xticks(n_clusters)\n",
    "\n",
    "# SET THE X-VALUE BELOW TO THE NUMBER OF CLUSTERS\n",
    "# AT WHICH THE ELBOW OCCURS\n",
    "plt.axvline(x= , color='r', lw=2)\n",
    "plt.show()\n",
    "\n",
    "# run this code block by hitting Shift+Enter"
   ]
  },
  {
   "cell_type": "markdown",
   "metadata": {},
   "source": [
    "This is a tricky elbow plot to decipher, but we thought there was a slight kink at k=4 - this is where you should have plotted your vertical line. We will now cluster our observations using k=4."
   ]
  },
  {
   "cell_type": "code",
   "execution_count": 15,
   "metadata": {},
   "outputs": [
    {
     "name": "stdout",
     "output_type": "stream",
     "text": [
      "Clustering sparse data with KMeans(algorithm='auto', copy_x=True, init='k-means++', max_iter=300,\n",
      "    n_clusters=4, n_init=10, n_jobs=None, precompute_distances='auto',\n",
      "    random_state=42, tol=0.0001, verbose=0)\n",
      "done in 0.582s\n"
     ]
    }
   ],
   "source": [
    "# remember to set the random state for reproducibility\n",
    "km = KMeans(n_clusters=4, verbose=0, random_state=42)\n",
    "print(\"Clustering sparse data with %s\" % km)\n",
    "t0 = time()\n",
    "km.fit(us_df_scaled[features])\n",
    "print(\"done in %0.3fs\" % (time() - t0))"
   ]
  },
  {
   "cell_type": "code",
   "execution_count": 16,
   "metadata": {},
   "outputs": [
    {
     "data": {
      "text/plain": [
       "array([3, 3, 1, 3, 3, 1, 1, 3, 1, 3, 3, 1, 1, 3, 3, 3, 3, 1, 1, 3, 3, 3,\n",
       "       3, 1, 3, 3, 1, 3, 3, 3, 1, 1, 1, 3, 3, 3, 3, 3, 3, 3, 3, 3, 1, 1,\n",
       "       3, 1, 3, 3, 3, 1, 1, 3, 1, 1, 1, 3, 1, 3, 3, 1, 1, 3, 3, 3, 1, 1,\n",
       "       3, 2, 2, 3, 2, 2, 2, 2, 3, 2, 2, 2, 2, 2, 2, 2, 2, 3, 2, 2, 2, 2,\n",
       "       2, 2, 2, 2, 2, 2, 2, 2, 1, 1, 3, 1])"
      ]
     },
     "execution_count": 16,
     "metadata": {},
     "output_type": "execute_result"
    }
   ],
   "source": [
    "# let's take a glimpse at the first 100 observations to see\n",
    "# which clusters they have been allocated to\n",
    "km.labels_[:100]"
   ]
  },
  {
   "cell_type": "code",
   "execution_count": 17,
   "metadata": {},
   "outputs": [],
   "source": [
    "# add cluster labels 1, 2 and 3\n",
    "us_df['km_cluster'] = km.labels_ + 1"
   ]
  },
  {
   "cell_type": "markdown",
   "metadata": {},
   "source": [
    "Let's take a look at the median values for each feature of each of the four clusters."
   ]
  },
  {
   "cell_type": "code",
   "execution_count": 18,
   "metadata": {},
   "outputs": [
    {
     "data": {
      "text/html": [
       "<div>\n",
       "<style scoped>\n",
       "    .dataframe tbody tr th:only-of-type {\n",
       "        vertical-align: middle;\n",
       "    }\n",
       "\n",
       "    .dataframe tbody tr th {\n",
       "        vertical-align: top;\n",
       "    }\n",
       "\n",
       "    .dataframe thead th {\n",
       "        text-align: right;\n",
       "    }\n",
       "</style>\n",
       "<table border=\"1\" class=\"dataframe\">\n",
       "  <thead>\n",
       "    <tr style=\"text-align: right;\">\n",
       "      <th>km_cluster</th>\n",
       "      <th>1</th>\n",
       "      <th>2</th>\n",
       "      <th>3</th>\n",
       "      <th>4</th>\n",
       "    </tr>\n",
       "  </thead>\n",
       "  <tbody>\n",
       "    <tr>\n",
       "      <th>CensusId</th>\n",
       "      <td>26125.0</td>\n",
       "      <td>28139.00</td>\n",
       "      <td>31127.0</td>\n",
       "      <td>29120.0</td>\n",
       "    </tr>\n",
       "    <tr>\n",
       "      <th>TotalPop</th>\n",
       "      <td>862215.0</td>\n",
       "      <td>21362.00</td>\n",
       "      <td>4583.0</td>\n",
       "      <td>36494.5</td>\n",
       "    </tr>\n",
       "    <tr>\n",
       "      <th>Men</th>\n",
       "      <td>423260.0</td>\n",
       "      <td>10553.50</td>\n",
       "      <td>2389.0</td>\n",
       "      <td>18155.0</td>\n",
       "    </tr>\n",
       "    <tr>\n",
       "      <th>Women</th>\n",
       "      <td>438998.0</td>\n",
       "      <td>10835.50</td>\n",
       "      <td>2229.0</td>\n",
       "      <td>18184.0</td>\n",
       "    </tr>\n",
       "    <tr>\n",
       "      <th>Hispanic</th>\n",
       "      <td>16.1</td>\n",
       "      <td>4.50</td>\n",
       "      <td>3.8</td>\n",
       "      <td>3.4</td>\n",
       "    </tr>\n",
       "    <tr>\n",
       "      <th>White</th>\n",
       "      <td>55.4</td>\n",
       "      <td>53.40</td>\n",
       "      <td>88.8</td>\n",
       "      <td>88.7</td>\n",
       "    </tr>\n",
       "    <tr>\n",
       "      <th>Black</th>\n",
       "      <td>10.9</td>\n",
       "      <td>21.60</td>\n",
       "      <td>0.3</td>\n",
       "      <td>1.9</td>\n",
       "    </tr>\n",
       "    <tr>\n",
       "      <th>Native</th>\n",
       "      <td>0.2</td>\n",
       "      <td>0.20</td>\n",
       "      <td>0.6</td>\n",
       "      <td>0.2</td>\n",
       "    </tr>\n",
       "    <tr>\n",
       "      <th>Asian</th>\n",
       "      <td>6.0</td>\n",
       "      <td>0.30</td>\n",
       "      <td>0.3</td>\n",
       "      <td>0.6</td>\n",
       "    </tr>\n",
       "    <tr>\n",
       "      <th>Pacific</th>\n",
       "      <td>0.0</td>\n",
       "      <td>0.00</td>\n",
       "      <td>0.0</td>\n",
       "      <td>0.0</td>\n",
       "    </tr>\n",
       "    <tr>\n",
       "      <th>Citizen</th>\n",
       "      <td>603652.0</td>\n",
       "      <td>16045.50</td>\n",
       "      <td>3485.0</td>\n",
       "      <td>27292.0</td>\n",
       "    </tr>\n",
       "    <tr>\n",
       "      <th>Income</th>\n",
       "      <td>65123.0</td>\n",
       "      <td>33720.00</td>\n",
       "      <td>46646.0</td>\n",
       "      <td>47220.0</td>\n",
       "    </tr>\n",
       "    <tr>\n",
       "      <th>IncomeErr</th>\n",
       "      <td>784.0</td>\n",
       "      <td>2534.50</td>\n",
       "      <td>4393.0</td>\n",
       "      <td>2156.5</td>\n",
       "    </tr>\n",
       "    <tr>\n",
       "      <th>IncomePerCap</th>\n",
       "      <td>33169.0</td>\n",
       "      <td>18144.50</td>\n",
       "      <td>25951.0</td>\n",
       "      <td>24235.0</td>\n",
       "    </tr>\n",
       "    <tr>\n",
       "      <th>IncomePerCapErr</th>\n",
       "      <td>370.0</td>\n",
       "      <td>1129.00</td>\n",
       "      <td>2388.0</td>\n",
       "      <td>988.0</td>\n",
       "    </tr>\n",
       "    <tr>\n",
       "      <th>Poverty</th>\n",
       "      <td>12.6</td>\n",
       "      <td>25.80</td>\n",
       "      <td>13.1</td>\n",
       "      <td>15.0</td>\n",
       "    </tr>\n",
       "    <tr>\n",
       "      <th>ChildPoverty</th>\n",
       "      <td>17.3</td>\n",
       "      <td>37.00</td>\n",
       "      <td>17.3</td>\n",
       "      <td>21.0</td>\n",
       "    </tr>\n",
       "    <tr>\n",
       "      <th>Professional</th>\n",
       "      <td>41.6</td>\n",
       "      <td>26.70</td>\n",
       "      <td>34.6</td>\n",
       "      <td>29.8</td>\n",
       "    </tr>\n",
       "    <tr>\n",
       "      <th>Service</th>\n",
       "      <td>17.4</td>\n",
       "      <td>20.60</td>\n",
       "      <td>17.2</td>\n",
       "      <td>17.6</td>\n",
       "    </tr>\n",
       "    <tr>\n",
       "      <th>Office</th>\n",
       "      <td>24.3</td>\n",
       "      <td>22.20</td>\n",
       "      <td>19.3</td>\n",
       "      <td>22.9</td>\n",
       "    </tr>\n",
       "    <tr>\n",
       "      <th>Construction</th>\n",
       "      <td>6.9</td>\n",
       "      <td>12.80</td>\n",
       "      <td>15.5</td>\n",
       "      <td>11.6</td>\n",
       "    </tr>\n",
       "    <tr>\n",
       "      <th>Production</th>\n",
       "      <td>9.1</td>\n",
       "      <td>15.50</td>\n",
       "      <td>11.3</td>\n",
       "      <td>16.7</td>\n",
       "    </tr>\n",
       "    <tr>\n",
       "      <th>Drive</th>\n",
       "      <td>76.6</td>\n",
       "      <td>81.40</td>\n",
       "      <td>72.6</td>\n",
       "      <td>81.7</td>\n",
       "    </tr>\n",
       "    <tr>\n",
       "      <th>Carpool</th>\n",
       "      <td>8.8</td>\n",
       "      <td>10.90</td>\n",
       "      <td>10.0</td>\n",
       "      <td>9.7</td>\n",
       "    </tr>\n",
       "    <tr>\n",
       "      <th>Transit</th>\n",
       "      <td>4.3</td>\n",
       "      <td>0.30</td>\n",
       "      <td>0.1</td>\n",
       "      <td>0.4</td>\n",
       "    </tr>\n",
       "    <tr>\n",
       "      <th>Walk</th>\n",
       "      <td>2.2</td>\n",
       "      <td>2.10</td>\n",
       "      <td>5.8</td>\n",
       "      <td>2.1</td>\n",
       "    </tr>\n",
       "    <tr>\n",
       "      <th>OtherTransp</th>\n",
       "      <td>1.5</td>\n",
       "      <td>1.40</td>\n",
       "      <td>1.4</td>\n",
       "      <td>1.2</td>\n",
       "    </tr>\n",
       "    <tr>\n",
       "      <th>WorkAtHome</th>\n",
       "      <td>4.8</td>\n",
       "      <td>2.60</td>\n",
       "      <td>7.8</td>\n",
       "      <td>3.9</td>\n",
       "    </tr>\n",
       "    <tr>\n",
       "      <th>MeanCommute</th>\n",
       "      <td>28.1</td>\n",
       "      <td>24.30</td>\n",
       "      <td>17.8</td>\n",
       "      <td>23.3</td>\n",
       "    </tr>\n",
       "    <tr>\n",
       "      <th>Employed</th>\n",
       "      <td>418411.0</td>\n",
       "      <td>7237.50</td>\n",
       "      <td>2078.0</td>\n",
       "      <td>16092.0</td>\n",
       "    </tr>\n",
       "    <tr>\n",
       "      <th>PrivateWork</th>\n",
       "      <td>81.7</td>\n",
       "      <td>71.80</td>\n",
       "      <td>65.0</td>\n",
       "      <td>77.7</td>\n",
       "    </tr>\n",
       "    <tr>\n",
       "      <th>PublicWork</th>\n",
       "      <td>12.4</td>\n",
       "      <td>21.00</td>\n",
       "      <td>19.7</td>\n",
       "      <td>14.6</td>\n",
       "    </tr>\n",
       "    <tr>\n",
       "      <th>SelfEmployed</th>\n",
       "      <td>5.3</td>\n",
       "      <td>6.25</td>\n",
       "      <td>13.4</td>\n",
       "      <td>6.7</td>\n",
       "    </tr>\n",
       "    <tr>\n",
       "      <th>FamilyWork</th>\n",
       "      <td>0.1</td>\n",
       "      <td>0.10</td>\n",
       "      <td>0.4</td>\n",
       "      <td>0.2</td>\n",
       "    </tr>\n",
       "    <tr>\n",
       "      <th>Unemployment</th>\n",
       "      <td>7.7</td>\n",
       "      <td>11.40</td>\n",
       "      <td>4.2</td>\n",
       "      <td>7.2</td>\n",
       "    </tr>\n",
       "  </tbody>\n",
       "</table>\n",
       "</div>"
      ],
      "text/plain": [
       "km_cluster              1         2        3        4\n",
       "CensusId          26125.0  28139.00  31127.0  29120.0\n",
       "TotalPop         862215.0  21362.00   4583.0  36494.5\n",
       "Men              423260.0  10553.50   2389.0  18155.0\n",
       "Women            438998.0  10835.50   2229.0  18184.0\n",
       "Hispanic             16.1      4.50      3.8      3.4\n",
       "White                55.4     53.40     88.8     88.7\n",
       "Black                10.9     21.60      0.3      1.9\n",
       "Native                0.2      0.20      0.6      0.2\n",
       "Asian                 6.0      0.30      0.3      0.6\n",
       "Pacific               0.0      0.00      0.0      0.0\n",
       "Citizen          603652.0  16045.50   3485.0  27292.0\n",
       "Income            65123.0  33720.00  46646.0  47220.0\n",
       "IncomeErr           784.0   2534.50   4393.0   2156.5\n",
       "IncomePerCap      33169.0  18144.50  25951.0  24235.0\n",
       "IncomePerCapErr     370.0   1129.00   2388.0    988.0\n",
       "Poverty              12.6     25.80     13.1     15.0\n",
       "ChildPoverty         17.3     37.00     17.3     21.0\n",
       "Professional         41.6     26.70     34.6     29.8\n",
       "Service              17.4     20.60     17.2     17.6\n",
       "Office               24.3     22.20     19.3     22.9\n",
       "Construction          6.9     12.80     15.5     11.6\n",
       "Production            9.1     15.50     11.3     16.7\n",
       "Drive                76.6     81.40     72.6     81.7\n",
       "Carpool               8.8     10.90     10.0      9.7\n",
       "Transit               4.3      0.30      0.1      0.4\n",
       "Walk                  2.2      2.10      5.8      2.1\n",
       "OtherTransp           1.5      1.40      1.4      1.2\n",
       "WorkAtHome            4.8      2.60      7.8      3.9\n",
       "MeanCommute          28.1     24.30     17.8     23.3\n",
       "Employed         418411.0   7237.50   2078.0  16092.0\n",
       "PrivateWork          81.7     71.80     65.0     77.7\n",
       "PublicWork           12.4     21.00     19.7     14.6\n",
       "SelfEmployed          5.3      6.25     13.4      6.7\n",
       "FamilyWork            0.1      0.10      0.4      0.2\n",
       "Unemployment          7.7     11.40      4.2      7.2"
      ]
     },
     "execution_count": 18,
     "metadata": {},
     "output_type": "execute_result"
    }
   ],
   "source": [
    "# it's a little easier to read when we transpose the result, so that each column is a cluster\n",
    "us_df.groupby('km_cluster').agg('median').T"
   ]
  },
  {
   "cell_type": "markdown",
   "metadata": {},
   "source": [
    "Skimming through the columns and rows above, there are certainly some features that are being clustered on. That is to say, there are obvious differences or discrepancies between values for certain features across the four clusters.\n",
    "\n",
    "For instance, the median value of `TotalPop` in cluster 1 is nearly 900,000, but as low as 4,000 in cluster 3. What this means is that the k-means method has grouped observations according to their relative `TotalPop` values. Perhaps cluster 1 is a grouping of the counties containing the larger cities, like New York City, Los Angeles, Atlanta, Chicago, etc.\n",
    "\n",
    "By contrast, take a look at the features of `Male` and `Female`. As we would expect, these values are very close to half of the `TotalPop` value for each cluster, so we could say there is no clustering being done on these two features.\n",
    "\n",
    "Another notable feature here is that of `IncomePerCap`. While clusters 3 and 4 are fairly similar, between 24,000 and 26,000, cluster 2 is considerably lower at just over 18,000. Cluster 1 is by far the highest at 33,000. We might then infer that cluster 2 was a grouping of the poorer counties, and cluster 1 a grouping of the wealthier ones. This ties in with our suggestion that Cluster 1 contains the large cities, as we would expect higher paying jobs to be found in bigger cities like New York.\n",
    "\n",
    "Lastly, one other worthy mention is that of `ChildPoverty`. We can see that cluster 2 has by far the highest child poverty value. Again, this ties in with our suggestions that cluster 2 contains poorer, smaller counties."
   ]
  },
  {
   "cell_type": "code",
   "execution_count": 14,
   "metadata": {},
   "outputs": [
    {
     "data": {
      "image/png": "[encoded data removed]",
      "text/plain": [
       "<Figure size 864x576 with 1 Axes>"
      ]
     },
     "metadata": {
      "needs_background": "light"
     },
     "output_type": "display_data"
    }
   ],
   "source": [
    "us_df[['CensusId', 'km_cluster']].groupby(\n",
    "    'km_cluster').count().reset_index().plot(kind='bar', \n",
    "                                              x='km_cluster', \n",
    "                                              figsize=(12,8), \n",
    "                                              title='Number of Counties per Cluster')\n",
    "plt.show()"
   ]
  },
  {
   "cell_type": "markdown",
   "metadata": {},
   "source": [
    "Above, we've plotted the number of counties per cluster, and we see that the fewest number of counties is in cluster 1. Again, this makes sense - we would expect that there are far fewer big, wealthy cities than small ones."
   ]
  }
 ],
 "metadata": {
  "kernelspec": {
   "display_name": "Python 3",
   "language": "python",
   "name": "python3"
  },
  "language_info": {
   "codemirror_mode": {
    "name": "ipython",
    "version": 3
   },
   "file_extension": ".py",
   "mimetype": "text/x-python",
   "name": "python",
   "nbconvert_exporter": "python",
   "pygments_lexer": "ipython3",
   "version": "3.6.7"
  }
 },
 "nbformat": 4,
 "nbformat_minor": 2
}
