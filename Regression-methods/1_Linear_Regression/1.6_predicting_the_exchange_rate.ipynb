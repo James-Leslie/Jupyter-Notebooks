{
 "cells": [
  {
   "cell_type": "markdown",
   "metadata": {},
   "source": [
    "# Predicting the future exchange rate\n",
    "----   \n",
    "In the previous tutorials of this module, we created a model which could predict the Dollar/Rand exchange rate for a month, given some indicator variables' values for that same month.\n",
    "\n",
    "In this tutorial, we will try to predict *next month's* exchange rate using *this month's* economic indicators."
   ]
  },
  {
   "cell_type": "markdown",
   "metadata": {},
   "source": [
    "## Getting started\n",
    "Same as before, we will need to import a few Python libraries"
   ]
  },
  {
   "cell_type": "code",
   "execution_count": 1,
   "metadata": {},
   "outputs": [],
   "source": [
    "import numpy as np\n",
    "import pandas as pd\n",
    "import matplotlib.pyplot as plt\n",
    "import seaborn as sns"
   ]
  },
  {
   "cell_type": "markdown",
   "metadata": {},
   "source": [
    "**Next** we will load our data as a Pandas DataFrame."
   ]
  },
  {
   "cell_type": "code",
   "execution_count": 2,
   "metadata": {},
   "outputs": [
    {
     "data": {
      "text/html": [
       "<div>\n",
       "<style>\n",
       "    .dataframe thead tr:only-child th {\n",
       "        text-align: right;\n",
       "    }\n",
       "\n",
       "    .dataframe thead th {\n",
       "        text-align: left;\n",
       "    }\n",
       "\n",
       "    .dataframe tbody tr th {\n",
       "        vertical-align: top;\n",
       "    }\n",
       "</style>\n",
       "<table border=\"1\" class=\"dataframe\">\n",
       "  <thead>\n",
       "    <tr style=\"text-align: right;\">\n",
       "      <th></th>\n",
       "      <th>ZAR/USD</th>\n",
       "      <th>Value of Exports (USD)</th>\n",
       "      <th>Value of Exports (ZAR)</th>\n",
       "      <th>Value of Imports (USD)</th>\n",
       "      <th>Value of Imports (ZAR)</th>\n",
       "      <th>Total Reserves excl Gold (USD)</th>\n",
       "      <th>IMF Reserve Position (USD)</th>\n",
       "      <th>Foreign Exchange (USD)</th>\n",
       "      <th>Claims on Non-residents (USD)</th>\n",
       "      <th>Liabilities to Non-residents (USD)</th>\n",
       "      <th>Central Bank Policy Rate</th>\n",
       "      <th>Money Market Rate</th>\n",
       "      <th>Treasury Bill Rate</th>\n",
       "      <th>Savings Rate</th>\n",
       "      <th>Deposit Rate</th>\n",
       "      <th>Lending Rate</th>\n",
       "      <th>Government Bonds</th>\n",
       "      <th>Financial Market Prices, Equities Index</th>\n",
       "      <th>Producer Price Index</th>\n",
       "      <th>Consumer Price Index</th>\n",
       "    </tr>\n",
       "  </thead>\n",
       "  <tbody>\n",
       "    <tr>\n",
       "      <th>2008M01</th>\n",
       "      <td>7.01</td>\n",
       "      <td>5611.90</td>\n",
       "      <td>39356.82</td>\n",
       "      <td>8105.11</td>\n",
       "      <td>56841.94</td>\n",
       "      <td>29884.51</td>\n",
       "      <td>1.92</td>\n",
       "      <td>29526.78</td>\n",
       "      <td>51547.61</td>\n",
       "      <td>37752.29</td>\n",
       "      <td>11.0</td>\n",
       "      <td>10.64</td>\n",
       "      <td>10.47</td>\n",
       "      <td>4.53</td>\n",
       "      <td>10.83</td>\n",
       "      <td>14.5</td>\n",
       "      <td>8.36</td>\n",
       "      <td>312.97</td>\n",
       "      <td>86.03</td>\n",
       "      <td>85.48</td>\n",
       "    </tr>\n",
       "    <tr>\n",
       "      <th>2008M02</th>\n",
       "      <td>7.66</td>\n",
       "      <td>6126.16</td>\n",
       "      <td>46946.33</td>\n",
       "      <td>8159.43</td>\n",
       "      <td>62527.78</td>\n",
       "      <td>30304.31</td>\n",
       "      <td>2.01</td>\n",
       "      <td>29943.04</td>\n",
       "      <td>59702.31</td>\n",
       "      <td>45927.67</td>\n",
       "      <td>11.0</td>\n",
       "      <td>10.66</td>\n",
       "      <td>10.32</td>\n",
       "      <td>5.61</td>\n",
       "      <td>11.00</td>\n",
       "      <td>14.5</td>\n",
       "      <td>8.69</td>\n",
       "      <td>335.09</td>\n",
       "      <td>87.23</td>\n",
       "      <td>85.91</td>\n",
       "    </tr>\n",
       "    <tr>\n",
       "      <th>2008M03</th>\n",
       "      <td>7.97</td>\n",
       "      <td>6417.48</td>\n",
       "      <td>51150.89</td>\n",
       "      <td>8010.87</td>\n",
       "      <td>63851.12</td>\n",
       "      <td>30615.42</td>\n",
       "      <td>2.05</td>\n",
       "      <td>30246.54</td>\n",
       "      <td>56448.18</td>\n",
       "      <td>42565.17</td>\n",
       "      <td>11.0</td>\n",
       "      <td>10.69</td>\n",
       "      <td>10.18</td>\n",
       "      <td>5.62</td>\n",
       "      <td>11.04</td>\n",
       "      <td>14.5</td>\n",
       "      <td>9.16</td>\n",
       "      <td>348.84</td>\n",
       "      <td>89.00</td>\n",
       "      <td>87.04</td>\n",
       "    </tr>\n",
       "    <tr>\n",
       "      <th>2008M04</th>\n",
       "      <td>7.79</td>\n",
       "      <td>7215.71</td>\n",
       "      <td>56174.34</td>\n",
       "      <td>9112.97</td>\n",
       "      <td>70944.49</td>\n",
       "      <td>30763.42</td>\n",
       "      <td>2.03</td>\n",
       "      <td>30399.21</td>\n",
       "      <td>55534.75</td>\n",
       "      <td>43342.70</td>\n",
       "      <td>11.5</td>\n",
       "      <td>11.00</td>\n",
       "      <td>10.27</td>\n",
       "      <td>5.80</td>\n",
       "      <td>11.28</td>\n",
       "      <td>15.0</td>\n",
       "      <td>9.15</td>\n",
       "      <td>358.47</td>\n",
       "      <td>90.83</td>\n",
       "      <td>87.61</td>\n",
       "    </tr>\n",
       "    <tr>\n",
       "      <th>2008M05</th>\n",
       "      <td>7.62</td>\n",
       "      <td>7379.67</td>\n",
       "      <td>56240.45</td>\n",
       "      <td>9090.14</td>\n",
       "      <td>69275.97</td>\n",
       "      <td>30831.43</td>\n",
       "      <td>2.10</td>\n",
       "      <td>30467.81</td>\n",
       "      <td>57682.89</td>\n",
       "      <td>46533.13</td>\n",
       "      <td>11.5</td>\n",
       "      <td>11.20</td>\n",
       "      <td>10.60</td>\n",
       "      <td>6.50</td>\n",
       "      <td>11.39</td>\n",
       "      <td>15.0</td>\n",
       "      <td>9.51</td>\n",
       "      <td>371.98</td>\n",
       "      <td>95.32</td>\n",
       "      <td>88.32</td>\n",
       "    </tr>\n",
       "  </tbody>\n",
       "</table>\n",
       "</div>"
      ],
      "text/plain": [
       "         ZAR/USD  Value of Exports (USD)  Value of Exports (ZAR)  \\\n",
       "2008M01     7.01                 5611.90                39356.82   \n",
       "2008M02     7.66                 6126.16                46946.33   \n",
       "2008M03     7.97                 6417.48                51150.89   \n",
       "2008M04     7.79                 7215.71                56174.34   \n",
       "2008M05     7.62                 7379.67                56240.45   \n",
       "\n",
       "         Value of Imports (USD)  Value of Imports (ZAR)  \\\n",
       "2008M01                 8105.11                56841.94   \n",
       "2008M02                 8159.43                62527.78   \n",
       "2008M03                 8010.87                63851.12   \n",
       "2008M04                 9112.97                70944.49   \n",
       "2008M05                 9090.14                69275.97   \n",
       "\n",
       "         Total Reserves excl Gold (USD)  IMF Reserve Position (USD)  \\\n",
       "2008M01                        29884.51                        1.92   \n",
       "2008M02                        30304.31                        2.01   \n",
       "2008M03                        30615.42                        2.05   \n",
       "2008M04                        30763.42                        2.03   \n",
       "2008M05                        30831.43                        2.10   \n",
       "\n",
       "         Foreign Exchange (USD)  Claims on Non-residents (USD)  \\\n",
       "2008M01                29526.78                       51547.61   \n",
       "2008M02                29943.04                       59702.31   \n",
       "2008M03                30246.54                       56448.18   \n",
       "2008M04                30399.21                       55534.75   \n",
       "2008M05                30467.81                       57682.89   \n",
       "\n",
       "         Liabilities to Non-residents (USD)  Central Bank Policy Rate  \\\n",
       "2008M01                            37752.29                      11.0   \n",
       "2008M02                            45927.67                      11.0   \n",
       "2008M03                            42565.17                      11.0   \n",
       "2008M04                            43342.70                      11.5   \n",
       "2008M05                            46533.13                      11.5   \n",
       "\n",
       "         Money Market Rate  Treasury Bill Rate  Savings Rate  Deposit Rate  \\\n",
       "2008M01              10.64               10.47          4.53         10.83   \n",
       "2008M02              10.66               10.32          5.61         11.00   \n",
       "2008M03              10.69               10.18          5.62         11.04   \n",
       "2008M04              11.00               10.27          5.80         11.28   \n",
       "2008M05              11.20               10.60          6.50         11.39   \n",
       "\n",
       "         Lending Rate  Government Bonds  \\\n",
       "2008M01          14.5              8.36   \n",
       "2008M02          14.5              8.69   \n",
       "2008M03          14.5              9.16   \n",
       "2008M04          15.0              9.15   \n",
       "2008M05          15.0              9.51   \n",
       "\n",
       "         Financial Market Prices, Equities Index  Producer Price Index  \\\n",
       "2008M01                                   312.97                 86.03   \n",
       "2008M02                                   335.09                 87.23   \n",
       "2008M03                                   348.84                 89.00   \n",
       "2008M04                                   358.47                 90.83   \n",
       "2008M05                                   371.98                 95.32   \n",
       "\n",
       "         Consumer Price Index  \n",
       "2008M01                 85.48  \n",
       "2008M02                 85.91  \n",
       "2008M03                 87.04  \n",
       "2008M04                 87.61  \n",
       "2008M05                 88.32  "
      ]
     },
     "execution_count": 2,
     "metadata": {},
     "output_type": "execute_result"
    }
   ],
   "source": [
    "df = pd.read_csv('https://raw.githubusercontent.com/James-Leslie/Learning-Library/master/ML%20for%20Actuaries/1_Linear_Regression/data/data_2.csv', index_col=0)\n",
    "df.head()"
   ]
  },
  {
   "cell_type": "code",
   "execution_count": 3,
   "metadata": {},
   "outputs": [
    {
     "data": {
      "text/plain": [
       "(120, 20)"
      ]
     },
     "execution_count": 3,
     "metadata": {},
     "output_type": "execute_result"
    }
   ],
   "source": [
    "df.shape"
   ]
  },
  {
   "cell_type": "markdown",
   "metadata": {},
   "source": [
    "We'll be using the same data as before, except we will need to do some manipulation of the dataframe."
   ]
  },
  {
   "cell_type": "markdown",
   "metadata": {},
   "source": [
    "We're going to need to shift the 1st column by one month so that the values represent the exchange rate for the *next* month of any given row.   \n",
    "\n",
    "This can be done pretty easily in Python using the `.shift()` method."
   ]
  },
  {
   "cell_type": "code",
   "execution_count": 4,
   "metadata": {},
   "outputs": [],
   "source": [
    "# shift all values in ZAR/USD column up one\n",
    "df['ZAR/USD'] = df['ZAR/USD'].shift(-1)\n",
    "\n",
    "# while we're at it, let's just change the column name\n",
    "df.rename(columns={'ZAR/USD':'ZAR/USD (next month)'}, inplace=True)\n",
    "\n",
    "# then we'll drop the final row\n",
    "df = df[:-1]"
   ]
  },
  {
   "cell_type": "code",
   "execution_count": 5,
   "metadata": {},
   "outputs": [
    {
     "data": {
      "text/html": [
       "<div>\n",
       "<style>\n",
       "    .dataframe thead tr:only-child th {\n",
       "        text-align: right;\n",
       "    }\n",
       "\n",
       "    .dataframe thead th {\n",
       "        text-align: left;\n",
       "    }\n",
       "\n",
       "    .dataframe tbody tr th {\n",
       "        vertical-align: top;\n",
       "    }\n",
       "</style>\n",
       "<table border=\"1\" class=\"dataframe\">\n",
       "  <thead>\n",
       "    <tr style=\"text-align: right;\">\n",
       "      <th></th>\n",
       "      <th>ZAR/USD (next month)</th>\n",
       "      <th>Value of Exports (USD)</th>\n",
       "      <th>Value of Exports (ZAR)</th>\n",
       "      <th>Value of Imports (USD)</th>\n",
       "      <th>Value of Imports (ZAR)</th>\n",
       "      <th>Total Reserves excl Gold (USD)</th>\n",
       "      <th>IMF Reserve Position (USD)</th>\n",
       "      <th>Foreign Exchange (USD)</th>\n",
       "      <th>Claims on Non-residents (USD)</th>\n",
       "      <th>Liabilities to Non-residents (USD)</th>\n",
       "      <th>Central Bank Policy Rate</th>\n",
       "      <th>Money Market Rate</th>\n",
       "      <th>Treasury Bill Rate</th>\n",
       "      <th>Savings Rate</th>\n",
       "      <th>Deposit Rate</th>\n",
       "      <th>Lending Rate</th>\n",
       "      <th>Government Bonds</th>\n",
       "      <th>Financial Market Prices, Equities Index</th>\n",
       "      <th>Producer Price Index</th>\n",
       "      <th>Consumer Price Index</th>\n",
       "    </tr>\n",
       "  </thead>\n",
       "  <tbody>\n",
       "    <tr>\n",
       "      <th>2008M01</th>\n",
       "      <td>7.66</td>\n",
       "      <td>5611.90</td>\n",
       "      <td>39356.82</td>\n",
       "      <td>8105.11</td>\n",
       "      <td>56841.94</td>\n",
       "      <td>29884.51</td>\n",
       "      <td>1.92</td>\n",
       "      <td>29526.78</td>\n",
       "      <td>51547.61</td>\n",
       "      <td>37752.29</td>\n",
       "      <td>11.0</td>\n",
       "      <td>10.64</td>\n",
       "      <td>10.47</td>\n",
       "      <td>4.53</td>\n",
       "      <td>10.83</td>\n",
       "      <td>14.5</td>\n",
       "      <td>8.36</td>\n",
       "      <td>312.97</td>\n",
       "      <td>86.03</td>\n",
       "      <td>85.48</td>\n",
       "    </tr>\n",
       "    <tr>\n",
       "      <th>2008M02</th>\n",
       "      <td>7.97</td>\n",
       "      <td>6126.16</td>\n",
       "      <td>46946.33</td>\n",
       "      <td>8159.43</td>\n",
       "      <td>62527.78</td>\n",
       "      <td>30304.31</td>\n",
       "      <td>2.01</td>\n",
       "      <td>29943.04</td>\n",
       "      <td>59702.31</td>\n",
       "      <td>45927.67</td>\n",
       "      <td>11.0</td>\n",
       "      <td>10.66</td>\n",
       "      <td>10.32</td>\n",
       "      <td>5.61</td>\n",
       "      <td>11.00</td>\n",
       "      <td>14.5</td>\n",
       "      <td>8.69</td>\n",
       "      <td>335.09</td>\n",
       "      <td>87.23</td>\n",
       "      <td>85.91</td>\n",
       "    </tr>\n",
       "    <tr>\n",
       "      <th>2008M03</th>\n",
       "      <td>7.79</td>\n",
       "      <td>6417.48</td>\n",
       "      <td>51150.89</td>\n",
       "      <td>8010.87</td>\n",
       "      <td>63851.12</td>\n",
       "      <td>30615.42</td>\n",
       "      <td>2.05</td>\n",
       "      <td>30246.54</td>\n",
       "      <td>56448.18</td>\n",
       "      <td>42565.17</td>\n",
       "      <td>11.0</td>\n",
       "      <td>10.69</td>\n",
       "      <td>10.18</td>\n",
       "      <td>5.62</td>\n",
       "      <td>11.04</td>\n",
       "      <td>14.5</td>\n",
       "      <td>9.16</td>\n",
       "      <td>348.84</td>\n",
       "      <td>89.00</td>\n",
       "      <td>87.04</td>\n",
       "    </tr>\n",
       "    <tr>\n",
       "      <th>2008M04</th>\n",
       "      <td>7.62</td>\n",
       "      <td>7215.71</td>\n",
       "      <td>56174.34</td>\n",
       "      <td>9112.97</td>\n",
       "      <td>70944.49</td>\n",
       "      <td>30763.42</td>\n",
       "      <td>2.03</td>\n",
       "      <td>30399.21</td>\n",
       "      <td>55534.75</td>\n",
       "      <td>43342.70</td>\n",
       "      <td>11.5</td>\n",
       "      <td>11.00</td>\n",
       "      <td>10.27</td>\n",
       "      <td>5.80</td>\n",
       "      <td>11.28</td>\n",
       "      <td>15.0</td>\n",
       "      <td>9.15</td>\n",
       "      <td>358.47</td>\n",
       "      <td>90.83</td>\n",
       "      <td>87.61</td>\n",
       "    </tr>\n",
       "    <tr>\n",
       "      <th>2008M05</th>\n",
       "      <td>7.92</td>\n",
       "      <td>7379.67</td>\n",
       "      <td>56240.45</td>\n",
       "      <td>9090.14</td>\n",
       "      <td>69275.97</td>\n",
       "      <td>30831.43</td>\n",
       "      <td>2.10</td>\n",
       "      <td>30467.81</td>\n",
       "      <td>57682.89</td>\n",
       "      <td>46533.13</td>\n",
       "      <td>11.5</td>\n",
       "      <td>11.20</td>\n",
       "      <td>10.60</td>\n",
       "      <td>6.50</td>\n",
       "      <td>11.39</td>\n",
       "      <td>15.0</td>\n",
       "      <td>9.51</td>\n",
       "      <td>371.98</td>\n",
       "      <td>95.32</td>\n",
       "      <td>88.32</td>\n",
       "    </tr>\n",
       "  </tbody>\n",
       "</table>\n",
       "</div>"
      ],
      "text/plain": [
       "         ZAR/USD (next month)  Value of Exports (USD)  Value of Exports (ZAR)  \\\n",
       "2008M01                  7.66                 5611.90                39356.82   \n",
       "2008M02                  7.97                 6126.16                46946.33   \n",
       "2008M03                  7.79                 6417.48                51150.89   \n",
       "2008M04                  7.62                 7215.71                56174.34   \n",
       "2008M05                  7.92                 7379.67                56240.45   \n",
       "\n",
       "         Value of Imports (USD)  Value of Imports (ZAR)  \\\n",
       "2008M01                 8105.11                56841.94   \n",
       "2008M02                 8159.43                62527.78   \n",
       "2008M03                 8010.87                63851.12   \n",
       "2008M04                 9112.97                70944.49   \n",
       "2008M05                 9090.14                69275.97   \n",
       "\n",
       "         Total Reserves excl Gold (USD)  IMF Reserve Position (USD)  \\\n",
       "2008M01                        29884.51                        1.92   \n",
       "2008M02                        30304.31                        2.01   \n",
       "2008M03                        30615.42                        2.05   \n",
       "2008M04                        30763.42                        2.03   \n",
       "2008M05                        30831.43                        2.10   \n",
       "\n",
       "         Foreign Exchange (USD)  Claims on Non-residents (USD)  \\\n",
       "2008M01                29526.78                       51547.61   \n",
       "2008M02                29943.04                       59702.31   \n",
       "2008M03                30246.54                       56448.18   \n",
       "2008M04                30399.21                       55534.75   \n",
       "2008M05                30467.81                       57682.89   \n",
       "\n",
       "         Liabilities to Non-residents (USD)  Central Bank Policy Rate  \\\n",
       "2008M01                            37752.29                      11.0   \n",
       "2008M02                            45927.67                      11.0   \n",
       "2008M03                            42565.17                      11.0   \n",
       "2008M04                            43342.70                      11.5   \n",
       "2008M05                            46533.13                      11.5   \n",
       "\n",
       "         Money Market Rate  Treasury Bill Rate  Savings Rate  Deposit Rate  \\\n",
       "2008M01              10.64               10.47          4.53         10.83   \n",
       "2008M02              10.66               10.32          5.61         11.00   \n",
       "2008M03              10.69               10.18          5.62         11.04   \n",
       "2008M04              11.00               10.27          5.80         11.28   \n",
       "2008M05              11.20               10.60          6.50         11.39   \n",
       "\n",
       "         Lending Rate  Government Bonds  \\\n",
       "2008M01          14.5              8.36   \n",
       "2008M02          14.5              8.69   \n",
       "2008M03          14.5              9.16   \n",
       "2008M04          15.0              9.15   \n",
       "2008M05          15.0              9.51   \n",
       "\n",
       "         Financial Market Prices, Equities Index  Producer Price Index  \\\n",
       "2008M01                                   312.97                 86.03   \n",
       "2008M02                                   335.09                 87.23   \n",
       "2008M03                                   348.84                 89.00   \n",
       "2008M04                                   358.47                 90.83   \n",
       "2008M05                                   371.98                 95.32   \n",
       "\n",
       "         Consumer Price Index  \n",
       "2008M01                 85.48  \n",
       "2008M02                 85.91  \n",
       "2008M03                 87.04  \n",
       "2008M04                 87.61  \n",
       "2008M05                 88.32  "
      ]
     },
     "execution_count": 5,
     "metadata": {},
     "output_type": "execute_result"
    }
   ],
   "source": [
    "df.head()"
   ]
  },
  {
   "cell_type": "markdown",
   "metadata": {},
   "source": [
    "## Now let's try to predict the future      \n",
    "Now we can do the same things as before, but we'll use the new data.   \n",
    "We'll also drop the same variables as we did in the previous tutorial."
   ]
  },
  {
   "cell_type": "code",
   "execution_count": 6,
   "metadata": {},
   "outputs": [],
   "source": [
    "from sklearn.linear_model import LinearRegression\n",
    "\n",
    "X = df.drop(['ZAR/USD (next month)',\n",
    "             'Total Reserves excl Gold (USD)',\n",
    "             'Producer Price Index',\n",
    "             'Central Bank Policy Rate',\n",
    "             'Money Market Rate',\n",
    "             'Treasury Bill Rate',\n",
    "             'Deposit Rate'], axis=1)\n",
    "\n",
    "y = df['ZAR/USD (next month)']"
   ]
  },
  {
   "cell_type": "code",
   "execution_count": 7,
   "metadata": {},
   "outputs": [],
   "source": [
    "lm = LinearRegression()"
   ]
  },
  {
   "cell_type": "code",
   "execution_count": 8,
   "metadata": {},
   "outputs": [],
   "source": [
    "#!conda update scikit-learn"
   ]
  },
  {
   "cell_type": "code",
   "execution_count": 9,
   "metadata": {},
   "outputs": [],
   "source": [
    "from sklearn.model_selection import train_test_split"
   ]
  },
  {
   "cell_type": "code",
   "execution_count": 10,
   "metadata": {},
   "outputs": [],
   "source": [
    "X_train, X_test, y_train, y_test = train_test_split(X, \n",
    "                                                    y, \n",
    "                                                    test_size=0.20,\n",
    "                                                    shuffle=False)"
   ]
  },
  {
   "cell_type": "code",
   "execution_count": 11,
   "metadata": {},
   "outputs": [],
   "source": [
    "# we want to plot the train and test response variables as a continuous line\n",
    "train_plot = y_train.append(pd.Series(y_test[0], index=['2015M11']))"
   ]
  },
  {
   "cell_type": "code",
   "execution_count": 12,
   "metadata": {},
   "outputs": [
    {
     "data": {
      "image/png": "[encoded data removed]",
      "text/plain": [
       "<matplotlib.figure.Figure at 0x282be3a1ba8>"
      ]
     },
     "metadata": {},
     "output_type": "display_data"
    }
   ],
   "source": [
    "plt.plot(np.arange(len(train_plot)), train_plot, label='Training')\n",
    "plt.plot(np.arange(len(y_test))+len(y_train), y_test, label='Testing')\n",
    "plt.legend()\n",
    "plt.show()"
   ]
  },
  {
   "cell_type": "code",
   "execution_count": 13,
   "metadata": {},
   "outputs": [
    {
     "data": {
      "text/plain": [
       "LinearRegression(copy_X=True, fit_intercept=True, n_jobs=1, normalize=False)"
      ]
     },
     "execution_count": 13,
     "metadata": {},
     "output_type": "execute_result"
    }
   ],
   "source": [
    "lm.fit(X_train, y_train)"
   ]
  },
  {
   "cell_type": "code",
   "execution_count": 14,
   "metadata": {},
   "outputs": [],
   "source": [
    "b = float(lm.intercept_)"
   ]
  },
  {
   "cell_type": "code",
   "execution_count": 15,
   "metadata": {},
   "outputs": [],
   "source": [
    "coeff = pd.DataFrame(lm.coef_, X.columns, columns=['Coefficient'])"
   ]
  },
  {
   "cell_type": "code",
   "execution_count": 16,
   "metadata": {},
   "outputs": [
    {
     "name": "stdout",
     "output_type": "stream",
     "text": [
      "Intercept: -1.1804035406986468\n"
     ]
    }
   ],
   "source": [
    "print(\"Intercept:\", float(b))"
   ]
  },
  {
   "cell_type": "code",
   "execution_count": 17,
   "metadata": {},
   "outputs": [
    {
     "data": {
      "text/html": [
       "<div>\n",
       "<style>\n",
       "    .dataframe thead tr:only-child th {\n",
       "        text-align: right;\n",
       "    }\n",
       "\n",
       "    .dataframe thead th {\n",
       "        text-align: left;\n",
       "    }\n",
       "\n",
       "    .dataframe tbody tr th {\n",
       "        vertical-align: top;\n",
       "    }\n",
       "</style>\n",
       "<table border=\"1\" class=\"dataframe\">\n",
       "  <thead>\n",
       "    <tr style=\"text-align: right;\">\n",
       "      <th></th>\n",
       "      <th>Coefficient</th>\n",
       "    </tr>\n",
       "  </thead>\n",
       "  <tbody>\n",
       "    <tr>\n",
       "      <th>Value of Exports (USD)</th>\n",
       "      <td>-0.000135</td>\n",
       "    </tr>\n",
       "    <tr>\n",
       "      <th>Value of Exports (ZAR)</th>\n",
       "      <td>0.000021</td>\n",
       "    </tr>\n",
       "    <tr>\n",
       "      <th>Value of Imports (USD)</th>\n",
       "      <td>-0.000639</td>\n",
       "    </tr>\n",
       "    <tr>\n",
       "      <th>Value of Imports (ZAR)</th>\n",
       "      <td>0.000068</td>\n",
       "    </tr>\n",
       "    <tr>\n",
       "      <th>IMF Reserve Position (USD)</th>\n",
       "      <td>-0.003046</td>\n",
       "    </tr>\n",
       "    <tr>\n",
       "      <th>Foreign Exchange (USD)</th>\n",
       "      <td>-0.000019</td>\n",
       "    </tr>\n",
       "    <tr>\n",
       "      <th>Claims on Non-residents (USD)</th>\n",
       "      <td>-0.000004</td>\n",
       "    </tr>\n",
       "    <tr>\n",
       "      <th>Liabilities to Non-residents (USD)</th>\n",
       "      <td>-0.000023</td>\n",
       "    </tr>\n",
       "    <tr>\n",
       "      <th>Savings Rate</th>\n",
       "      <td>-0.137118</td>\n",
       "    </tr>\n",
       "    <tr>\n",
       "      <th>Lending Rate</th>\n",
       "      <td>0.454384</td>\n",
       "    </tr>\n",
       "    <tr>\n",
       "      <th>Government Bonds</th>\n",
       "      <td>-0.198924</td>\n",
       "    </tr>\n",
       "    <tr>\n",
       "      <th>Financial Market Prices, Equities Index</th>\n",
       "      <td>-0.001051</td>\n",
       "    </tr>\n",
       "    <tr>\n",
       "      <th>Consumer Price Index</th>\n",
       "      <td>0.089999</td>\n",
       "    </tr>\n",
       "  </tbody>\n",
       "</table>\n",
       "</div>"
      ],
      "text/plain": [
       "                                         Coefficient\n",
       "Value of Exports (USD)                     -0.000135\n",
       "Value of Exports (ZAR)                      0.000021\n",
       "Value of Imports (USD)                     -0.000639\n",
       "Value of Imports (ZAR)                      0.000068\n",
       "IMF Reserve Position (USD)                 -0.003046\n",
       "Foreign Exchange (USD)                     -0.000019\n",
       "Claims on Non-residents (USD)              -0.000004\n",
       "Liabilities to Non-residents (USD)         -0.000023\n",
       "Savings Rate                               -0.137118\n",
       "Lending Rate                                0.454384\n",
       "Government Bonds                           -0.198924\n",
       "Financial Market Prices, Equities Index    -0.001051\n",
       "Consumer Price Index                        0.089999"
      ]
     },
     "execution_count": 17,
     "metadata": {},
     "output_type": "execute_result"
    }
   ],
   "source": [
    "coeff"
   ]
  },
  {
   "cell_type": "code",
   "execution_count": 18,
   "metadata": {},
   "outputs": [],
   "source": [
    "from sklearn import metrics"
   ]
  },
  {
   "cell_type": "code",
   "execution_count": 19,
   "metadata": {},
   "outputs": [
    {
     "name": "stdout",
     "output_type": "stream",
     "text": [
      "MSE (train)\n",
      "Linear: 0.100521105235\n"
     ]
    }
   ],
   "source": [
    "train_lm = lm.predict(X_train)\n",
    "\n",
    "print('MSE (train)')\n",
    "print('Linear:', metrics.mean_squared_error(y_train, train_lm))"
   ]
  },
  {
   "cell_type": "code",
   "execution_count": 20,
   "metadata": {},
   "outputs": [
    {
     "name": "stdout",
     "output_type": "stream",
     "text": [
      "MSE (test)\n",
      "Linear: 1.18563030646\n"
     ]
    }
   ],
   "source": [
    "test_lm = lm.predict(X_test)\n",
    "\n",
    "print('MSE (test)')\n",
    "print('Linear:', metrics.mean_squared_error(y_test, test_lm))"
   ]
  },
  {
   "cell_type": "code",
   "execution_count": 21,
   "metadata": {},
   "outputs": [
    {
     "data": {
      "image/png": "[encoded data removed]",
      "text/plain": [
       "<matplotlib.figure.Figure at 0x282be4725f8>"
      ]
     },
     "metadata": {},
     "output_type": "display_data"
    }
   ],
   "source": [
    "plt.plot(np.arange(len(y)), lm.predict(X), label='Predicted')\n",
    "plt.plot(np.arange(len(train_plot)), train_plot, label='Training')\n",
    "plt.plot(np.arange(len(y_test))+len(y_train), y_test, label='Testing')\n",
    "plt.legend()\n",
    "\n",
    "plt.show()"
   ]
  },
  {
   "cell_type": "markdown",
   "metadata": {},
   "source": [
    "----\n",
    "**To summarise:**   \n",
    "We learnt how to:\n",
    "* use multiple linear regression to predict the future value of a response variable.   "
   ]
  }
 ],
 "metadata": {
  "kernelspec": {
   "display_name": "Python 3",
   "language": "python",
   "name": "python3"
  },
  "language_info": {
   "codemirror_mode": {
    "name": "ipython",
    "version": 3
   },
   "file_extension": ".py",
   "mimetype": "text/x-python",
   "name": "python",
   "nbconvert_exporter": "python",
   "pygments_lexer": "ipython3",
   "version": "3.6.1"
  }
 },
 "nbformat": 4,
 "nbformat_minor": 2
}
