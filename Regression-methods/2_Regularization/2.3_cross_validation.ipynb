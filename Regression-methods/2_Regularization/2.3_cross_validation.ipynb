{
 "cells": [
  {
   "cell_type": "markdown",
   "metadata": {},
   "source": [
    "# Cross validation and hyperparameter tuning\n",
    "\n",
    "THIS TUTORIAL IS CURRENTLY INCOMPLETE\n",
    "----   "
   ]
  },
  {
   "cell_type": "markdown",
   "metadata": {},
   "source": [
    "## Cross validation\n",
    "In the previous two tutorials, we performed regularization using both ridge and lasso methods. In both cases, we didn't put any thought into our chosen values for the hyperparameter, $\\alpha$.   \n",
    "\n",
    "\n",
    "\n",
    "Up until now, we have adopted the procedure of splitting our data into two sets - one for training, and a second set for testing."
   ]
  },
  {
   "cell_type": "markdown",
   "metadata": {},
   "source": []
  },
  {
   "cell_type": "markdown",
   "metadata": {},
   "source": [
    "## Getting started\n",
    "Same as before, we will need to import a few Python libraries"
   ]
  },
  {
   "cell_type": "code",
   "execution_count": 1,
   "metadata": {},
   "outputs": [],
   "source": [
    "import numpy as np\n",
    "import pandas as pd\n",
    "import matplotlib.pyplot as plt\n",
    "import seaborn as sns"
   ]
  },
  {
   "cell_type": "markdown",
   "metadata": {},
   "source": [
    "**Next** we will load our data as a Pandas DataFrame."
   ]
  },
  {
   "cell_type": "code",
   "execution_count": 2,
   "metadata": {},
   "outputs": [
    {
     "data": {
      "text/html": [
       "<div>\n",
       "<style scoped>\n",
       "    .dataframe tbody tr th:only-of-type {\n",
       "        vertical-align: middle;\n",
       "    }\n",
       "\n",
       "    .dataframe tbody tr th {\n",
       "        vertical-align: top;\n",
       "    }\n",
       "\n",
       "    .dataframe thead th {\n",
       "        text-align: right;\n",
       "    }\n",
       "</style>\n",
       "<table border=\"1\" class=\"dataframe\">\n",
       "  <thead>\n",
       "    <tr style=\"text-align: right;\">\n",
       "      <th></th>\n",
       "      <th>ZAR/USD</th>\n",
       "      <th>Value of Exports (USD)</th>\n",
       "      <th>Value of Exports (ZAR)</th>\n",
       "      <th>Value of Imports (USD)</th>\n",
       "      <th>Value of Imports (ZAR)</th>\n",
       "      <th>Total Reserves excl Gold (USD)</th>\n",
       "      <th>IMF Reserve Position (USD)</th>\n",
       "      <th>Foreign Exchange (USD)</th>\n",
       "      <th>Claims on Non-residents (USD)</th>\n",
       "      <th>Liabilities to Non-residents (USD)</th>\n",
       "      <th>Central Bank Policy Rate</th>\n",
       "      <th>Money Market Rate</th>\n",
       "      <th>Treasury Bill Rate</th>\n",
       "      <th>Savings Rate</th>\n",
       "      <th>Deposit Rate</th>\n",
       "      <th>Lending Rate</th>\n",
       "      <th>Government Bonds</th>\n",
       "      <th>Financial Market Prices, Equities Index</th>\n",
       "      <th>Producer Price Index</th>\n",
       "      <th>Consumer Price Index</th>\n",
       "    </tr>\n",
       "  </thead>\n",
       "  <tbody>\n",
       "    <tr>\n",
       "      <th>2008M01</th>\n",
       "      <td>7.01</td>\n",
       "      <td>5611.90</td>\n",
       "      <td>39356.82</td>\n",
       "      <td>8105.11</td>\n",
       "      <td>56841.94</td>\n",
       "      <td>29884.51</td>\n",
       "      <td>1.92</td>\n",
       "      <td>29526.78</td>\n",
       "      <td>51547.61</td>\n",
       "      <td>37752.29</td>\n",
       "      <td>11.0</td>\n",
       "      <td>10.64</td>\n",
       "      <td>10.47</td>\n",
       "      <td>4.53</td>\n",
       "      <td>10.83</td>\n",
       "      <td>14.5</td>\n",
       "      <td>8.36</td>\n",
       "      <td>312.97</td>\n",
       "      <td>86.03</td>\n",
       "      <td>85.48</td>\n",
       "    </tr>\n",
       "    <tr>\n",
       "      <th>2008M02</th>\n",
       "      <td>7.66</td>\n",
       "      <td>6126.16</td>\n",
       "      <td>46946.33</td>\n",
       "      <td>8159.43</td>\n",
       "      <td>62527.78</td>\n",
       "      <td>30304.31</td>\n",
       "      <td>2.01</td>\n",
       "      <td>29943.04</td>\n",
       "      <td>59702.31</td>\n",
       "      <td>45927.67</td>\n",
       "      <td>11.0</td>\n",
       "      <td>10.66</td>\n",
       "      <td>10.32</td>\n",
       "      <td>5.61</td>\n",
       "      <td>11.00</td>\n",
       "      <td>14.5</td>\n",
       "      <td>8.69</td>\n",
       "      <td>335.09</td>\n",
       "      <td>87.23</td>\n",
       "      <td>85.91</td>\n",
       "    </tr>\n",
       "    <tr>\n",
       "      <th>2008M03</th>\n",
       "      <td>7.97</td>\n",
       "      <td>6417.48</td>\n",
       "      <td>51150.89</td>\n",
       "      <td>8010.87</td>\n",
       "      <td>63851.12</td>\n",
       "      <td>30615.42</td>\n",
       "      <td>2.05</td>\n",
       "      <td>30246.54</td>\n",
       "      <td>56448.18</td>\n",
       "      <td>42565.17</td>\n",
       "      <td>11.0</td>\n",
       "      <td>10.69</td>\n",
       "      <td>10.18</td>\n",
       "      <td>5.62</td>\n",
       "      <td>11.04</td>\n",
       "      <td>14.5</td>\n",
       "      <td>9.16</td>\n",
       "      <td>348.84</td>\n",
       "      <td>89.00</td>\n",
       "      <td>87.04</td>\n",
       "    </tr>\n",
       "    <tr>\n",
       "      <th>2008M04</th>\n",
       "      <td>7.79</td>\n",
       "      <td>7215.71</td>\n",
       "      <td>56174.34</td>\n",
       "      <td>9112.97</td>\n",
       "      <td>70944.49</td>\n",
       "      <td>30763.42</td>\n",
       "      <td>2.03</td>\n",
       "      <td>30399.21</td>\n",
       "      <td>55534.75</td>\n",
       "      <td>43342.70</td>\n",
       "      <td>11.5</td>\n",
       "      <td>11.00</td>\n",
       "      <td>10.27</td>\n",
       "      <td>5.80</td>\n",
       "      <td>11.28</td>\n",
       "      <td>15.0</td>\n",
       "      <td>9.15</td>\n",
       "      <td>358.47</td>\n",
       "      <td>90.83</td>\n",
       "      <td>87.61</td>\n",
       "    </tr>\n",
       "    <tr>\n",
       "      <th>2008M05</th>\n",
       "      <td>7.62</td>\n",
       "      <td>7379.67</td>\n",
       "      <td>56240.45</td>\n",
       "      <td>9090.14</td>\n",
       "      <td>69275.97</td>\n",
       "      <td>30831.43</td>\n",
       "      <td>2.10</td>\n",
       "      <td>30467.81</td>\n",
       "      <td>57682.89</td>\n",
       "      <td>46533.13</td>\n",
       "      <td>11.5</td>\n",
       "      <td>11.20</td>\n",
       "      <td>10.60</td>\n",
       "      <td>6.50</td>\n",
       "      <td>11.39</td>\n",
       "      <td>15.0</td>\n",
       "      <td>9.51</td>\n",
       "      <td>371.98</td>\n",
       "      <td>95.32</td>\n",
       "      <td>88.32</td>\n",
       "    </tr>\n",
       "  </tbody>\n",
       "</table>\n",
       "</div>"
      ],
      "text/plain": [
       "         ZAR/USD  Value of Exports (USD)  Value of Exports (ZAR)  \\\n",
       "2008M01     7.01                 5611.90                39356.82   \n",
       "2008M02     7.66                 6126.16                46946.33   \n",
       "2008M03     7.97                 6417.48                51150.89   \n",
       "2008M04     7.79                 7215.71                56174.34   \n",
       "2008M05     7.62                 7379.67                56240.45   \n",
       "\n",
       "         Value of Imports (USD)  Value of Imports (ZAR)  \\\n",
       "2008M01                 8105.11                56841.94   \n",
       "2008M02                 8159.43                62527.78   \n",
       "2008M03                 8010.87                63851.12   \n",
       "2008M04                 9112.97                70944.49   \n",
       "2008M05                 9090.14                69275.97   \n",
       "\n",
       "         Total Reserves excl Gold (USD)  IMF Reserve Position (USD)  \\\n",
       "2008M01                        29884.51                        1.92   \n",
       "2008M02                        30304.31                        2.01   \n",
       "2008M03                        30615.42                        2.05   \n",
       "2008M04                        30763.42                        2.03   \n",
       "2008M05                        30831.43                        2.10   \n",
       "\n",
       "         Foreign Exchange (USD)  Claims on Non-residents (USD)  \\\n",
       "2008M01                29526.78                       51547.61   \n",
       "2008M02                29943.04                       59702.31   \n",
       "2008M03                30246.54                       56448.18   \n",
       "2008M04                30399.21                       55534.75   \n",
       "2008M05                30467.81                       57682.89   \n",
       "\n",
       "         Liabilities to Non-residents (USD)  Central Bank Policy Rate  \\\n",
       "2008M01                            37752.29                      11.0   \n",
       "2008M02                            45927.67                      11.0   \n",
       "2008M03                            42565.17                      11.0   \n",
       "2008M04                            43342.70                      11.5   \n",
       "2008M05                            46533.13                      11.5   \n",
       "\n",
       "         Money Market Rate  Treasury Bill Rate  Savings Rate  Deposit Rate  \\\n",
       "2008M01              10.64               10.47          4.53         10.83   \n",
       "2008M02              10.66               10.32          5.61         11.00   \n",
       "2008M03              10.69               10.18          5.62         11.04   \n",
       "2008M04              11.00               10.27          5.80         11.28   \n",
       "2008M05              11.20               10.60          6.50         11.39   \n",
       "\n",
       "         Lending Rate  Government Bonds  \\\n",
       "2008M01          14.5              8.36   \n",
       "2008M02          14.5              8.69   \n",
       "2008M03          14.5              9.16   \n",
       "2008M04          15.0              9.15   \n",
       "2008M05          15.0              9.51   \n",
       "\n",
       "         Financial Market Prices, Equities Index  Producer Price Index  \\\n",
       "2008M01                                   312.97                 86.03   \n",
       "2008M02                                   335.09                 87.23   \n",
       "2008M03                                   348.84                 89.00   \n",
       "2008M04                                   358.47                 90.83   \n",
       "2008M05                                   371.98                 95.32   \n",
       "\n",
       "         Consumer Price Index  \n",
       "2008M01                 85.48  \n",
       "2008M02                 85.91  \n",
       "2008M03                 87.04  \n",
       "2008M04                 87.61  \n",
       "2008M05                 88.32  "
      ]
     },
     "execution_count": 2,
     "metadata": {},
     "output_type": "execute_result"
    }
   ],
   "source": [
    "df = pd.read_csv('data_2.csv', index_col=0)\n",
    "df.head()"
   ]
  },
  {
   "cell_type": "code",
   "execution_count": 3,
   "metadata": {},
   "outputs": [
    {
     "data": {
      "text/plain": [
       "(120, 20)"
      ]
     },
     "execution_count": 3,
     "metadata": {},
     "output_type": "execute_result"
    }
   ],
   "source": [
    "df.shape"
   ]
  },
  {
   "cell_type": "markdown",
   "metadata": {},
   "source": [
    "## Let's try to model the Rand exchange rate   \n",
    "\n",
    "Now that we have thinned out our DataFrame, let's see what we can do with machine learning.   \n",
    "   "
   ]
  },
  {
   "cell_type": "code",
   "execution_count": 4,
   "metadata": {},
   "outputs": [],
   "source": [
    "X = df.drop('ZAR/USD', axis=1)\n",
    "y = df['ZAR/USD']"
   ]
  },
  {
   "cell_type": "code",
   "execution_count": 5,
   "metadata": {},
   "outputs": [],
   "source": [
    "from sklearn.preprocessing import StandardScaler"
   ]
  },
  {
   "cell_type": "code",
   "execution_count": 6,
   "metadata": {},
   "outputs": [],
   "source": [
    "scaler = StandardScaler()"
   ]
  },
  {
   "cell_type": "code",
   "execution_count": 7,
   "metadata": {},
   "outputs": [],
   "source": [
    "X_scaled = scaler.fit_transform(X)"
   ]
  },
  {
   "cell_type": "code",
   "execution_count": 8,
   "metadata": {},
   "outputs": [
    {
     "data": {
      "text/html": [
       "<div>\n",
       "<style scoped>\n",
       "    .dataframe tbody tr th:only-of-type {\n",
       "        vertical-align: middle;\n",
       "    }\n",
       "\n",
       "    .dataframe tbody tr th {\n",
       "        vertical-align: top;\n",
       "    }\n",
       "\n",
       "    .dataframe thead th {\n",
       "        text-align: right;\n",
       "    }\n",
       "</style>\n",
       "<table border=\"1\" class=\"dataframe\">\n",
       "  <thead>\n",
       "    <tr style=\"text-align: right;\">\n",
       "      <th></th>\n",
       "      <th>Value of Exports (USD)</th>\n",
       "      <th>Value of Exports (ZAR)</th>\n",
       "      <th>Value of Imports (USD)</th>\n",
       "      <th>Value of Imports (ZAR)</th>\n",
       "      <th>Total Reserves excl Gold (USD)</th>\n",
       "      <th>IMF Reserve Position (USD)</th>\n",
       "      <th>Foreign Exchange (USD)</th>\n",
       "      <th>Claims on Non-residents (USD)</th>\n",
       "      <th>Liabilities to Non-residents (USD)</th>\n",
       "      <th>Central Bank Policy Rate</th>\n",
       "      <th>Money Market Rate</th>\n",
       "      <th>Treasury Bill Rate</th>\n",
       "      <th>Savings Rate</th>\n",
       "      <th>Deposit Rate</th>\n",
       "      <th>Lending Rate</th>\n",
       "      <th>Government Bonds</th>\n",
       "      <th>Financial Market Prices, Equities Index</th>\n",
       "      <th>Producer Price Index</th>\n",
       "      <th>Consumer Price Index</th>\n",
       "    </tr>\n",
       "  </thead>\n",
       "  <tbody>\n",
       "    <tr>\n",
       "      <th>0</th>\n",
       "      <td>-1.341230</td>\n",
       "      <td>-1.820002</td>\n",
       "      <td>0.205077</td>\n",
       "      <td>-1.124305</td>\n",
       "      <td>-2.145276</td>\n",
       "      <td>-0.740237</td>\n",
       "      <td>-2.040128</td>\n",
       "      <td>0.325086</td>\n",
       "      <td>-0.356166</td>\n",
       "      <td>2.195535</td>\n",
       "      <td>2.098427</td>\n",
       "      <td>2.225653</td>\n",
       "      <td>0.692028</td>\n",
       "      <td>2.036107</td>\n",
       "      <td>2.195535</td>\n",
       "      <td>-0.234691</td>\n",
       "      <td>2.625151</td>\n",
       "      <td>-1.613707</td>\n",
       "      <td>-1.690995</td>\n",
       "    </tr>\n",
       "    <tr>\n",
       "      <th>1</th>\n",
       "      <td>-0.934909</td>\n",
       "      <td>-1.404295</td>\n",
       "      <td>0.248319</td>\n",
       "      <td>-0.821735</td>\n",
       "      <td>-2.057421</td>\n",
       "      <td>-0.739864</td>\n",
       "      <td>-1.936778</td>\n",
       "      <td>2.106157</td>\n",
       "      <td>1.670410</td>\n",
       "      <td>2.195535</td>\n",
       "      <td>2.108767</td>\n",
       "      <td>2.136289</td>\n",
       "      <td>1.529205</td>\n",
       "      <td>2.124739</td>\n",
       "      <td>2.195535</td>\n",
       "      <td>0.294266</td>\n",
       "      <td>2.985518</td>\n",
       "      <td>-1.567326</td>\n",
       "      <td>-1.667091</td>\n",
       "    </tr>\n",
       "    <tr>\n",
       "      <th>2</th>\n",
       "      <td>-0.704734</td>\n",
       "      <td>-1.173995</td>\n",
       "      <td>0.130057</td>\n",
       "      <td>-0.751314</td>\n",
       "      <td>-1.992313</td>\n",
       "      <td>-0.739698</td>\n",
       "      <td>-1.861424</td>\n",
       "      <td>1.395422</td>\n",
       "      <td>0.836888</td>\n",
       "      <td>2.195535</td>\n",
       "      <td>2.124275</td>\n",
       "      <td>2.052883</td>\n",
       "      <td>1.536956</td>\n",
       "      <td>2.145593</td>\n",
       "      <td>2.195535</td>\n",
       "      <td>1.047628</td>\n",
       "      <td>3.209525</td>\n",
       "      <td>-1.498915</td>\n",
       "      <td>-1.604276</td>\n",
       "    </tr>\n",
       "    <tr>\n",
       "      <th>3</th>\n",
       "      <td>-0.074046</td>\n",
       "      <td>-0.898842</td>\n",
       "      <td>1.007391</td>\n",
       "      <td>-0.373843</td>\n",
       "      <td>-1.961339</td>\n",
       "      <td>-0.739781</td>\n",
       "      <td>-1.823519</td>\n",
       "      <td>1.195919</td>\n",
       "      <td>1.029628</td>\n",
       "      <td>2.452574</td>\n",
       "      <td>2.284533</td>\n",
       "      <td>2.106501</td>\n",
       "      <td>1.676486</td>\n",
       "      <td>2.270721</td>\n",
       "      <td>2.452574</td>\n",
       "      <td>1.031600</td>\n",
       "      <td>3.366412</td>\n",
       "      <td>-1.428184</td>\n",
       "      <td>-1.572591</td>\n",
       "    </tr>\n",
       "    <tr>\n",
       "      <th>4</th>\n",
       "      <td>0.055500</td>\n",
       "      <td>-0.895220</td>\n",
       "      <td>0.989217</td>\n",
       "      <td>-0.462633</td>\n",
       "      <td>-1.947106</td>\n",
       "      <td>-0.739490</td>\n",
       "      <td>-1.806486</td>\n",
       "      <td>1.665095</td>\n",
       "      <td>1.820496</td>\n",
       "      <td>2.452574</td>\n",
       "      <td>2.387925</td>\n",
       "      <td>2.303101</td>\n",
       "      <td>2.219101</td>\n",
       "      <td>2.328071</td>\n",
       "      <td>2.452574</td>\n",
       "      <td>1.608643</td>\n",
       "      <td>3.586510</td>\n",
       "      <td>-1.254644</td>\n",
       "      <td>-1.533123</td>\n",
       "    </tr>\n",
       "  </tbody>\n",
       "</table>\n",
       "</div>"
      ],
      "text/plain": [
       "   Value of Exports (USD)  Value of Exports (ZAR)  Value of Imports (USD)  \\\n",
       "0               -1.341230               -1.820002                0.205077   \n",
       "1               -0.934909               -1.404295                0.248319   \n",
       "2               -0.704734               -1.173995                0.130057   \n",
       "3               -0.074046               -0.898842                1.007391   \n",
       "4                0.055500               -0.895220                0.989217   \n",
       "\n",
       "   Value of Imports (ZAR)  Total Reserves excl Gold (USD)  \\\n",
       "0               -1.124305                       -2.145276   \n",
       "1               -0.821735                       -2.057421   \n",
       "2               -0.751314                       -1.992313   \n",
       "3               -0.373843                       -1.961339   \n",
       "4               -0.462633                       -1.947106   \n",
       "\n",
       "   IMF Reserve Position (USD)  Foreign Exchange (USD)  \\\n",
       "0                   -0.740237               -2.040128   \n",
       "1                   -0.739864               -1.936778   \n",
       "2                   -0.739698               -1.861424   \n",
       "3                   -0.739781               -1.823519   \n",
       "4                   -0.739490               -1.806486   \n",
       "\n",
       "   Claims on Non-residents (USD)  Liabilities to Non-residents (USD)  \\\n",
       "0                       0.325086                           -0.356166   \n",
       "1                       2.106157                            1.670410   \n",
       "2                       1.395422                            0.836888   \n",
       "3                       1.195919                            1.029628   \n",
       "4                       1.665095                            1.820496   \n",
       "\n",
       "   Central Bank Policy Rate  Money Market Rate  Treasury Bill Rate  \\\n",
       "0                  2.195535           2.098427            2.225653   \n",
       "1                  2.195535           2.108767            2.136289   \n",
       "2                  2.195535           2.124275            2.052883   \n",
       "3                  2.452574           2.284533            2.106501   \n",
       "4                  2.452574           2.387925            2.303101   \n",
       "\n",
       "   Savings Rate  Deposit Rate  Lending Rate  Government Bonds  \\\n",
       "0      0.692028      2.036107      2.195535         -0.234691   \n",
       "1      1.529205      2.124739      2.195535          0.294266   \n",
       "2      1.536956      2.145593      2.195535          1.047628   \n",
       "3      1.676486      2.270721      2.452574          1.031600   \n",
       "4      2.219101      2.328071      2.452574          1.608643   \n",
       "\n",
       "   Financial Market Prices, Equities Index  Producer Price Index  \\\n",
       "0                                 2.625151             -1.613707   \n",
       "1                                 2.985518             -1.567326   \n",
       "2                                 3.209525             -1.498915   \n",
       "3                                 3.366412             -1.428184   \n",
       "4                                 3.586510             -1.254644   \n",
       "\n",
       "   Consumer Price Index  \n",
       "0             -1.690995  \n",
       "1             -1.667091  \n",
       "2             -1.604276  \n",
       "3             -1.572591  \n",
       "4             -1.533123  "
      ]
     },
     "execution_count": 8,
     "metadata": {},
     "output_type": "execute_result"
    }
   ],
   "source": [
    "X_standardize = pd.DataFrame(X_scaled,columns=X.columns)\n",
    "X_standardize.head()"
   ]
  },
  {
   "cell_type": "code",
   "execution_count": 9,
   "metadata": {},
   "outputs": [
    {
     "data": {
      "image/png": "[encoded data removed]",
      "text/plain": [
       "<Figure size 432x288 with 1 Axes>"
      ]
     },
     "metadata": {},
     "output_type": "display_data"
    }
   ],
   "source": [
    "plt.hist(X_standardize['Value of Exports (USD)'])\n",
    "plt.show()"
   ]
  },
  {
   "cell_type": "code",
   "execution_count": 10,
   "metadata": {},
   "outputs": [],
   "source": [
    "from sklearn.model_selection import train_test_split"
   ]
  },
  {
   "cell_type": "code",
   "execution_count": 11,
   "metadata": {},
   "outputs": [],
   "source": [
    "X_train, X_test, y_train, y_test = train_test_split(X_standardize, \n",
    "                                                    y, \n",
    "                                                    test_size=0.2, \n",
    "                                                    shuffle=False)"
   ]
  },
  {
   "cell_type": "code",
   "execution_count": 12,
   "metadata": {},
   "outputs": [],
   "source": [
    "from sklearn.linear_model import LassoCV"
   ]
  },
  {
   "cell_type": "code",
   "execution_count": 13,
   "metadata": {},
   "outputs": [
    {
     "name": "stdout",
     "output_type": "stream",
     "text": [
      "Computing regularization path using the coordinate descent lasso...\n"
     ]
    },
    {
     "name": "stderr",
     "output_type": "stream",
     "text": [
      "/home/james/anaconda3/lib/python3.6/site-packages/sklearn/linear_model/coordinate_descent.py:491: ConvergenceWarning: Objective did not converge. You might want to increase the number of iterations. Fitting data with very small alpha may cause precision problems.\n",
      "  ConvergenceWarning)\n",
      "/home/james/anaconda3/lib/python3.6/site-packages/sklearn/linear_model/coordinate_descent.py:491: ConvergenceWarning: Objective did not converge. You might want to increase the number of iterations. Fitting data with very small alpha may cause precision problems.\n",
      "  ConvergenceWarning)\n",
      "/home/james/anaconda3/lib/python3.6/site-packages/sklearn/linear_model/coordinate_descent.py:491: ConvergenceWarning: Objective did not converge. You might want to increase the number of iterations. Fitting data with very small alpha may cause precision problems.\n",
      "  ConvergenceWarning)\n",
      "/home/james/anaconda3/lib/python3.6/site-packages/sklearn/linear_model/coordinate_descent.py:491: ConvergenceWarning: Objective did not converge. You might want to increase the number of iterations. Fitting data with very small alpha may cause precision problems.\n",
      "  ConvergenceWarning)\n",
      "/home/james/anaconda3/lib/python3.6/site-packages/sklearn/linear_model/coordinate_descent.py:491: ConvergenceWarning: Objective did not converge. You might want to increase the number of iterations. Fitting data with very small alpha may cause precision problems.\n",
      "  ConvergenceWarning)\n",
      "/home/james/anaconda3/lib/python3.6/site-packages/sklearn/linear_model/coordinate_descent.py:491: ConvergenceWarning: Objective did not converge. You might want to increase the number of iterations. Fitting data with very small alpha may cause precision problems.\n",
      "  ConvergenceWarning)\n",
      "/home/james/anaconda3/lib/python3.6/site-packages/sklearn/linear_model/coordinate_descent.py:491: ConvergenceWarning: Objective did not converge. You might want to increase the number of iterations. Fitting data with very small alpha may cause precision problems.\n",
      "  ConvergenceWarning)\n",
      "/home/james/anaconda3/lib/python3.6/site-packages/sklearn/linear_model/coordinate_descent.py:491: ConvergenceWarning: Objective did not converge. You might want to increase the number of iterations. Fitting data with very small alpha may cause precision problems.\n",
      "  ConvergenceWarning)\n",
      "/home/james/anaconda3/lib/python3.6/site-packages/sklearn/linear_model/coordinate_descent.py:491: ConvergenceWarning: Objective did not converge. You might want to increase the number of iterations. Fitting data with very small alpha may cause precision problems.\n",
      "  ConvergenceWarning)\n",
      "/home/james/anaconda3/lib/python3.6/site-packages/sklearn/linear_model/coordinate_descent.py:491: ConvergenceWarning: Objective did not converge. You might want to increase the number of iterations. Fitting data with very small alpha may cause precision problems.\n",
      "  ConvergenceWarning)\n",
      "/home/james/anaconda3/lib/python3.6/site-packages/sklearn/linear_model/coordinate_descent.py:491: ConvergenceWarning: Objective did not converge. You might want to increase the number of iterations. Fitting data with very small alpha may cause precision problems.\n",
      "  ConvergenceWarning)\n",
      "/home/james/anaconda3/lib/python3.6/site-packages/sklearn/linear_model/coordinate_descent.py:491: ConvergenceWarning: Objective did not converge. You might want to increase the number of iterations. Fitting data with very small alpha may cause precision problems.\n",
      "  ConvergenceWarning)\n",
      "/home/james/anaconda3/lib/python3.6/site-packages/sklearn/linear_model/coordinate_descent.py:491: ConvergenceWarning: Objective did not converge. You might want to increase the number of iterations. Fitting data with very small alpha may cause precision problems.\n",
      "  ConvergenceWarning)\n",
      "/home/james/anaconda3/lib/python3.6/site-packages/sklearn/linear_model/coordinate_descent.py:491: ConvergenceWarning: Objective did not converge. You might want to increase the number of iterations. Fitting data with very small alpha may cause precision problems.\n",
      "  ConvergenceWarning)\n",
      "/home/james/anaconda3/lib/python3.6/site-packages/sklearn/linear_model/coordinate_descent.py:491: ConvergenceWarning: Objective did not converge. You might want to increase the number of iterations. Fitting data with very small alpha may cause precision problems.\n",
      "  ConvergenceWarning)\n",
      "/home/james/anaconda3/lib/python3.6/site-packages/sklearn/linear_model/coordinate_descent.py:491: ConvergenceWarning: Objective did not converge. You might want to increase the number of iterations. Fitting data with very small alpha may cause precision problems.\n",
      "  ConvergenceWarning)\n",
      "/home/james/anaconda3/lib/python3.6/site-packages/sklearn/linear_model/coordinate_descent.py:491: ConvergenceWarning: Objective did not converge. You might want to increase the number of iterations. Fitting data with very small alpha may cause precision problems.\n",
      "  ConvergenceWarning)\n",
      "/home/james/anaconda3/lib/python3.6/site-packages/sklearn/linear_model/coordinate_descent.py:491: ConvergenceWarning: Objective did not converge. You might want to increase the number of iterations. Fitting data with very small alpha may cause precision problems.\n",
      "  ConvergenceWarning)\n",
      "/home/james/anaconda3/lib/python3.6/site-packages/sklearn/linear_model/coordinate_descent.py:491: ConvergenceWarning: Objective did not converge. You might want to increase the number of iterations. Fitting data with very small alpha may cause precision problems.\n",
      "  ConvergenceWarning)\n",
      "/home/james/anaconda3/lib/python3.6/site-packages/sklearn/linear_model/coordinate_descent.py:491: ConvergenceWarning: Objective did not converge. You might want to increase the number of iterations. Fitting data with very small alpha may cause precision problems.\n",
      "  ConvergenceWarning)\n",
      "/home/james/anaconda3/lib/python3.6/site-packages/sklearn/linear_model/coordinate_descent.py:491: ConvergenceWarning: Objective did not converge. You might want to increase the number of iterations. Fitting data with very small alpha may cause precision problems.\n",
      "  ConvergenceWarning)\n",
      "/home/james/anaconda3/lib/python3.6/site-packages/sklearn/linear_model/coordinate_descent.py:491: ConvergenceWarning: Objective did not converge. You might want to increase the number of iterations. Fitting data with very small alpha may cause precision problems.\n",
      "  ConvergenceWarning)\n",
      "/home/james/anaconda3/lib/python3.6/site-packages/sklearn/linear_model/coordinate_descent.py:491: ConvergenceWarning: Objective did not converge. You might want to increase the number of iterations. Fitting data with very small alpha may cause precision problems.\n",
      "  ConvergenceWarning)\n",
      "/home/james/anaconda3/lib/python3.6/site-packages/sklearn/linear_model/coordinate_descent.py:491: ConvergenceWarning: Objective did not converge. You might want to increase the number of iterations. Fitting data with very small alpha may cause precision problems.\n",
      "  ConvergenceWarning)\n",
      "/home/james/anaconda3/lib/python3.6/site-packages/sklearn/linear_model/coordinate_descent.py:491: ConvergenceWarning: Objective did not converge. You might want to increase the number of iterations. Fitting data with very small alpha may cause precision problems.\n",
      "  ConvergenceWarning)\n",
      "/home/james/anaconda3/lib/python3.6/site-packages/sklearn/linear_model/coordinate_descent.py:491: ConvergenceWarning: Objective did not converge. You might want to increase the number of iterations. Fitting data with very small alpha may cause precision problems.\n",
      "  ConvergenceWarning)\n",
      "/home/james/anaconda3/lib/python3.6/site-packages/sklearn/linear_model/coordinate_descent.py:491: ConvergenceWarning: Objective did not converge. You might want to increase the number of iterations. Fitting data with very small alpha may cause precision problems.\n",
      "  ConvergenceWarning)\n",
      "/home/james/anaconda3/lib/python3.6/site-packages/sklearn/linear_model/coordinate_descent.py:491: ConvergenceWarning: Objective did not converge. You might want to increase the number of iterations. Fitting data with very small alpha may cause precision problems.\n",
      "  ConvergenceWarning)\n",
      "/home/james/anaconda3/lib/python3.6/site-packages/sklearn/linear_model/coordinate_descent.py:491: ConvergenceWarning: Objective did not converge. You might want to increase the number of iterations. Fitting data with very small alpha may cause precision problems.\n",
      "  ConvergenceWarning)\n",
      "/home/james/anaconda3/lib/python3.6/site-packages/sklearn/linear_model/coordinate_descent.py:491: ConvergenceWarning: Objective did not converge. You might want to increase the number of iterations. Fitting data with very small alpha may cause precision problems.\n",
      "  ConvergenceWarning)\n",
      "/home/james/anaconda3/lib/python3.6/site-packages/sklearn/linear_model/coordinate_descent.py:491: ConvergenceWarning: Objective did not converge. You might want to increase the number of iterations. Fitting data with very small alpha may cause precision problems.\n",
      "  ConvergenceWarning)\n",
      "/home/james/anaconda3/lib/python3.6/site-packages/sklearn/linear_model/coordinate_descent.py:491: ConvergenceWarning: Objective did not converge. You might want to increase the number of iterations. Fitting data with very small alpha may cause precision problems.\n",
      "  ConvergenceWarning)\n",
      "/home/james/anaconda3/lib/python3.6/site-packages/sklearn/linear_model/coordinate_descent.py:491: ConvergenceWarning: Objective did not converge. You might want to increase the number of iterations. Fitting data with very small alpha may cause precision problems.\n",
      "  ConvergenceWarning)\n",
      "/home/james/anaconda3/lib/python3.6/site-packages/sklearn/linear_model/coordinate_descent.py:491: ConvergenceWarning: Objective did not converge. You might want to increase the number of iterations. Fitting data with very small alpha may cause precision problems.\n",
      "  ConvergenceWarning)\n",
      "/home/james/anaconda3/lib/python3.6/site-packages/sklearn/linear_model/coordinate_descent.py:491: ConvergenceWarning: Objective did not converge. You might want to increase the number of iterations. Fitting data with very small alpha may cause precision problems.\n",
      "  ConvergenceWarning)\n",
      "/home/james/anaconda3/lib/python3.6/site-packages/sklearn/linear_model/coordinate_descent.py:491: ConvergenceWarning: Objective did not converge. You might want to increase the number of iterations. Fitting data with very small alpha may cause precision problems.\n",
      "  ConvergenceWarning)\n",
      "/home/james/anaconda3/lib/python3.6/site-packages/sklearn/linear_model/coordinate_descent.py:491: ConvergenceWarning: Objective did not converge. You might want to increase the number of iterations. Fitting data with very small alpha may cause precision problems.\n",
      "  ConvergenceWarning)\n",
      "/home/james/anaconda3/lib/python3.6/site-packages/sklearn/linear_model/coordinate_descent.py:491: ConvergenceWarning: Objective did not converge. You might want to increase the number of iterations. Fitting data with very small alpha may cause precision problems.\n",
      "  ConvergenceWarning)\n",
      "/home/james/anaconda3/lib/python3.6/site-packages/sklearn/linear_model/coordinate_descent.py:491: ConvergenceWarning: Objective did not converge. You might want to increase the number of iterations. Fitting data with very small alpha may cause precision problems.\n",
      "  ConvergenceWarning)\n",
      "/home/james/anaconda3/lib/python3.6/site-packages/sklearn/linear_model/coordinate_descent.py:491: ConvergenceWarning: Objective did not converge. You might want to increase the number of iterations. Fitting data with very small alpha may cause precision problems.\n",
      "  ConvergenceWarning)\n",
      "/home/james/anaconda3/lib/python3.6/site-packages/sklearn/linear_model/coordinate_descent.py:491: ConvergenceWarning: Objective did not converge. You might want to increase the number of iterations. Fitting data with very small alpha may cause precision problems.\n",
      "  ConvergenceWarning)\n",
      "/home/james/anaconda3/lib/python3.6/site-packages/sklearn/linear_model/coordinate_descent.py:491: ConvergenceWarning: Objective did not converge. You might want to increase the number of iterations. Fitting data with very small alpha may cause precision problems.\n",
      "  ConvergenceWarning)\n",
      "/home/james/anaconda3/lib/python3.6/site-packages/sklearn/linear_model/coordinate_descent.py:491: ConvergenceWarning: Objective did not converge. You might want to increase the number of iterations. Fitting data with very small alpha may cause precision problems.\n",
      "  ConvergenceWarning)\n",
      "/home/james/anaconda3/lib/python3.6/site-packages/sklearn/linear_model/coordinate_descent.py:491: ConvergenceWarning: Objective did not converge. You might want to increase the number of iterations. Fitting data with very small alpha may cause precision problems.\n",
      "  ConvergenceWarning)\n",
      "/home/james/anaconda3/lib/python3.6/site-packages/sklearn/linear_model/coordinate_descent.py:491: ConvergenceWarning: Objective did not converge. You might want to increase the number of iterations. Fitting data with very small alpha may cause precision problems.\n",
      "  ConvergenceWarning)\n",
      "/home/james/anaconda3/lib/python3.6/site-packages/sklearn/linear_model/coordinate_descent.py:491: ConvergenceWarning: Objective did not converge. You might want to increase the number of iterations. Fitting data with very small alpha may cause precision problems.\n",
      "  ConvergenceWarning)\n",
      "/home/james/anaconda3/lib/python3.6/site-packages/sklearn/linear_model/coordinate_descent.py:491: ConvergenceWarning: Objective did not converge. You might want to increase the number of iterations. Fitting data with very small alpha may cause precision problems.\n",
      "  ConvergenceWarning)\n",
      "/home/james/anaconda3/lib/python3.6/site-packages/sklearn/linear_model/coordinate_descent.py:491: ConvergenceWarning: Objective did not converge. You might want to increase the number of iterations. Fitting data with very small alpha may cause precision problems.\n",
      "  ConvergenceWarning)\n",
      "/home/james/anaconda3/lib/python3.6/site-packages/sklearn/linear_model/coordinate_descent.py:491: ConvergenceWarning: Objective did not converge. You might want to increase the number of iterations. Fitting data with very small alpha may cause precision problems.\n",
      "  ConvergenceWarning)\n",
      "/home/james/anaconda3/lib/python3.6/site-packages/sklearn/linear_model/coordinate_descent.py:491: ConvergenceWarning: Objective did not converge. You might want to increase the number of iterations. Fitting data with very small alpha may cause precision problems.\n",
      "  ConvergenceWarning)\n",
      "/home/james/anaconda3/lib/python3.6/site-packages/sklearn/linear_model/coordinate_descent.py:491: ConvergenceWarning: Objective did not converge. You might want to increase the number of iterations. Fitting data with very small alpha may cause precision problems.\n",
      "  ConvergenceWarning)\n",
      "/home/james/anaconda3/lib/python3.6/site-packages/sklearn/linear_model/coordinate_descent.py:491: ConvergenceWarning: Objective did not converge. You might want to increase the number of iterations. Fitting data with very small alpha may cause precision problems.\n",
      "  ConvergenceWarning)\n",
      "/home/james/anaconda3/lib/python3.6/site-packages/sklearn/linear_model/coordinate_descent.py:491: ConvergenceWarning: Objective did not converge. You might want to increase the number of iterations. Fitting data with very small alpha may cause precision problems.\n",
      "  ConvergenceWarning)\n",
      "/home/james/anaconda3/lib/python3.6/site-packages/sklearn/linear_model/coordinate_descent.py:491: ConvergenceWarning: Objective did not converge. You might want to increase the number of iterations. Fitting data with very small alpha may cause precision problems.\n",
      "  ConvergenceWarning)\n",
      "/home/james/anaconda3/lib/python3.6/site-packages/sklearn/linear_model/coordinate_descent.py:491: ConvergenceWarning: Objective did not converge. You might want to increase the number of iterations. Fitting data with very small alpha may cause precision problems.\n",
      "  ConvergenceWarning)\n",
      "/home/james/anaconda3/lib/python3.6/site-packages/sklearn/linear_model/coordinate_descent.py:491: ConvergenceWarning: Objective did not converge. You might want to increase the number of iterations. Fitting data with very small alpha may cause precision problems.\n",
      "  ConvergenceWarning)\n",
      "/home/james/anaconda3/lib/python3.6/site-packages/sklearn/linear_model/coordinate_descent.py:491: ConvergenceWarning: Objective did not converge. You might want to increase the number of iterations. Fitting data with very small alpha may cause precision problems.\n",
      "  ConvergenceWarning)\n",
      "/home/james/anaconda3/lib/python3.6/site-packages/sklearn/linear_model/coordinate_descent.py:491: ConvergenceWarning: Objective did not converge. You might want to increase the number of iterations. Fitting data with very small alpha may cause precision problems.\n",
      "  ConvergenceWarning)\n",
      "/home/james/anaconda3/lib/python3.6/site-packages/sklearn/linear_model/coordinate_descent.py:491: ConvergenceWarning: Objective did not converge. You might want to increase the number of iterations. Fitting data with very small alpha may cause precision problems.\n",
      "  ConvergenceWarning)\n",
      "/home/james/anaconda3/lib/python3.6/site-packages/sklearn/linear_model/coordinate_descent.py:491: ConvergenceWarning: Objective did not converge. You might want to increase the number of iterations. Fitting data with very small alpha may cause precision problems.\n",
      "  ConvergenceWarning)\n",
      "/home/james/anaconda3/lib/python3.6/site-packages/sklearn/linear_model/coordinate_descent.py:491: ConvergenceWarning: Objective did not converge. You might want to increase the number of iterations. Fitting data with very small alpha may cause precision problems.\n",
      "  ConvergenceWarning)\n",
      "/home/james/anaconda3/lib/python3.6/site-packages/sklearn/linear_model/coordinate_descent.py:491: ConvergenceWarning: Objective did not converge. You might want to increase the number of iterations. Fitting data with very small alpha may cause precision problems.\n",
      "  ConvergenceWarning)\n",
      "/home/james/anaconda3/lib/python3.6/site-packages/sklearn/linear_model/coordinate_descent.py:491: ConvergenceWarning: Objective did not converge. You might want to increase the number of iterations. Fitting data with very small alpha may cause precision problems.\n",
      "  ConvergenceWarning)\n",
      "/home/james/anaconda3/lib/python3.6/site-packages/sklearn/linear_model/coordinate_descent.py:491: ConvergenceWarning: Objective did not converge. You might want to increase the number of iterations. Fitting data with very small alpha may cause precision problems.\n",
      "  ConvergenceWarning)\n",
      "/home/james/anaconda3/lib/python3.6/site-packages/sklearn/linear_model/coordinate_descent.py:491: ConvergenceWarning: Objective did not converge. You might want to increase the number of iterations. Fitting data with very small alpha may cause precision problems.\n",
      "  ConvergenceWarning)\n",
      "/home/james/anaconda3/lib/python3.6/site-packages/sklearn/linear_model/coordinate_descent.py:491: ConvergenceWarning: Objective did not converge. You might want to increase the number of iterations. Fitting data with very small alpha may cause precision problems.\n",
      "  ConvergenceWarning)\n",
      "/home/james/anaconda3/lib/python3.6/site-packages/sklearn/linear_model/coordinate_descent.py:491: ConvergenceWarning: Objective did not converge. You might want to increase the number of iterations. Fitting data with very small alpha may cause precision problems.\n",
      "  ConvergenceWarning)\n",
      "/home/james/anaconda3/lib/python3.6/site-packages/sklearn/linear_model/coordinate_descent.py:491: ConvergenceWarning: Objective did not converge. You might want to increase the number of iterations. Fitting data with very small alpha may cause precision problems.\n",
      "  ConvergenceWarning)\n",
      "/home/james/anaconda3/lib/python3.6/site-packages/sklearn/linear_model/coordinate_descent.py:491: ConvergenceWarning: Objective did not converge. You might want to increase the number of iterations. Fitting data with very small alpha may cause precision problems.\n",
      "  ConvergenceWarning)\n",
      "/home/james/anaconda3/lib/python3.6/site-packages/sklearn/linear_model/coordinate_descent.py:491: ConvergenceWarning: Objective did not converge. You might want to increase the number of iterations. Fitting data with very small alpha may cause precision problems.\n",
      "  ConvergenceWarning)\n",
      "/home/james/anaconda3/lib/python3.6/site-packages/sklearn/linear_model/coordinate_descent.py:491: ConvergenceWarning: Objective did not converge. You might want to increase the number of iterations. Fitting data with very small alpha may cause precision problems.\n",
      "  ConvergenceWarning)\n",
      "/home/james/anaconda3/lib/python3.6/site-packages/sklearn/linear_model/coordinate_descent.py:491: ConvergenceWarning: Objective did not converge. You might want to increase the number of iterations. Fitting data with very small alpha may cause precision problems.\n",
      "  ConvergenceWarning)\n",
      "/home/james/anaconda3/lib/python3.6/site-packages/sklearn/linear_model/coordinate_descent.py:491: ConvergenceWarning: Objective did not converge. You might want to increase the number of iterations. Fitting data with very small alpha may cause precision problems.\n",
      "  ConvergenceWarning)\n",
      "/home/james/anaconda3/lib/python3.6/site-packages/sklearn/linear_model/coordinate_descent.py:491: ConvergenceWarning: Objective did not converge. You might want to increase the number of iterations. Fitting data with very small alpha may cause precision problems.\n",
      "  ConvergenceWarning)\n",
      "/home/james/anaconda3/lib/python3.6/site-packages/sklearn/linear_model/coordinate_descent.py:491: ConvergenceWarning: Objective did not converge. You might want to increase the number of iterations. Fitting data with very small alpha may cause precision problems.\n",
      "  ConvergenceWarning)\n",
      "/home/james/anaconda3/lib/python3.6/site-packages/sklearn/linear_model/coordinate_descent.py:491: ConvergenceWarning: Objective did not converge. You might want to increase the number of iterations. Fitting data with very small alpha may cause precision problems.\n",
      "  ConvergenceWarning)\n",
      "/home/james/anaconda3/lib/python3.6/site-packages/sklearn/linear_model/coordinate_descent.py:491: ConvergenceWarning: Objective did not converge. You might want to increase the number of iterations. Fitting data with very small alpha may cause precision problems.\n",
      "  ConvergenceWarning)\n",
      "/home/james/anaconda3/lib/python3.6/site-packages/sklearn/linear_model/coordinate_descent.py:491: ConvergenceWarning: Objective did not converge. You might want to increase the number of iterations. Fitting data with very small alpha may cause precision problems.\n",
      "  ConvergenceWarning)\n",
      "/home/james/anaconda3/lib/python3.6/site-packages/sklearn/linear_model/coordinate_descent.py:491: ConvergenceWarning: Objective did not converge. You might want to increase the number of iterations. Fitting data with very small alpha may cause precision problems.\n",
      "  ConvergenceWarning)\n",
      "/home/james/anaconda3/lib/python3.6/site-packages/sklearn/linear_model/coordinate_descent.py:491: ConvergenceWarning: Objective did not converge. You might want to increase the number of iterations. Fitting data with very small alpha may cause precision problems.\n",
      "  ConvergenceWarning)\n",
      "/home/james/anaconda3/lib/python3.6/site-packages/sklearn/linear_model/coordinate_descent.py:491: ConvergenceWarning: Objective did not converge. You might want to increase the number of iterations. Fitting data with very small alpha may cause precision problems.\n",
      "  ConvergenceWarning)\n"
     ]
    },
    {
     "data": {
      "image/png": "[encoded data removed]",
      "text/plain": [
       "<Figure size 432x288 with 1 Axes>"
      ]
     },
     "metadata": {},
     "output_type": "display_data"
    }
   ],
   "source": [
    "import time\n",
    "# Compute paths\n",
    "print(\"Computing regularization path using the coordinate descent lasso...\")\n",
    "t1 = time.time()\n",
    "model = LassoCV(cv=5,\n",
    "               alphas=np.logspace(-3, -0.5, 20)).fit(X, y)\n",
    "t_lasso_cv = time.time() - t1\n",
    "\n",
    "# Display results\n",
    "m_log_alphas = -np.log10(model.alphas_)\n",
    "\n",
    "plt.figure()\n",
    "plt.plot(m_log_alphas, model.mse_path_, ':')\n",
    "plt.plot(m_log_alphas, model.mse_path_.mean(axis=-1), 'k',\n",
    "         label='Average across the folds', linewidth=2)\n",
    "plt.axvline(-np.log10(model.alpha_), linestyle='--', color='k',\n",
    "            label='alpha: CV estimate')\n",
    "\n",
    "plt.legend()\n",
    "\n",
    "plt.xlabel('-log(alpha)')\n",
    "plt.ylabel('Mean square error')\n",
    "plt.title('Mean square error on each fold: coordinate descent '\n",
    "          '(train time: %.2fs)' % t_lasso_cv)\n",
    "plt.axis('tight')\n",
    "plt.show()"
   ]
  },
  {
   "cell_type": "code",
   "execution_count": 14,
   "metadata": {},
   "outputs": [
    {
     "data": {
      "text/plain": [
       "0.31622776601683794"
      ]
     },
     "execution_count": 14,
     "metadata": {},
     "output_type": "execute_result"
    }
   ],
   "source": [
    "model.alpha_"
   ]
  },
  {
   "cell_type": "markdown",
   "metadata": {},
   "source": [
    "# INCOMPLETE"
   ]
  },
  {
   "cell_type": "code",
   "execution_count": 15,
   "metadata": {},
   "outputs": [
    {
     "data": {
      "text/plain": [
       "sklearn.linear_model.coordinate_descent.LassoCV"
      ]
     },
     "execution_count": 15,
     "metadata": {},
     "output_type": "execute_result"
    }
   ],
   "source": [
    "LassoCV"
   ]
  },
  {
   "cell_type": "code",
   "execution_count": 16,
   "metadata": {},
   "outputs": [
    {
     "ename": "NameError",
     "evalue": "name 'Lasso' is not defined",
     "output_type": "error",
     "traceback": [
      "\u001b[0;31m---------------------------------------------------------------------------\u001b[0m",
      "\u001b[0;31mNameError\u001b[0m                                 Traceback (most recent call last)",
      "\u001b[0;32m<ipython-input-16-57ec00706d97>\u001b[0m in \u001b[0;36m<module>\u001b[0;34m()\u001b[0m\n\u001b[0;32m----> 1\u001b[0;31m \u001b[0mlasso\u001b[0m \u001b[0;34m=\u001b[0m \u001b[0mLasso\u001b[0m\u001b[0;34m(\u001b[0m\u001b[0mrandom_state\u001b[0m\u001b[0;34m=\u001b[0m\u001b[0;36m0\u001b[0m\u001b[0;34m)\u001b[0m\u001b[0;34m\u001b[0m\u001b[0m\n\u001b[0m",
      "\u001b[0;31mNameError\u001b[0m: name 'Lasso' is not defined"
     ]
    }
   ],
   "source": [
    "lasso = Lasso(random_state=0)"
   ]
  },
  {
   "cell_type": "code",
   "execution_count": null,
   "metadata": {},
   "outputs": [],
   "source": [
    "alphas = np.logspace(-2, -0.5, 20)"
   ]
  },
  {
   "cell_type": "code",
   "execution_count": null,
   "metadata": {},
   "outputs": [],
   "source": [
    "alphas"
   ]
  },
  {
   "cell_type": "code",
   "execution_count": null,
   "metadata": {},
   "outputs": [],
   "source": [
    "tuned_parameters = [{'alpha': alphas}]\n",
    "n_folds = 10"
   ]
  },
  {
   "cell_type": "code",
   "execution_count": null,
   "metadata": {},
   "outputs": [],
   "source": [
    "scoring = {'MSE' : make_scorer(mean_squared_error)}\n",
    "\n",
    "clf = GridSearchCV(lasso, \n",
    "                   tuned_parameters, \n",
    "                   cv=n_folds,\n",
    "                   scoring='neg_mean_squared_error',\n",
    "                   refit=False)\n",
    "\n",
    "clf.fit(X_standardize, y)\n",
    "\n",
    "scores = clf.cv_results_['mean_test_score']"
   ]
  },
  {
   "cell_type": "code",
   "execution_count": null,
   "metadata": {},
   "outputs": [],
   "source": [
    "scores"
   ]
  },
  {
   "cell_type": "code",
   "execution_count": null,
   "metadata": {},
   "outputs": [],
   "source": [
    "plt.figure().set_size_inches(8, 6)\n",
    "plt.semilogx(alphas, scores)\n",
    "\n",
    "\n",
    "plt.ylabel('CV score')\n",
    "plt.xlabel('alpha')\n",
    "plt.axhline(np.max(scores), linestyle='--', color='.5')\n",
    "plt.xlim([alphas[0], alphas[-1]])\n",
    "plt.show()"
   ]
  },
  {
   "cell_type": "code",
   "execution_count": null,
   "metadata": {},
   "outputs": [],
   "source": [
    "lasso.fit(X_train, y_train)"
   ]
  },
  {
   "cell_type": "code",
   "execution_count": null,
   "metadata": {},
   "outputs": [],
   "source": [
    "a = float(lasso.intercept_)"
   ]
  },
  {
   "cell_type": "code",
   "execution_count": null,
   "metadata": {},
   "outputs": [],
   "source": [
    "b = pd.DataFrame(lasso.coef_, X.columns, columns=['Coefficient'])"
   ]
  },
  {
   "cell_type": "code",
   "execution_count": null,
   "metadata": {},
   "outputs": [],
   "source": [
    "a"
   ]
  },
  {
   "cell_type": "code",
   "execution_count": null,
   "metadata": {},
   "outputs": [],
   "source": [
    "b"
   ]
  },
  {
   "cell_type": "code",
   "execution_count": null,
   "metadata": {},
   "outputs": [],
   "source": [
    "from sklearn import metrics"
   ]
  },
  {
   "cell_type": "code",
   "execution_count": null,
   "metadata": {},
   "outputs": [],
   "source": [
    "train_lasso = lasso.predict(X_train)\n",
    "\n",
    "print('MSE (train)')\n",
    "print('Linear:', metrics.mean_squared_error(y_train, train_lasso))"
   ]
  },
  {
   "cell_type": "code",
   "execution_count": null,
   "metadata": {},
   "outputs": [],
   "source": [
    "test_lasso = lasso.predict(X_test)\n",
    "\n",
    "print('MSE (test)')\n",
    "print('Linear:', metrics.mean_squared_error(y_test, test_lasso))"
   ]
  },
  {
   "cell_type": "code",
   "execution_count": null,
   "metadata": {},
   "outputs": [],
   "source": [
    "# we want to plot the train and test response variables as a continuous line\n",
    "train_plot = y_train.append(pd.Series(y_test[0], index=['2016M01']))"
   ]
  },
  {
   "cell_type": "code",
   "execution_count": null,
   "metadata": {},
   "outputs": [],
   "source": [
    "plt.plot(np.arange(len(y)), lasso.predict(X), label='Predicted')\n",
    "plt.plot(np.arange(len(train_plot)), train_plot, label='Training')\n",
    "plt.plot(np.arange(len(y_test))+len(y_train), y_test, label='Testing')\n",
    "plt.legend()\n",
    "\n",
    "plt.show()"
   ]
  }
 ],
 "metadata": {
  "kernelspec": {
   "display_name": "Python 3",
   "language": "python",
   "name": "python3"
  },
  "language_info": {
   "codemirror_mode": {
    "name": "ipython",
    "version": 3
   },
   "file_extension": ".py",
   "mimetype": "text/x-python",
   "name": "python",
   "nbconvert_exporter": "python",
   "pygments_lexer": "ipython3",
   "version": "3.6.6"
  }
 },
 "nbformat": 4,
 "nbformat_minor": 2
}
