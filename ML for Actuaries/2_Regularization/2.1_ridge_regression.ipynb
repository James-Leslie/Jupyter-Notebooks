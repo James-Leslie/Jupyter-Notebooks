{
 "cells": [
  {
   "cell_type": "markdown",
   "metadata": {},
   "source": [
    "# Ridge Regression using SciKit-Learn\n",
    "----   "
   ]
  },
  {
   "cell_type": "markdown",
   "metadata": {},
   "source": [
    "## Regularization in 5 minutes\n",
    "Before we get started with the code in this module, let's go through quickly go through the theory behind regularization.   \n",
    "\n",
    "If you covered the previous module on [Linear Regression](https://www.youtube.com/watch?v=cSKzqb0EKS0), you will remember that we performed manual variable selection to improve the predictive accuracy of our model. This process of variable selection is discrete in that we will either keep a variable, or we will throw it away.   \n",
    "\n",
    "Regularization offers an alternative method in which all predictor variables are included, but are subject to constraint. You will (hopefully) remember from the previous module that the least squares method seeks to minimise the sum of the squares of the residuals.\n",
    "\n",
    "$$RSS = \\sum_{i=1}^n(y_i-\\hat{y}_i)^2$$   \n",
    "\n",
    "which can be written in terms of the predictor variable coefficients, [$b_1, b_2, b_p$], and slope, $a$:   \n",
    "\n",
    "$$RSS = \\sum_{i=1}^n(y_i-(a+\\sum_{j=1}^pb_jx_{ij}))^2$$   \n"
   ]
  },
  {
   "cell_type": "markdown",
   "metadata": {},
   "source": [
    "In the case of ridge regression, the regression coefficients are calculated as the values that minimise:   \n",
    "$$\\sum_{i=1}^n(y_i-(a+\\sum_{j=1}^pb_jx_{ij}))^2 + \\alpha\\sum_{j=1}^pb_j^2$$   \n",
    "which is just simply:\n",
    "$$RSS + \\alpha\\sum_{j=1}^pb_j^2$$   "
   ]
  },
  {
   "cell_type": "markdown",
   "metadata": {},
   "source": [
    "$\\alpha$ above is a tuning parameter (which we'll need to determine - more on this later) which affects how much the regression coefficients are penalised. The effect of this penalty parameter is that it creates a tradeoff between a coefficient's contribution to minimizing RSS and its size, i.e. **training fit** vs **size of coefficients**.   \n",
    "\n",
    "Looking at the equation above, we can see that the penalty parameter is applied to the sum of the squares of the coefficients. So naturally, as we increase the size of the coefficients, the penalty will increase too. And so, this has the effect of *shrinking* the coefficients towards zero.   \n",
    "![tradeoff](./images/tradeoff.png)"
   ]
  },
  {
   "cell_type": "markdown",
   "metadata": {},
   "source": [
    "So, with all of that in mind, let's do some Ridge Regression and find out if we can improve our results."
   ]
  },
  {
   "cell_type": "markdown",
   "metadata": {},
   "source": [
    "## Getting started\n",
    "To begin, as usual, we will need to import a few Python libraries:"
   ]
  },
  {
   "cell_type": "code",
   "execution_count": 1,
   "metadata": {},
   "outputs": [],
   "source": [
    "import numpy as np\n",
    "import pandas as pd\n",
    "import matplotlib.pyplot as plt\n",
    "import seaborn as sns"
   ]
  },
  {
   "cell_type": "markdown",
   "metadata": {},
   "source": [
    "**Next** we will load our data as a Pandas DataFrame."
   ]
  },
  {
   "cell_type": "code",
   "execution_count": 2,
   "metadata": {},
   "outputs": [
    {
     "data": {
      "text/html": [
       "<div>\n",
       "<style>\n",
       "    .dataframe thead tr:only-child th {\n",
       "        text-align: right;\n",
       "    }\n",
       "\n",
       "    .dataframe thead th {\n",
       "        text-align: left;\n",
       "    }\n",
       "\n",
       "    .dataframe tbody tr th {\n",
       "        vertical-align: top;\n",
       "    }\n",
       "</style>\n",
       "<table border=\"1\" class=\"dataframe\">\n",
       "  <thead>\n",
       "    <tr style=\"text-align: right;\">\n",
       "      <th></th>\n",
       "      <th>ZAR/USD</th>\n",
       "      <th>Value of Exports (USD)</th>\n",
       "      <th>Value of Exports (ZAR)</th>\n",
       "      <th>Value of Imports (USD)</th>\n",
       "      <th>Value of Imports (ZAR)</th>\n",
       "      <th>Total Reserves excl Gold (USD)</th>\n",
       "      <th>IMF Reserve Position (USD)</th>\n",
       "      <th>Foreign Exchange (USD)</th>\n",
       "      <th>Claims on Non-residents (USD)</th>\n",
       "      <th>Liabilities to Non-residents (USD)</th>\n",
       "      <th>Central Bank Policy Rate</th>\n",
       "      <th>Money Market Rate</th>\n",
       "      <th>Treasury Bill Rate</th>\n",
       "      <th>Savings Rate</th>\n",
       "      <th>Deposit Rate</th>\n",
       "      <th>Lending Rate</th>\n",
       "      <th>Government Bonds</th>\n",
       "      <th>Financial Market Prices, Equities Index</th>\n",
       "      <th>Producer Price Index</th>\n",
       "      <th>Consumer Price Index</th>\n",
       "    </tr>\n",
       "  </thead>\n",
       "  <tbody>\n",
       "    <tr>\n",
       "      <th>2008M01</th>\n",
       "      <td>7.01</td>\n",
       "      <td>5611.90</td>\n",
       "      <td>39356.82</td>\n",
       "      <td>8105.11</td>\n",
       "      <td>56841.94</td>\n",
       "      <td>29884.51</td>\n",
       "      <td>1.92</td>\n",
       "      <td>29526.78</td>\n",
       "      <td>51547.61</td>\n",
       "      <td>37752.29</td>\n",
       "      <td>11.0</td>\n",
       "      <td>10.64</td>\n",
       "      <td>10.47</td>\n",
       "      <td>4.53</td>\n",
       "      <td>10.83</td>\n",
       "      <td>14.5</td>\n",
       "      <td>8.36</td>\n",
       "      <td>312.97</td>\n",
       "      <td>86.03</td>\n",
       "      <td>85.48</td>\n",
       "    </tr>\n",
       "    <tr>\n",
       "      <th>2008M02</th>\n",
       "      <td>7.66</td>\n",
       "      <td>6126.16</td>\n",
       "      <td>46946.33</td>\n",
       "      <td>8159.43</td>\n",
       "      <td>62527.78</td>\n",
       "      <td>30304.31</td>\n",
       "      <td>2.01</td>\n",
       "      <td>29943.04</td>\n",
       "      <td>59702.31</td>\n",
       "      <td>45927.67</td>\n",
       "      <td>11.0</td>\n",
       "      <td>10.66</td>\n",
       "      <td>10.32</td>\n",
       "      <td>5.61</td>\n",
       "      <td>11.00</td>\n",
       "      <td>14.5</td>\n",
       "      <td>8.69</td>\n",
       "      <td>335.09</td>\n",
       "      <td>87.23</td>\n",
       "      <td>85.91</td>\n",
       "    </tr>\n",
       "    <tr>\n",
       "      <th>2008M03</th>\n",
       "      <td>7.97</td>\n",
       "      <td>6417.48</td>\n",
       "      <td>51150.89</td>\n",
       "      <td>8010.87</td>\n",
       "      <td>63851.12</td>\n",
       "      <td>30615.42</td>\n",
       "      <td>2.05</td>\n",
       "      <td>30246.54</td>\n",
       "      <td>56448.18</td>\n",
       "      <td>42565.17</td>\n",
       "      <td>11.0</td>\n",
       "      <td>10.69</td>\n",
       "      <td>10.18</td>\n",
       "      <td>5.62</td>\n",
       "      <td>11.04</td>\n",
       "      <td>14.5</td>\n",
       "      <td>9.16</td>\n",
       "      <td>348.84</td>\n",
       "      <td>89.00</td>\n",
       "      <td>87.04</td>\n",
       "    </tr>\n",
       "    <tr>\n",
       "      <th>2008M04</th>\n",
       "      <td>7.79</td>\n",
       "      <td>7215.71</td>\n",
       "      <td>56174.34</td>\n",
       "      <td>9112.97</td>\n",
       "      <td>70944.49</td>\n",
       "      <td>30763.42</td>\n",
       "      <td>2.03</td>\n",
       "      <td>30399.21</td>\n",
       "      <td>55534.75</td>\n",
       "      <td>43342.70</td>\n",
       "      <td>11.5</td>\n",
       "      <td>11.00</td>\n",
       "      <td>10.27</td>\n",
       "      <td>5.80</td>\n",
       "      <td>11.28</td>\n",
       "      <td>15.0</td>\n",
       "      <td>9.15</td>\n",
       "      <td>358.47</td>\n",
       "      <td>90.83</td>\n",
       "      <td>87.61</td>\n",
       "    </tr>\n",
       "    <tr>\n",
       "      <th>2008M05</th>\n",
       "      <td>7.62</td>\n",
       "      <td>7379.67</td>\n",
       "      <td>56240.45</td>\n",
       "      <td>9090.14</td>\n",
       "      <td>69275.97</td>\n",
       "      <td>30831.43</td>\n",
       "      <td>2.10</td>\n",
       "      <td>30467.81</td>\n",
       "      <td>57682.89</td>\n",
       "      <td>46533.13</td>\n",
       "      <td>11.5</td>\n",
       "      <td>11.20</td>\n",
       "      <td>10.60</td>\n",
       "      <td>6.50</td>\n",
       "      <td>11.39</td>\n",
       "      <td>15.0</td>\n",
       "      <td>9.51</td>\n",
       "      <td>371.98</td>\n",
       "      <td>95.32</td>\n",
       "      <td>88.32</td>\n",
       "    </tr>\n",
       "  </tbody>\n",
       "</table>\n",
       "</div>"
      ],
      "text/plain": [
       "         ZAR/USD  Value of Exports (USD)  Value of Exports (ZAR)  \\\n",
       "2008M01     7.01                 5611.90                39356.82   \n",
       "2008M02     7.66                 6126.16                46946.33   \n",
       "2008M03     7.97                 6417.48                51150.89   \n",
       "2008M04     7.79                 7215.71                56174.34   \n",
       "2008M05     7.62                 7379.67                56240.45   \n",
       "\n",
       "         Value of Imports (USD)  Value of Imports (ZAR)  \\\n",
       "2008M01                 8105.11                56841.94   \n",
       "2008M02                 8159.43                62527.78   \n",
       "2008M03                 8010.87                63851.12   \n",
       "2008M04                 9112.97                70944.49   \n",
       "2008M05                 9090.14                69275.97   \n",
       "\n",
       "         Total Reserves excl Gold (USD)  IMF Reserve Position (USD)  \\\n",
       "2008M01                        29884.51                        1.92   \n",
       "2008M02                        30304.31                        2.01   \n",
       "2008M03                        30615.42                        2.05   \n",
       "2008M04                        30763.42                        2.03   \n",
       "2008M05                        30831.43                        2.10   \n",
       "\n",
       "         Foreign Exchange (USD)  Claims on Non-residents (USD)  \\\n",
       "2008M01                29526.78                       51547.61   \n",
       "2008M02                29943.04                       59702.31   \n",
       "2008M03                30246.54                       56448.18   \n",
       "2008M04                30399.21                       55534.75   \n",
       "2008M05                30467.81                       57682.89   \n",
       "\n",
       "         Liabilities to Non-residents (USD)  Central Bank Policy Rate  \\\n",
       "2008M01                            37752.29                      11.0   \n",
       "2008M02                            45927.67                      11.0   \n",
       "2008M03                            42565.17                      11.0   \n",
       "2008M04                            43342.70                      11.5   \n",
       "2008M05                            46533.13                      11.5   \n",
       "\n",
       "         Money Market Rate  Treasury Bill Rate  Savings Rate  Deposit Rate  \\\n",
       "2008M01              10.64               10.47          4.53         10.83   \n",
       "2008M02              10.66               10.32          5.61         11.00   \n",
       "2008M03              10.69               10.18          5.62         11.04   \n",
       "2008M04              11.00               10.27          5.80         11.28   \n",
       "2008M05              11.20               10.60          6.50         11.39   \n",
       "\n",
       "         Lending Rate  Government Bonds  \\\n",
       "2008M01          14.5              8.36   \n",
       "2008M02          14.5              8.69   \n",
       "2008M03          14.5              9.16   \n",
       "2008M04          15.0              9.15   \n",
       "2008M05          15.0              9.51   \n",
       "\n",
       "         Financial Market Prices, Equities Index  Producer Price Index  \\\n",
       "2008M01                                   312.97                 86.03   \n",
       "2008M02                                   335.09                 87.23   \n",
       "2008M03                                   348.84                 89.00   \n",
       "2008M04                                   358.47                 90.83   \n",
       "2008M05                                   371.98                 95.32   \n",
       "\n",
       "         Consumer Price Index  \n",
       "2008M01                 85.48  \n",
       "2008M02                 85.91  \n",
       "2008M03                 87.04  \n",
       "2008M04                 87.61  \n",
       "2008M05                 88.32  "
      ]
     },
     "execution_count": 2,
     "metadata": {},
     "output_type": "execute_result"
    }
   ],
   "source": [
    "df = pd.read_csv('data_2.csv', index_col=0)\n",
    "df.head()"
   ]
  },
  {
   "cell_type": "code",
   "execution_count": 3,
   "metadata": {},
   "outputs": [
    {
     "data": {
      "text/plain": [
       "(120, 20)"
      ]
     },
     "execution_count": 3,
     "metadata": {},
     "output_type": "execute_result"
    }
   ],
   "source": [
    "df.shape"
   ]
  },
  {
   "cell_type": "markdown",
   "metadata": {},
   "source": [
    "We will be using a dataset which contains monthly data for the Rand/Dollar exchange rate, as well as a few potential predictor variables. In this case, the goal is to try and model the exchange rate, using the other 19 variables.   \n",
    "\n",
    "Here our model is:   \n",
    "\n",
    "$$Y = \\beta_0 + \\beta_1X_1 + \\beta_2X_2 + ... + \\beta_pX_p$$   \n",
    "\n",
    "In this case, $Y$ is the reponse variable which depends on the $p$ predictor variables."
   ]
  },
  {
   "cell_type": "markdown",
   "metadata": {},
   "source": [
    "## Preprocessing\n",
    "We can see in the data above that the variables have different scales. For example, we have many variables which are monetary and have values in the tens of the thousands; whereas other variables are rates which are on a percentage scale.   \n",
    "\n",
    "Regularization puts constraints on the size of the coefficients related to each variable. Rescaling is very important for methods with regularization because the size of the variables affects how much regularization (size of penalty) will be applied to that specific variable. So to make it fair, we need to get all the features on the same scale.\n",
    "\n",
    "If you apply [0,1] normalization you are essentially squeezing your data into the range [0,1]. This will mean that if there are outliers, the bulk of your data will all lie in a small range, so you would lose information. Z-score normalization (standardization), on the other hand, does not suffer from this drawback as the range will just be larger. Therefore we will standardize the features.\n",
    "\n",
    "Sklearn makes rescaling easy. We'll import the `StandardScalar()` object from `sklearn.preprocessing`."
   ]
  },
  {
   "cell_type": "code",
   "execution_count": 4,
   "metadata": {},
   "outputs": [],
   "source": [
    "X = df.drop('ZAR/USD', axis=1)\n",
    "y = df['ZAR/USD']"
   ]
  },
  {
   "cell_type": "code",
   "execution_count": 5,
   "metadata": {},
   "outputs": [],
   "source": [
    "from sklearn.preprocessing import StandardScaler"
   ]
  },
  {
   "cell_type": "code",
   "execution_count": 6,
   "metadata": {},
   "outputs": [],
   "source": [
    "scaler = StandardScaler()"
   ]
  },
  {
   "cell_type": "code",
   "execution_count": 7,
   "metadata": {},
   "outputs": [],
   "source": [
    "X_scaled = scaler.fit_transform(X)"
   ]
  },
  {
   "cell_type": "code",
   "execution_count": 8,
   "metadata": {},
   "outputs": [
    {
     "data": {
      "text/html": [
       "<div>\n",
       "<style>\n",
       "    .dataframe thead tr:only-child th {\n",
       "        text-align: right;\n",
       "    }\n",
       "\n",
       "    .dataframe thead th {\n",
       "        text-align: left;\n",
       "    }\n",
       "\n",
       "    .dataframe tbody tr th {\n",
       "        vertical-align: top;\n",
       "    }\n",
       "</style>\n",
       "<table border=\"1\" class=\"dataframe\">\n",
       "  <thead>\n",
       "    <tr style=\"text-align: right;\">\n",
       "      <th></th>\n",
       "      <th>Value of Exports (USD)</th>\n",
       "      <th>Value of Exports (ZAR)</th>\n",
       "      <th>Value of Imports (USD)</th>\n",
       "      <th>Value of Imports (ZAR)</th>\n",
       "      <th>Total Reserves excl Gold (USD)</th>\n",
       "      <th>IMF Reserve Position (USD)</th>\n",
       "      <th>Foreign Exchange (USD)</th>\n",
       "      <th>Claims on Non-residents (USD)</th>\n",
       "      <th>Liabilities to Non-residents (USD)</th>\n",
       "      <th>Central Bank Policy Rate</th>\n",
       "      <th>Money Market Rate</th>\n",
       "      <th>Treasury Bill Rate</th>\n",
       "      <th>Savings Rate</th>\n",
       "      <th>Deposit Rate</th>\n",
       "      <th>Lending Rate</th>\n",
       "      <th>Government Bonds</th>\n",
       "      <th>Financial Market Prices, Equities Index</th>\n",
       "      <th>Producer Price Index</th>\n",
       "      <th>Consumer Price Index</th>\n",
       "    </tr>\n",
       "  </thead>\n",
       "  <tbody>\n",
       "    <tr>\n",
       "      <th>0</th>\n",
       "      <td>-1.341230</td>\n",
       "      <td>-1.820002</td>\n",
       "      <td>0.205077</td>\n",
       "      <td>-1.124305</td>\n",
       "      <td>-2.145276</td>\n",
       "      <td>-0.740237</td>\n",
       "      <td>-2.040128</td>\n",
       "      <td>0.325086</td>\n",
       "      <td>-0.356166</td>\n",
       "      <td>2.195535</td>\n",
       "      <td>2.098427</td>\n",
       "      <td>2.225653</td>\n",
       "      <td>0.692028</td>\n",
       "      <td>2.036107</td>\n",
       "      <td>2.195535</td>\n",
       "      <td>-0.234691</td>\n",
       "      <td>2.625151</td>\n",
       "      <td>-1.613707</td>\n",
       "      <td>-1.690995</td>\n",
       "    </tr>\n",
       "    <tr>\n",
       "      <th>1</th>\n",
       "      <td>-0.934909</td>\n",
       "      <td>-1.404295</td>\n",
       "      <td>0.248319</td>\n",
       "      <td>-0.821735</td>\n",
       "      <td>-2.057421</td>\n",
       "      <td>-0.739864</td>\n",
       "      <td>-1.936778</td>\n",
       "      <td>2.106157</td>\n",
       "      <td>1.670410</td>\n",
       "      <td>2.195535</td>\n",
       "      <td>2.108767</td>\n",
       "      <td>2.136289</td>\n",
       "      <td>1.529205</td>\n",
       "      <td>2.124739</td>\n",
       "      <td>2.195535</td>\n",
       "      <td>0.294266</td>\n",
       "      <td>2.985518</td>\n",
       "      <td>-1.567326</td>\n",
       "      <td>-1.667091</td>\n",
       "    </tr>\n",
       "    <tr>\n",
       "      <th>2</th>\n",
       "      <td>-0.704734</td>\n",
       "      <td>-1.173995</td>\n",
       "      <td>0.130057</td>\n",
       "      <td>-0.751314</td>\n",
       "      <td>-1.992313</td>\n",
       "      <td>-0.739698</td>\n",
       "      <td>-1.861424</td>\n",
       "      <td>1.395422</td>\n",
       "      <td>0.836888</td>\n",
       "      <td>2.195535</td>\n",
       "      <td>2.124275</td>\n",
       "      <td>2.052883</td>\n",
       "      <td>1.536956</td>\n",
       "      <td>2.145593</td>\n",
       "      <td>2.195535</td>\n",
       "      <td>1.047628</td>\n",
       "      <td>3.209525</td>\n",
       "      <td>-1.498915</td>\n",
       "      <td>-1.604276</td>\n",
       "    </tr>\n",
       "    <tr>\n",
       "      <th>3</th>\n",
       "      <td>-0.074046</td>\n",
       "      <td>-0.898842</td>\n",
       "      <td>1.007391</td>\n",
       "      <td>-0.373843</td>\n",
       "      <td>-1.961339</td>\n",
       "      <td>-0.739781</td>\n",
       "      <td>-1.823519</td>\n",
       "      <td>1.195919</td>\n",
       "      <td>1.029628</td>\n",
       "      <td>2.452574</td>\n",
       "      <td>2.284533</td>\n",
       "      <td>2.106501</td>\n",
       "      <td>1.676486</td>\n",
       "      <td>2.270721</td>\n",
       "      <td>2.452574</td>\n",
       "      <td>1.031600</td>\n",
       "      <td>3.366412</td>\n",
       "      <td>-1.428184</td>\n",
       "      <td>-1.572591</td>\n",
       "    </tr>\n",
       "    <tr>\n",
       "      <th>4</th>\n",
       "      <td>0.055500</td>\n",
       "      <td>-0.895220</td>\n",
       "      <td>0.989217</td>\n",
       "      <td>-0.462633</td>\n",
       "      <td>-1.947106</td>\n",
       "      <td>-0.739490</td>\n",
       "      <td>-1.806486</td>\n",
       "      <td>1.665095</td>\n",
       "      <td>1.820496</td>\n",
       "      <td>2.452574</td>\n",
       "      <td>2.387925</td>\n",
       "      <td>2.303101</td>\n",
       "      <td>2.219101</td>\n",
       "      <td>2.328071</td>\n",
       "      <td>2.452574</td>\n",
       "      <td>1.608643</td>\n",
       "      <td>3.586510</td>\n",
       "      <td>-1.254644</td>\n",
       "      <td>-1.533123</td>\n",
       "    </tr>\n",
       "  </tbody>\n",
       "</table>\n",
       "</div>"
      ],
      "text/plain": [
       "   Value of Exports (USD)  Value of Exports (ZAR)  Value of Imports (USD)  \\\n",
       "0               -1.341230               -1.820002                0.205077   \n",
       "1               -0.934909               -1.404295                0.248319   \n",
       "2               -0.704734               -1.173995                0.130057   \n",
       "3               -0.074046               -0.898842                1.007391   \n",
       "4                0.055500               -0.895220                0.989217   \n",
       "\n",
       "   Value of Imports (ZAR)  Total Reserves excl Gold (USD)  \\\n",
       "0               -1.124305                       -2.145276   \n",
       "1               -0.821735                       -2.057421   \n",
       "2               -0.751314                       -1.992313   \n",
       "3               -0.373843                       -1.961339   \n",
       "4               -0.462633                       -1.947106   \n",
       "\n",
       "   IMF Reserve Position (USD)  Foreign Exchange (USD)  \\\n",
       "0                   -0.740237               -2.040128   \n",
       "1                   -0.739864               -1.936778   \n",
       "2                   -0.739698               -1.861424   \n",
       "3                   -0.739781               -1.823519   \n",
       "4                   -0.739490               -1.806486   \n",
       "\n",
       "   Claims on Non-residents (USD)  Liabilities to Non-residents (USD)  \\\n",
       "0                       0.325086                           -0.356166   \n",
       "1                       2.106157                            1.670410   \n",
       "2                       1.395422                            0.836888   \n",
       "3                       1.195919                            1.029628   \n",
       "4                       1.665095                            1.820496   \n",
       "\n",
       "   Central Bank Policy Rate  Money Market Rate  Treasury Bill Rate  \\\n",
       "0                  2.195535           2.098427            2.225653   \n",
       "1                  2.195535           2.108767            2.136289   \n",
       "2                  2.195535           2.124275            2.052883   \n",
       "3                  2.452574           2.284533            2.106501   \n",
       "4                  2.452574           2.387925            2.303101   \n",
       "\n",
       "   Savings Rate  Deposit Rate  Lending Rate  Government Bonds  \\\n",
       "0      0.692028      2.036107      2.195535         -0.234691   \n",
       "1      1.529205      2.124739      2.195535          0.294266   \n",
       "2      1.536956      2.145593      2.195535          1.047628   \n",
       "3      1.676486      2.270721      2.452574          1.031600   \n",
       "4      2.219101      2.328071      2.452574          1.608643   \n",
       "\n",
       "   Financial Market Prices, Equities Index  Producer Price Index  \\\n",
       "0                                 2.625151             -1.613707   \n",
       "1                                 2.985518             -1.567326   \n",
       "2                                 3.209525             -1.498915   \n",
       "3                                 3.366412             -1.428184   \n",
       "4                                 3.586510             -1.254644   \n",
       "\n",
       "   Consumer Price Index  \n",
       "0             -1.690995  \n",
       "1             -1.667091  \n",
       "2             -1.604276  \n",
       "3             -1.572591  \n",
       "4             -1.533123  "
      ]
     },
     "execution_count": 8,
     "metadata": {},
     "output_type": "execute_result"
    }
   ],
   "source": [
    "X_standardize = pd.DataFrame(X_scaled,columns=X.columns)\n",
    "X_standardize.head()"
   ]
  },
  {
   "cell_type": "markdown",
   "metadata": {},
   "source": [
    "Taking a look at one of the variables as an example, we can see that standarizing the data has caused it to be centered around zero."
   ]
  },
  {
   "cell_type": "code",
   "execution_count": 9,
   "metadata": {},
   "outputs": [
    {
     "data": {
      "image/png": "[encoded data removed]",
      "text/plain": [
       "<matplotlib.figure.Figure at 0x15f2166c978>"
      ]
     },
     "metadata": {},
     "output_type": "display_data"
    }
   ],
   "source": [
    "plt.hist(X_standardize['Value of Exports (USD)'])\n",
    "plt.show()"
   ]
  },
  {
   "cell_type": "markdown",
   "metadata": {},
   "source": [
    "Furthermore, the variance within each variable in the data is now equal to one. "
   ]
  },
  {
   "cell_type": "code",
   "execution_count": 10,
   "metadata": {},
   "outputs": [
    {
     "data": {
      "text/plain": [
       "Value of Exports (USD)                     1.004193\n",
       "Value of Exports (ZAR)                     1.004193\n",
       "Value of Imports (USD)                     1.004193\n",
       "Value of Imports (ZAR)                     1.004193\n",
       "Total Reserves excl Gold (USD)             1.004193\n",
       "IMF Reserve Position (USD)                 1.004193\n",
       "Foreign Exchange (USD)                     1.004193\n",
       "Claims on Non-residents (USD)              1.004193\n",
       "Liabilities to Non-residents (USD)         1.004193\n",
       "Central Bank Policy Rate                   1.004193\n",
       "Money Market Rate                          1.004193\n",
       "Treasury Bill Rate                         1.004193\n",
       "Savings Rate                               1.004193\n",
       "Deposit Rate                               1.004193\n",
       "Lending Rate                               1.004193\n",
       "Government Bonds                           1.004193\n",
       "Financial Market Prices, Equities Index    1.004193\n",
       "Producer Price Index                       1.004193\n",
       "Consumer Price Index                       1.004193\n",
       "Name: std, dtype: float64"
      ]
     },
     "execution_count": 10,
     "metadata": {},
     "output_type": "execute_result"
    }
   ],
   "source": [
    "X_standardize.describe().loc['std']"
   ]
  },
  {
   "cell_type": "markdown",
   "metadata": {},
   "source": [
    "## Ridge Regression\n",
    "We will first split our data into a training and a testing set. We'll use the first 8 years of data as our training set and test the model on the final two years.  \n",
    "\n",
    "Fitting and testing a Ridge Regression model is very similar to multiple variable regression in sk-learn. For now, we are going to create a `Ridge()` object without modifying any of the parameters. This means that we will use the default value of $\\alpha=1$. In a later tutorial, we'll learn about choosing a better value of this hyperparameter."
   ]
  },
  {
   "cell_type": "code",
   "execution_count": 11,
   "metadata": {},
   "outputs": [],
   "source": [
    "from sklearn.model_selection import train_test_split"
   ]
  },
  {
   "cell_type": "code",
   "execution_count": 12,
   "metadata": {},
   "outputs": [],
   "source": [
    "X_train, X_test, y_train, y_test = train_test_split(X_standardize, \n",
    "                                                    y, \n",
    "                                                    test_size=0.2, \n",
    "                                                    shuffle=False)"
   ]
  },
  {
   "cell_type": "code",
   "execution_count": 13,
   "metadata": {},
   "outputs": [],
   "source": [
    "from sklearn.linear_model import Ridge"
   ]
  },
  {
   "cell_type": "code",
   "execution_count": 14,
   "metadata": {},
   "outputs": [],
   "source": [
    "ridge = Ridge()"
   ]
  },
  {
   "cell_type": "code",
   "execution_count": 15,
   "metadata": {},
   "outputs": [
    {
     "data": {
      "text/plain": [
       "Ridge(alpha=1.0, copy_X=True, fit_intercept=True, max_iter=None,\n",
       "   normalize=False, random_state=None, solver='auto', tol=0.001)"
      ]
     },
     "execution_count": 15,
     "metadata": {},
     "output_type": "execute_result"
    }
   ],
   "source": [
    "ridge.fit(X_train, y_train)"
   ]
  },
  {
   "cell_type": "code",
   "execution_count": 16,
   "metadata": {},
   "outputs": [],
   "source": [
    "b = float(ridge.intercept_)"
   ]
  },
  {
   "cell_type": "code",
   "execution_count": 17,
   "metadata": {},
   "outputs": [],
   "source": [
    "coeff = pd.DataFrame(ridge.coef_, X.columns, columns=['Coefficient'])"
   ]
  },
  {
   "cell_type": "code",
   "execution_count": 18,
   "metadata": {},
   "outputs": [
    {
     "name": "stdout",
     "output_type": "stream",
     "text": [
      "Intercept: 10.1268900700632\n"
     ]
    }
   ],
   "source": [
    "print(\"Intercept:\", float(b))"
   ]
  },
  {
   "cell_type": "code",
   "execution_count": 19,
   "metadata": {},
   "outputs": [
    {
     "data": {
      "text/html": [
       "<div>\n",
       "<style>\n",
       "    .dataframe thead tr:only-child th {\n",
       "        text-align: right;\n",
       "    }\n",
       "\n",
       "    .dataframe thead th {\n",
       "        text-align: left;\n",
       "    }\n",
       "\n",
       "    .dataframe tbody tr th {\n",
       "        vertical-align: top;\n",
       "    }\n",
       "</style>\n",
       "<table border=\"1\" class=\"dataframe\">\n",
       "  <thead>\n",
       "    <tr style=\"text-align: right;\">\n",
       "      <th></th>\n",
       "      <th>Coefficient</th>\n",
       "    </tr>\n",
       "  </thead>\n",
       "  <tbody>\n",
       "    <tr>\n",
       "      <th>Value of Exports (USD)</th>\n",
       "      <td>-0.542478</td>\n",
       "    </tr>\n",
       "    <tr>\n",
       "      <th>Value of Exports (ZAR)</th>\n",
       "      <td>0.973215</td>\n",
       "    </tr>\n",
       "    <tr>\n",
       "      <th>Value of Imports (USD)</th>\n",
       "      <td>-0.711990</td>\n",
       "    </tr>\n",
       "    <tr>\n",
       "      <th>Value of Imports (ZAR)</th>\n",
       "      <td>0.957165</td>\n",
       "    </tr>\n",
       "    <tr>\n",
       "      <th>Total Reserves excl Gold (USD)</th>\n",
       "      <td>0.012201</td>\n",
       "    </tr>\n",
       "    <tr>\n",
       "      <th>IMF Reserve Position (USD)</th>\n",
       "      <td>0.036197</td>\n",
       "    </tr>\n",
       "    <tr>\n",
       "      <th>Foreign Exchange (USD)</th>\n",
       "      <td>0.120280</td>\n",
       "    </tr>\n",
       "    <tr>\n",
       "      <th>Claims on Non-residents (USD)</th>\n",
       "      <td>0.069619</td>\n",
       "    </tr>\n",
       "    <tr>\n",
       "      <th>Liabilities to Non-residents (USD)</th>\n",
       "      <td>0.003063</td>\n",
       "    </tr>\n",
       "    <tr>\n",
       "      <th>Central Bank Policy Rate</th>\n",
       "      <td>0.189549</td>\n",
       "    </tr>\n",
       "    <tr>\n",
       "      <th>Money Market Rate</th>\n",
       "      <td>0.277597</td>\n",
       "    </tr>\n",
       "    <tr>\n",
       "      <th>Treasury Bill Rate</th>\n",
       "      <td>-0.047211</td>\n",
       "    </tr>\n",
       "    <tr>\n",
       "      <th>Savings Rate</th>\n",
       "      <td>-0.204736</td>\n",
       "    </tr>\n",
       "    <tr>\n",
       "      <th>Deposit Rate</th>\n",
       "      <td>0.095336</td>\n",
       "    </tr>\n",
       "    <tr>\n",
       "      <th>Lending Rate</th>\n",
       "      <td>0.189549</td>\n",
       "    </tr>\n",
       "    <tr>\n",
       "      <th>Government Bonds</th>\n",
       "      <td>0.036003</td>\n",
       "    </tr>\n",
       "    <tr>\n",
       "      <th>Financial Market Prices, Equities Index</th>\n",
       "      <td>-0.154889</td>\n",
       "    </tr>\n",
       "    <tr>\n",
       "      <th>Producer Price Index</th>\n",
       "      <td>0.288010</td>\n",
       "    </tr>\n",
       "    <tr>\n",
       "      <th>Consumer Price Index</th>\n",
       "      <td>0.534399</td>\n",
       "    </tr>\n",
       "  </tbody>\n",
       "</table>\n",
       "</div>"
      ],
      "text/plain": [
       "                                         Coefficient\n",
       "Value of Exports (USD)                     -0.542478\n",
       "Value of Exports (ZAR)                      0.973215\n",
       "Value of Imports (USD)                     -0.711990\n",
       "Value of Imports (ZAR)                      0.957165\n",
       "Total Reserves excl Gold (USD)              0.012201\n",
       "IMF Reserve Position (USD)                  0.036197\n",
       "Foreign Exchange (USD)                      0.120280\n",
       "Claims on Non-residents (USD)               0.069619\n",
       "Liabilities to Non-residents (USD)          0.003063\n",
       "Central Bank Policy Rate                    0.189549\n",
       "Money Market Rate                           0.277597\n",
       "Treasury Bill Rate                         -0.047211\n",
       "Savings Rate                               -0.204736\n",
       "Deposit Rate                                0.095336\n",
       "Lending Rate                                0.189549\n",
       "Government Bonds                            0.036003\n",
       "Financial Market Prices, Equities Index    -0.154889\n",
       "Producer Price Index                        0.288010\n",
       "Consumer Price Index                        0.534399"
      ]
     },
     "execution_count": 19,
     "metadata": {},
     "output_type": "execute_result"
    }
   ],
   "source": [
    "coeff"
   ]
  },
  {
   "cell_type": "markdown",
   "metadata": {},
   "source": [
    "### Interpretation of the intercept and coefficients\n",
    "Because we standardized the features, we interpret the intercept slightly differently than in the case of multiple variable linear regression. Previously it was the expected Dollar/Rand exchange rate when all feature values are set to zero. Now, since the standardized features are all centered around zero, the intercept can be interpreted as the expected exchange rate when all the features are equal to their means.   \n",
    "\n",
    "As with the intercept, the coefficients also have a different interpretation. Previously (without standardization) it was the expected change in exchange rate given an increase of 1 unit in the feature value. Now (with standardization) it is the expected change in exchange rate given an increase of 1 in the **scaled feature value**.\n",
    "\n",
    "The advantage here is that it becomes easier to compare coefficients to eachother, since their respective variables are all on the same scale. Now, variables with smaller coefficients are less important - they have suffered more in the shrinkage tradeoff."
   ]
  },
  {
   "cell_type": "markdown",
   "metadata": {},
   "source": [
    "## Assessment of predictive accuracy\n",
    "We can make use of the `sklearn.metrics` library to assess the accuracy of our model. For comparison, we'll quickly fit a linear model (without regularization) to the data."
   ]
  },
  {
   "cell_type": "code",
   "execution_count": 20,
   "metadata": {},
   "outputs": [
    {
     "data": {
      "text/plain": [
       "LinearRegression(copy_X=True, fit_intercept=True, n_jobs=1, normalize=False)"
      ]
     },
     "execution_count": 20,
     "metadata": {},
     "output_type": "execute_result"
    }
   ],
   "source": [
    "# fit a basic linear model\n",
    "from sklearn.linear_model import LinearRegression\n",
    "\n",
    "lm = LinearRegression()\n",
    "\n",
    "lm.fit(X_train, y_train)"
   ]
  },
  {
   "cell_type": "code",
   "execution_count": 21,
   "metadata": {},
   "outputs": [],
   "source": [
    "from sklearn import metrics"
   ]
  },
  {
   "cell_type": "code",
   "execution_count": 22,
   "metadata": {},
   "outputs": [
    {
     "name": "stdout",
     "output_type": "stream",
     "text": [
      "Training MSE\n",
      "Linear: 0.0326535702136\n",
      "Ridge : 0.0396961380982\n"
     ]
    }
   ],
   "source": [
    "# check training accuracy\n",
    "train_lm = lm.predict(X_train)\n",
    "train_ridge = ridge.predict(X_train)\n",
    "\n",
    "print('Training MSE')\n",
    "print('Linear:', metrics.mean_squared_error(y_train, train_lm))\n",
    "print('Ridge :', metrics.mean_squared_error(y_train, train_ridge))"
   ]
  },
  {
   "cell_type": "code",
   "execution_count": 23,
   "metadata": {},
   "outputs": [
    {
     "name": "stdout",
     "output_type": "stream",
     "text": [
      "Testing MSE\n",
      "Linear: 1.68360120988\n",
      "Ridge : 0.669185689818\n"
     ]
    }
   ],
   "source": [
    "test_lm = lm.predict(X_test)\n",
    "test_ridge = ridge.predict(X_test)\n",
    "\n",
    "print('Testing MSE')\n",
    "print('Linear:', metrics.mean_squared_error(y_test, test_lm))\n",
    "print('Ridge :', metrics.mean_squared_error(y_test, test_ridge))"
   ]
  },
  {
   "cell_type": "markdown",
   "metadata": {},
   "source": [
    "### Comment:\n",
    "From the results above, we can see that Ridge regression achieves a much lower score on the testing set at the expense of a slightly higher score on the training set. The increase in training MSE is not anything to be worried about since we want to avoid overfitting on the training set.   \n",
    "\n",
    "As a final step, let's plot our results."
   ]
  },
  {
   "cell_type": "code",
   "execution_count": 24,
   "metadata": {},
   "outputs": [],
   "source": [
    "# we want to plot the train and test response variables as a continuous line\n",
    "train_plot = y_train.append(pd.Series(y_test[0], index=['2016M01']))"
   ]
  },
  {
   "cell_type": "code",
   "execution_count": 25,
   "metadata": {},
   "outputs": [
    {
     "data": {
      "image/png": "[encoded data removed]",
      "text/plain": [
       "<matplotlib.figure.Figure at 0x15f22d01438>"
      ]
     },
     "metadata": {},
     "output_type": "display_data"
    }
   ],
   "source": [
    "plt.plot(np.arange(len(y)), ridge.predict(X_standardize), label='Predicted')\n",
    "plt.plot(np.arange(len(train_plot)), train_plot, label='Training')\n",
    "plt.plot(np.arange(len(y_test))+len(y_train), y_test, label='Testing')\n",
    "plt.legend()\n",
    "\n",
    "plt.show()"
   ]
  }
 ],
 "metadata": {
  "kernelspec": {
   "display_name": "Python 3",
   "language": "python",
   "name": "python3"
  },
  "language_info": {
   "codemirror_mode": {
    "name": "ipython",
    "version": 3
   },
   "file_extension": ".py",
   "mimetype": "text/x-python",
   "name": "python",
   "nbconvert_exporter": "python",
   "pygments_lexer": "ipython3",
   "version": "3.6.1"
  }
 },
 "nbformat": 4,
 "nbformat_minor": 2
}
