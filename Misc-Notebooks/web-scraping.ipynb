{
 "cells": [
  {
   "cell_type": "markdown",
   "metadata": {},
   "source": [
    "# Cape Town Property Prices Web Scraping\n",
    "In this notebook, we are going to be constructing our own Cape Town house prices data set. To do this, we will be making use of the BeautifulSoup web scraping library. Before proceeding, if you have absolutely no idea about how websites work, then check out [this video](https://www.youtube.com/watch?v=OZeoiotzPFg).   \n",
    "\n",
    "### What is web scraping?\n",
    "Web scraping is the process of extracting (or scraping) data from websites. We _could_ do this manually, but this would involve an unreasonable amount of work! Web scraping typically involves gathering data from websites using automated means - such as a Python script.\n",
    "\n",
    "### Ethics of web scraping\n",
    "Ideally we would want to use the Property24 website, but unfortunately their [terms and conditions](https://www.property24.com/terms-and-conditions) prohibit the act of web scraping on their website. Luckily, Pam Golding's website does not mention anything prohibiting this sort of activity, so we will scrape from there instead!   \n",
    "\n",
    "> NOTE: always make sure you read the Ts&Cs of a website before you do any web scraping!\n",
    "\n",
    "If you are unsure as to whether a website allows webscraping, check out their `robots.txt` file. You can do this simply by going to their homepage and adding `/robots.txt` to the end of the URL in your browser, e.g. https://www.pamgolding.co.za/robots.txt.   \n",
    "\n",
    "As always, we will start by importing the libraries that we will be using."
   ]
  },
  {
   "cell_type": "code",
   "execution_count": 1,
   "metadata": {},
   "outputs": [],
   "source": [
    "from bs4 import BeautifulSoup\n",
    "import pandas as pd\n",
    "import numpy as np\n",
    "import math\n",
    "import requests\n",
    "from itertools import cycle\n",
    "import time\n",
    "from tqdm import tqdm"
   ]
  },
  {
   "cell_type": "markdown",
   "metadata": {},
   "source": [
    "### Where do we scrape the data?\n",
    "Unless you have been living under a rock (we really hope you haven't), you should be familiar with URLs, commonly referred to as web addresses.   \n",
    "The URL is just like a street address - it tells your browser _where_ on the internet the page that you are looking for can be found.   \n",
    "\n",
    "Take a moment to visit the [Pam Golding website](https://www.pamgolding.co.za) and do a few searches for properties in Cape Town. Do a search for houses, and then for apartments, then changes the area and so on. Each time you change a part of your search, take note of how the URL in your browser changes.   \n",
    "\n",
    "The data set we are going to construct will contain a column for the house type, and another for the search area. So let's construct a few search URLs that we will use to iteratively scrape data for different property types in various Cape Town areas.   \n",
    "\n",
    "Doing it in this way will allow us to customise the areas and/or property types we want to scrape."
   ]
  },
  {
   "cell_type": "code",
   "execution_count": 2,
   "metadata": {},
   "outputs": [],
   "source": [
    "# all urls start with the same base\n",
    "home_url = 'https://www.pamgolding.co.za'\n",
    "\n",
    "# extensions for each property type\n",
    "types = {\n",
    "    'house': '/property-search/houses-for-sale-',\n",
    "    'apartment': '/property-search/apartments-for-sale-'\n",
    "}\n",
    "\n",
    "# extensions for each area \n",
    "# adding a filter for property type results in a seemingly random code being appended\n",
    "# the links below corespond to searches which have been filtered to include only houses\n",
    "# or apartments under R7 500 000\n",
    "searches = [\n",
    "    {'Area': 'city-bowl', 'Type': {'house': '/dad78287-41e7-4c1f-85ec-1ff461a00e9b',\n",
    "                                   'apartment': '/9d49e802-a4cc-49a5-8379-d33181e515eb'}},\n",
    "    {'Area': 'atlantic-seaboard', 'Type': {'house': '/32177ab3-3abe-43ba-8f00-cc7190b9ad46',\n",
    "                                           'apartment': '/388d14b9-e65b-4e58-83a9-fbb51b13256e'}},\n",
    "    {'Area': 'southern-suburbs', 'Type': {'house': '-cape-town/24b2fd12-6b12-46a0-bc47-3a2c3ae3935e',\n",
    "                                           'apartment': '-cape-town/1009a515-22c9-4fc2-904e-93e77f9a8aeb'}},\n",
    "    {'Area': 'southern-peninsula', 'Type': {'house': '/73e51a67-0108-40eb-926e-ee8b24dddc2e',\n",
    "                                            'apartment': '/b2a28d2d-531a-46c5-93f2-e9fab54df72e'}},\n",
    "    {'Area': 'northern-suburbs', 'Type': {'house': '-cape-town/24b2fd12-6b12-46a0-bc47-3a2c3ae3935e',\n",
    "                                          'apartment': '-cape-town/3b70525b-132a-434f-8b50-b41f06e4b77f'}},\n",
    "    {'Area': 'boland-winelands', 'Type': {'house': '/59b1a872-7e4c-47f2-afe2-805b6e0bba72',\n",
    "                                          'apartment': '/b746329e-af2c-4dbb-9090-6d4212cdab2b'}}\n",
    "]"
   ]
  },
  {
   "cell_type": "markdown",
   "metadata": {},
   "source": [
    "Let's just give that a test to see if our URLs get constructed correctly."
   ]
  },
  {
   "cell_type": "code",
   "execution_count": 3,
   "metadata": {},
   "outputs": [
    {
     "name": "stdout",
     "output_type": "stream",
     "text": [
      "https://www.pamgolding.co.za/property-search/houses-for-sale-city-bowl/dad78287-41e7-4c1f-85ec-1ff461a00e9b\n",
      "https://www.pamgolding.co.za/property-search/apartments-for-sale-city-bowl/9d49e802-a4cc-49a5-8379-d33181e515eb\n",
      "https://www.pamgolding.co.za/property-search/houses-for-sale-atlantic-seaboard/32177ab3-3abe-43ba-8f00-cc7190b9ad46\n",
      "https://www.pamgolding.co.za/property-search/apartments-for-sale-atlantic-seaboard/388d14b9-e65b-4e58-83a9-fbb51b13256e\n",
      "https://www.pamgolding.co.za/property-search/houses-for-sale-southern-suburbs-cape-town/24b2fd12-6b12-46a0-bc47-3a2c3ae3935e\n",
      "https://www.pamgolding.co.za/property-search/apartments-for-sale-southern-suburbs-cape-town/1009a515-22c9-4fc2-904e-93e77f9a8aeb\n",
      "https://www.pamgolding.co.za/property-search/houses-for-sale-southern-peninsula/73e51a67-0108-40eb-926e-ee8b24dddc2e\n",
      "https://www.pamgolding.co.za/property-search/apartments-for-sale-southern-peninsula/b2a28d2d-531a-46c5-93f2-e9fab54df72e\n",
      "https://www.pamgolding.co.za/property-search/houses-for-sale-northern-suburbs-cape-town/24b2fd12-6b12-46a0-bc47-3a2c3ae3935e\n",
      "https://www.pamgolding.co.za/property-search/apartments-for-sale-northern-suburbs-cape-town/3b70525b-132a-434f-8b50-b41f06e4b77f\n",
      "https://www.pamgolding.co.za/property-search/houses-for-sale-boland-winelands/59b1a872-7e4c-47f2-afe2-805b6e0bba72\n",
      "https://www.pamgolding.co.za/property-search/apartments-for-sale-boland-winelands/b746329e-af2c-4dbb-9090-6d4212cdab2b\n"
     ]
    }
   ],
   "source": [
    "# search each area listed in searches list\n",
    "for search in searches:\n",
    "    area = search['Area']\n",
    "    \n",
    "    for p_type in search['Type']:\n",
    "        url_string = home_url + types[p_type] + area + search['Type'][p_type]\n",
    "        print(url_string)"
   ]
  },
  {
   "cell_type": "markdown",
   "metadata": {},
   "source": [
    "## Let's do some scraping!\n",
    "Now, onto the fun stuff! Let's iterate over the search areas and property types and extract data on all of the properties that come up.   \n",
    "\n",
    "There are two parts to web scraping. First, we need to fetch all of the raw HTML that makes up the website. Then, we sift through all that raw code to extract the pieces of information we are looking for.   "
   ]
  },
  {
   "cell_type": "markdown",
   "metadata": {},
   "source": [
    "### Hypertext Markup Language (HTML)\n",
    "A website typically has three components that make it work: HTML, CSS and JavaScript. **CSS** is used to define the _style_ of the page - fonts, colours etc. **JavaScript** is used to define the functionality of the website - _\"what happens when I click this button?\"_ etc. **HTML** can be thought of as the skeleton of the website, it is used to define exactly what goes on the website.   \n",
    "\n",
    "Since we are just trying to extract words and numbers, we only need to look at the HTML of a website to get what we want.   "
   ]
  },
  {
   "cell_type": "markdown",
   "metadata": {},
   "source": [
    "### Google Chrome developer tools\n",
    "Google's Chrome browser has a really useful feature, that we will be using to extract our data.\n",
    "  - Open up Google Chrome\n",
    "  - Go to http://web.ics.purdue.edu/~gchopra/class/public/pages/webdesign/05_simple.html\n",
    "  - Right click anywhere on the page and select \"Inspect\"\n",
    "  - In the panel on the right, move your mouse over the various **HTML tags** - notice how the different parts on the page are highlighted?  "
   ]
  },
  {
   "cell_type": "markdown",
   "metadata": {},
   "source": [
    "## Step 1: Fetch HTML\n",
    "Let's practice some scraping on this very simple website. First, we will use the `requests` library to reach out to the web server and load the website:"
   ]
  },
  {
   "cell_type": "code",
   "execution_count": 4,
   "metadata": {},
   "outputs": [
    {
     "data": {
      "text/plain": [
       "'<html>\\n\\n<head>\\n<title>A very simple webpage</title>\\n<basefont size=4>\\n</head>\\n\\n<body bgcolor=FFFFFF>\\n\\n<h1>A very simple webpage. This is an \"h1\" level header.</h1>\\n\\n<h2>This is a level h2 header.</h2>\\n\\n<h6>This is a level h6 header.  Pretty small!</h6>\\n\\n<p>This is a standard paragraph.</p>\\n\\n<p align=center>Now I\\'ve aligned it in the center of the screen.</p>\\n\\n<p align=right>Now aligned to the right</p>\\n\\n<p><b>Bold text</b></p>\\n\\n<p><strong>Strongly emphasized text</strong>  Can you tell the difference vs. bold?</p>\\n\\n<p><i>Italics</i></p>\\n\\n<p><em>Emphasized text</em>  Just like Italics!</p>\\n\\n<p>Here is a pretty picture: <img src=example/prettypicture.jpg alt=\"Pretty Picture\"></p>\\n\\n<p>Same thing, aligned differently to the paragraph: <img align=top src=example/prettypicture.jpg alt=\"Pretty Picture\"></p>\\n\\n<hr>\\n\\n<h2>How about a nice ordered list!</h2>\\n<ol>\\n  <li>This little piggy went to market\\n  <li>This little piggy went to SB228 class\\n  <li>This little piggy went to an expensive restaurant in Downtown Palo Alto\\n  <li>This little piggy ate too much at Indian Buffet.\\n  <li>This little piggy got lost\\n</ol>\\n\\n<h2>Unordered list</h2>\\n<ul>\\n  <li>First element\\n  <li>Second element\\n  <li>Third element\\n</ul>\\n\\n<hr>\\n\\n<h2>Nested Lists!</h2>\\n<ul>\\n  <li>Things to to today:\\n    <ol>\\n      <li>Walk the dog\\n      <li>Feed the cat\\n      <li>Mow the lawn\\n    </ol>\\n  <li>Things to do tomorrow:\\n    <ol>\\n      <li>Lunch with mom\\n      <li>Feed the hamster\\n      <li>Clean kitchen\\n    </ol>\\n</ul>\\n\\n<p>And finally, how about some <a href=http://www.yahoo.com/>Links?</a></p>\\n\\n<p>Or let\\'s just link to <a href=../../index.html>another page on this server</a></p>\\n\\n<p>Remember, you can view the HTMl code from this or any other page by using the \"View Page Source\" command of your browser.</p>\\n\\n</body>\\n\\n</html>\\n'"
      ]
     },
     "execution_count": 4,
     "metadata": {},
     "output_type": "execute_result"
    }
   ],
   "source": [
    "url = \"http://web.ics.purdue.edu/~gchopra/class/public/pages/webdesign/05_simple.html\"\n",
    "\n",
    "request = requests.get(url)\n",
    "\n",
    "request.text"
   ]
  },
  {
   "cell_type": "markdown",
   "metadata": {},
   "source": [
    "## Step 2: Extract information\n",
    "Now, let's use the `BeautifulSoup` library to sift through this raw HTML.\n",
    "\n",
    "Let's start by extracting the h2 header item from the page:"
   ]
  },
  {
   "cell_type": "code",
   "execution_count": 5,
   "metadata": {},
   "outputs": [
    {
     "name": "stdout",
     "output_type": "stream",
     "text": [
      "<html>\n",
      "<head>\n",
      "<title>A very simple webpage</title>\n",
      "<basefont size=\"4\"/>\n",
      "</head>\n",
      "<body bgcolor=\"FFFFFF\">\n",
      "<h1>A very simple webpage. This is an \"h1\" level header.</h1>\n",
      "<h2>This is a level h2 header.</h2>\n",
      "<h6>This is a level h6 header.  Pretty small!</h6>\n",
      "<p>This is a standard paragraph.</p>\n",
      "<p align=\"center\">Now I've aligned it in the center of the screen.</p>\n",
      "<p align=\"right\">Now aligned to the right</p>\n",
      "<p><b>Bold text</b></p>\n",
      "<p><strong>Strongly emphasized text</strong>  Can you tell the difference vs. bold?</p>\n",
      "<p><i>Italics</i></p>\n",
      "<p><em>Emphasized text</em>  Just like Italics!</p>\n",
      "<p>Here is a pretty picture: <img alt=\"Pretty Picture\" src=\"example/prettypicture.jpg\"/></p>\n",
      "<p>Same thing, aligned differently to the paragraph: <img align=\"top\" alt=\"Pretty Picture\" src=\"example/prettypicture.jpg\"/></p>\n",
      "<hr/>\n",
      "<h2>How about a nice ordered list!</h2>\n",
      "<ol>\n",
      "<li>This little piggy went to market\n",
      "  <li>This little piggy went to SB228 class\n",
      "  <li>This little piggy went to an expensive restaurant in Downtown Palo Alto\n",
      "  <li>This little piggy ate too much at Indian Buffet.\n",
      "  <li>This little piggy got lost\n",
      "</li></li></li></li></li></ol>\n",
      "<h2>Unordered list</h2>\n",
      "<ul>\n",
      "<li>First element\n",
      "  <li>Second element\n",
      "  <li>Third element\n",
      "</li></li></li></ul>\n",
      "<hr/>\n",
      "<h2>Nested Lists!</h2>\n",
      "<ul>\n",
      "<li>Things to to today:\n",
      "    <ol>\n",
      "<li>Walk the dog\n",
      "      <li>Feed the cat\n",
      "      <li>Mow the lawn\n",
      "    </li></li></li></ol>\n",
      "<li>Things to do tomorrow:\n",
      "    <ol>\n",
      "<li>Lunch with mom\n",
      "      <li>Feed the hamster\n",
      "      <li>Clean kitchen\n",
      "    </li></li></li></ol>\n",
      "</li></li></ul>\n",
      "<p>And finally, how about some <a href=\"http://www.yahoo.com/\">Links?</a></p>\n",
      "<p>Or let's just link to <a href=\"../../index.html\">another page on this server</a></p>\n",
      "<p>Remember, you can view the HTMl code from this or any other page by using the \"View Page Source\" command of your browser.</p>\n",
      "</body>\n",
      "</html>\n",
      "\n"
     ]
    }
   ],
   "source": [
    "# first use Beautiful Soup to parse the request as HTML\n",
    "soup = BeautifulSoup(request.text, 'html.parser')\n",
    "print(soup)"
   ]
  },
  {
   "cell_type": "code",
   "execution_count": 6,
   "metadata": {},
   "outputs": [
    {
     "data": {
      "text/plain": [
       "<h2>This is a level h2 header.</h2>"
      ]
     },
     "execution_count": 6,
     "metadata": {},
     "output_type": "execute_result"
    }
   ],
   "source": [
    "# now find the h2 item\n",
    "h2 = soup.find('h2')\n",
    "h2"
   ]
  },
  {
   "cell_type": "code",
   "execution_count": 7,
   "metadata": {},
   "outputs": [
    {
     "data": {
      "text/plain": [
       "'This is a level h2 header.'"
      ]
     },
     "execution_count": 7,
     "metadata": {},
     "output_type": "execute_result"
    }
   ],
   "source": [
    "# extract only the text\n",
    "h2.text"
   ]
  },
  {
   "cell_type": "markdown",
   "metadata": {},
   "source": [
    "Now, let's be a little more specific. Inspect the paragraph that is aligned to the center of the screen, you should see that it has an additional attribute inside its `<p>` tag called `align=\"center\"`."
   ]
  },
  {
   "cell_type": "code",
   "execution_count": 8,
   "metadata": {},
   "outputs": [
    {
     "data": {
      "text/plain": [
       "[<p>This is a standard paragraph.</p>,\n",
       " <p align=\"center\">Now I've aligned it in the center of the screen.</p>,\n",
       " <p align=\"right\">Now aligned to the right</p>,\n",
       " <p><b>Bold text</b></p>,\n",
       " <p><strong>Strongly emphasized text</strong>  Can you tell the difference vs. bold?</p>,\n",
       " <p><i>Italics</i></p>,\n",
       " <p><em>Emphasized text</em>  Just like Italics!</p>,\n",
       " <p>Here is a pretty picture: <img alt=\"Pretty Picture\" src=\"example/prettypicture.jpg\"/></p>,\n",
       " <p>Same thing, aligned differently to the paragraph: <img align=\"top\" alt=\"Pretty Picture\" src=\"example/prettypicture.jpg\"/></p>,\n",
       " <p>And finally, how about some <a href=\"http://www.yahoo.com/\">Links?</a></p>,\n",
       " <p>Or let's just link to <a href=\"../../index.html\">another page on this server</a></p>,\n",
       " <p>Remember, you can view the HTMl code from this or any other page by using the \"View Page Source\" command of your browser.</p>]"
      ]
     },
     "execution_count": 8,
     "metadata": {},
     "output_type": "execute_result"
    }
   ],
   "source": [
    "# can you spot the element we are looking for in the html below?\n",
    "soup.find_all('p')"
   ]
  },
  {
   "cell_type": "markdown",
   "metadata": {},
   "source": [
    "We can use this extra bit of information to extract only the `<p>` item that we want:"
   ]
  },
  {
   "cell_type": "code",
   "execution_count": 9,
   "metadata": {},
   "outputs": [
    {
     "name": "stdout",
     "output_type": "stream",
     "text": [
      "Now I've aligned it in the center of the screen.\n"
     ]
    }
   ],
   "source": [
    "center = soup.find('p', {'align': 'center'})\n",
    "print(center.text)"
   ]
  },
  {
   "cell_type": "markdown",
   "metadata": {},
   "source": [
    "## The real reason we are here\n",
    "The code below is just a more complicated version of what we did above. We have a list of URLs that correspond to different areas and property types, so we will iterate over each of these URLs and extract the information on all of the properties found in those areas.   \n",
    "\n",
    "The `tqdm` library has been used to show the progress of the scraping in a nice and clean way. The status bar will show how many pages have been scraped for each search. Each page contains 10 listings on it."
   ]
  },
  {
   "cell_type": "code",
   "execution_count": 10,
   "metadata": {},
   "outputs": [
    {
     "name": "stdout",
     "output_type": "stream",
     "text": [
      "Scraping data for all houses in city-bowl...\n"
     ]
    },
    {
     "name": "stderr",
     "output_type": "stream",
     "text": [
      "100%|████████████████████████████████████████████████████████████████████████████████████| 3/3 [00:17<00:00,  5.66s/it]\n"
     ]
    },
    {
     "name": "stdout",
     "output_type": "stream",
     "text": [
      "Scraping data for all apartments in city-bowl...\n"
     ]
    },
    {
     "name": "stderr",
     "output_type": "stream",
     "text": [
      "100%|████████████████████████████████████████████████████████████████████████████████████| 9/9 [00:51<00:00,  5.65s/it]\n"
     ]
    },
    {
     "name": "stdout",
     "output_type": "stream",
     "text": [
      "Scraping data for all houses in atlantic-seaboard...\n"
     ]
    },
    {
     "name": "stderr",
     "output_type": "stream",
     "text": [
      "100%|████████████████████████████████████████████████████████████████████████████████████| 3/3 [00:16<00:00,  5.58s/it]\n"
     ]
    },
    {
     "name": "stdout",
     "output_type": "stream",
     "text": [
      "Scraping data for all apartments in atlantic-seaboard...\n"
     ]
    },
    {
     "name": "stderr",
     "output_type": "stream",
     "text": [
      "100%|██████████████████████████████████████████████████████████████████████████████████| 12/12 [01:08<00:00,  5.63s/it]\n"
     ]
    },
    {
     "name": "stdout",
     "output_type": "stream",
     "text": [
      "Scraping data for all houses in southern-suburbs...\n"
     ]
    },
    {
     "name": "stderr",
     "output_type": "stream",
     "text": [
      "100%|██████████████████████████████████████████████████████████████████████████████████| 12/12 [01:07<00:00,  5.59s/it]\n"
     ]
    },
    {
     "name": "stdout",
     "output_type": "stream",
     "text": [
      "Scraping data for all apartments in southern-suburbs...\n"
     ]
    },
    {
     "name": "stderr",
     "output_type": "stream",
     "text": [
      "100%|██████████████████████████████████████████████████████████████████████████████████| 12/12 [01:08<00:00,  5.74s/it]\n"
     ]
    },
    {
     "name": "stdout",
     "output_type": "stream",
     "text": [
      "Scraping data for all houses in southern-peninsula...\n"
     ]
    },
    {
     "name": "stderr",
     "output_type": "stream",
     "text": [
      "100%|██████████████████████████████████████████████████████████████████████████████████| 12/12 [01:12<00:00,  5.82s/it]\n"
     ]
    },
    {
     "name": "stdout",
     "output_type": "stream",
     "text": [
      "Scraping data for all apartments in southern-peninsula...\n"
     ]
    },
    {
     "name": "stderr",
     "output_type": "stream",
     "text": [
      "100%|████████████████████████████████████████████████████████████████████████████████████| 2/2 [00:11<00:00,  5.76s/it]\n"
     ]
    },
    {
     "name": "stdout",
     "output_type": "stream",
     "text": [
      "Scraping data for all houses in northern-suburbs...\n"
     ]
    },
    {
     "name": "stderr",
     "output_type": "stream",
     "text": [
      "100%|██████████████████████████████████████████████████████████████████████████████████| 12/12 [01:10<00:00,  5.78s/it]\n"
     ]
    },
    {
     "name": "stdout",
     "output_type": "stream",
     "text": [
      "Scraping data for all apartments in northern-suburbs...\n"
     ]
    },
    {
     "name": "stderr",
     "output_type": "stream",
     "text": [
      "100%|████████████████████████████████████████████████████████████████████████████████████| 4/4 [00:23<00:00,  5.81s/it]\n"
     ]
    },
    {
     "name": "stdout",
     "output_type": "stream",
     "text": [
      "Scraping data for all houses in boland-winelands...\n"
     ]
    },
    {
     "name": "stderr",
     "output_type": "stream",
     "text": [
      "100%|██████████████████████████████████████████████████████████████████████████████████| 47/47 [03:44<00:00,  3.76s/it]\n"
     ]
    },
    {
     "name": "stdout",
     "output_type": "stream",
     "text": [
      "Scraping data for all apartments in boland-winelands...\n"
     ]
    },
    {
     "name": "stderr",
     "output_type": "stream",
     "text": [
      "100%|██████████████████████████████████████████████████████████████████████████████████| 47/47 [04:17<00:00,  5.79s/it]\n"
     ]
    }
   ],
   "source": [
    "rows = []\n",
    "\n",
    "# search each area listed in searches list\n",
    "for search in searches:\n",
    "    area = search['Area']\n",
    "    \n",
    "    for p_type in search['Type']:\n",
    "        p_type_name = p_type\n",
    "                         \n",
    "        url = home_url + types[p_type] + area + search['Type'][p_type]\n",
    "    \n",
    "        # find the number of search pages to iterate over for the given area\n",
    "        request = requests.get(url)\n",
    "        soup = BeautifulSoup(request.text, 'html.parser')\n",
    "        pages = int(soup.find('span', {'class': 'propCountHdr'}).text.split()[0])\n",
    "        pages = math.ceil(pages/10)\n",
    "        \n",
    "        print('Scraping data for all ' + p_type_name + 's in ' + area + '...')\n",
    "\n",
    "        # search every page\n",
    "        for page in tqdm(range(pages)):\n",
    "\n",
    "            # create the url and request html\n",
    "            url = home_url + types[p_type] + area + search['Type'][p_type] + '/page' + str(page+1)\n",
    "            request = requests.get(url)\n",
    "            soup = BeautifulSoup(request.text, 'html.parser')\n",
    "\n",
    "            # find all properties listed on page\n",
    "            search_results = soup.find_all('article', {'class': 'searchResult'})\n",
    "\n",
    "            # each result is one property\n",
    "            for result in search_results:\n",
    "\n",
    "                prop_data = {}\n",
    "                prop_data['area'] = area\n",
    "                prop_data['type'] = p_type_name\n",
    "\n",
    "                # this information is contained in 'div' elements\n",
    "                features = ['bedroom', 'bathroom', 'garage', 'erfSize', 'buildingSize']\n",
    "\n",
    "                for feature in features:\n",
    "                    try:\n",
    "                        value = result.find('div', {'class': feature}).text.strip()\n",
    "                        prop_data[feature] = value\n",
    "                    except:\n",
    "                        continue\n",
    "\n",
    "                # these will be taken directly from the tag\n",
    "                data_tags = ['data-isonshow', 'data-price', \n",
    "                             'data-location', 'data-date']\n",
    "\n",
    "                for tag in data_tags:\n",
    "                    try:\n",
    "                        prop_data[tag] = result[tag]\n",
    "                    except:\n",
    "                        continue\n",
    "\n",
    "                # property description is contained in a 'p' element\n",
    "                #  try:\n",
    "                    #  value = result.find('p', {'class': 'property-description'}).text.strip()\n",
    "                    #  prop_data['description'] = value\n",
    "                #  except:\n",
    "                    #  continue\n",
    "\n",
    "                # the url needs to have the base added on\n",
    "                try:\n",
    "                    prop_data['data-url'] = home_url + result['data-url']\n",
    "                except:\n",
    "                    continue\n",
    "                \n",
    "                rows.append(prop_data)\n",
    "\n",
    "        \n",
    "# turn this all into a data frame\n",
    "df = pd.DataFrame.from_dict(rows, orient='columns')"
   ]
  },
  {
   "cell_type": "markdown",
   "metadata": {},
   "source": [
    "## Cleaning\n",
    "Before we save the data frame as a csv, let's do a quick bit of cleaning."
   ]
  },
  {
   "cell_type": "code",
   "execution_count": 11,
   "metadata": {},
   "outputs": [
    {
     "data": {
      "text/html": [
       "<div>\n",
       "<style scoped>\n",
       "    .dataframe tbody tr th:only-of-type {\n",
       "        vertical-align: middle;\n",
       "    }\n",
       "\n",
       "    .dataframe tbody tr th {\n",
       "        vertical-align: top;\n",
       "    }\n",
       "\n",
       "    .dataframe thead th {\n",
       "        text-align: right;\n",
       "    }\n",
       "</style>\n",
       "<table border=\"1\" class=\"dataframe\">\n",
       "  <thead>\n",
       "    <tr style=\"text-align: right;\">\n",
       "      <th></th>\n",
       "      <th>area</th>\n",
       "      <th>bathroom</th>\n",
       "      <th>bedroom</th>\n",
       "      <th>buildingSize</th>\n",
       "      <th>data-date</th>\n",
       "      <th>data-isonshow</th>\n",
       "      <th>data-location</th>\n",
       "      <th>data-price</th>\n",
       "      <th>data-url</th>\n",
       "      <th>erfSize</th>\n",
       "      <th>garage</th>\n",
       "      <th>type</th>\n",
       "    </tr>\n",
       "  </thead>\n",
       "  <tbody>\n",
       "    <tr>\n",
       "      <th>0</th>\n",
       "      <td>city-bowl</td>\n",
       "      <td>3.5</td>\n",
       "      <td>3</td>\n",
       "      <td>NaN</td>\n",
       "      <td>5/15/2018 12:48:53 PM</td>\n",
       "      <td>False</td>\n",
       "      <td>Bo-kaap</td>\n",
       "      <td>6950000</td>\n",
       "      <td>https://www.pamgolding.co.za/property-details/...</td>\n",
       "      <td>156 m²</td>\n",
       "      <td>2</td>\n",
       "      <td>house</td>\n",
       "    </tr>\n",
       "    <tr>\n",
       "      <th>1</th>\n",
       "      <td>city-bowl</td>\n",
       "      <td>2</td>\n",
       "      <td>4</td>\n",
       "      <td>NaN</td>\n",
       "      <td>10/9/2018 3:07:41 PM</td>\n",
       "      <td>False</td>\n",
       "      <td>Oranjezicht</td>\n",
       "      <td>6800000</td>\n",
       "      <td>https://www.pamgolding.co.za/property-details/...</td>\n",
       "      <td>270 m²</td>\n",
       "      <td>NaN</td>\n",
       "      <td>house</td>\n",
       "    </tr>\n",
       "    <tr>\n",
       "      <th>2</th>\n",
       "      <td>city-bowl</td>\n",
       "      <td>2</td>\n",
       "      <td>3</td>\n",
       "      <td>180 m²</td>\n",
       "      <td>7/31/2018 10:03:10 AM</td>\n",
       "      <td>False</td>\n",
       "      <td>Tamboerskloof</td>\n",
       "      <td>6595000</td>\n",
       "      <td>https://www.pamgolding.co.za/property-details/...</td>\n",
       "      <td>144 m²</td>\n",
       "      <td>NaN</td>\n",
       "      <td>house</td>\n",
       "    </tr>\n",
       "    <tr>\n",
       "      <th>3</th>\n",
       "      <td>city-bowl</td>\n",
       "      <td>2</td>\n",
       "      <td>3</td>\n",
       "      <td>NaN</td>\n",
       "      <td>6/28/2018 1:00:40 PM</td>\n",
       "      <td>False</td>\n",
       "      <td>Tamboerskloof</td>\n",
       "      <td>6490000</td>\n",
       "      <td>https://www.pamgolding.co.za/property-details/...</td>\n",
       "      <td>197 m²</td>\n",
       "      <td>NaN</td>\n",
       "      <td>house</td>\n",
       "    </tr>\n",
       "    <tr>\n",
       "      <th>4</th>\n",
       "      <td>city-bowl</td>\n",
       "      <td>2</td>\n",
       "      <td>3</td>\n",
       "      <td>NaN</td>\n",
       "      <td>10/4/2018 4:06:34 PM</td>\n",
       "      <td>False</td>\n",
       "      <td>Oranjezicht</td>\n",
       "      <td>6450000</td>\n",
       "      <td>https://www.pamgolding.co.za/property-details/...</td>\n",
       "      <td>153 m²</td>\n",
       "      <td>NaN</td>\n",
       "      <td>house</td>\n",
       "    </tr>\n",
       "  </tbody>\n",
       "</table>\n",
       "</div>"
      ],
      "text/plain": [
       "        area bathroom bedroom buildingSize              data-date  \\\n",
       "0  city-bowl      3.5       3          NaN  5/15/2018 12:48:53 PM   \n",
       "1  city-bowl        2       4          NaN   10/9/2018 3:07:41 PM   \n",
       "2  city-bowl        2       3       180 m²  7/31/2018 10:03:10 AM   \n",
       "3  city-bowl        2       3          NaN   6/28/2018 1:00:40 PM   \n",
       "4  city-bowl        2       3          NaN   10/4/2018 4:06:34 PM   \n",
       "\n",
       "  data-isonshow  data-location data-price  \\\n",
       "0         False        Bo-kaap    6950000   \n",
       "1         False    Oranjezicht    6800000   \n",
       "2         False  Tamboerskloof    6595000   \n",
       "3         False  Tamboerskloof    6490000   \n",
       "4         False    Oranjezicht    6450000   \n",
       "\n",
       "                                            data-url erfSize garage   type  \n",
       "0  https://www.pamgolding.co.za/property-details/...  156 m²      2  house  \n",
       "1  https://www.pamgolding.co.za/property-details/...  270 m²    NaN  house  \n",
       "2  https://www.pamgolding.co.za/property-details/...  144 m²    NaN  house  \n",
       "3  https://www.pamgolding.co.za/property-details/...  197 m²    NaN  house  \n",
       "4  https://www.pamgolding.co.za/property-details/...  153 m²    NaN  house  "
      ]
     },
     "execution_count": 11,
     "metadata": {},
     "output_type": "execute_result"
    }
   ],
   "source": [
    "df.head()"
   ]
  },
  {
   "cell_type": "code",
   "execution_count": 12,
   "metadata": {},
   "outputs": [],
   "source": [
    "# convert data types\n",
    "df = df[df['data-url'].isna()==False]\n",
    "df['bathroom'] = pd.to_numeric(df[\"bathroom\"])\n",
    "df['bedroom'] = pd.to_numeric(df[\"bedroom\"])\n",
    "df['data-price'] = pd.to_numeric(df[\"data-price\"])\n",
    "df['garage'] = pd.to_numeric(df[\"garage\"])\n",
    "df['data-date'] = pd.to_datetime(df[\"data-date\"])\n",
    "\n",
    "# remove m^2 from the size columns\n",
    "df['buildingSize'] = df['buildingSize'].astype('str').apply(lambda x: \n",
    "                                                            ''.join([c for c in x if c in '1234567890']))\n",
    "\n",
    "df['erfSize'] = df['erfSize'].astype('str').apply(lambda x: \n",
    "                                                  ''.join([c for c in x if c in '1234567890']))\n",
    "df['buildingSize'] = pd.to_numeric(df[\"buildingSize\"])\n",
    "df['erfSize'] = pd.to_numeric(df[\"erfSize\"])"
   ]
  },
  {
   "cell_type": "code",
   "execution_count": 13,
   "metadata": {},
   "outputs": [
    {
     "data": {
      "text/html": [
       "<div>\n",
       "<style scoped>\n",
       "    .dataframe tbody tr th:only-of-type {\n",
       "        vertical-align: middle;\n",
       "    }\n",
       "\n",
       "    .dataframe tbody tr th {\n",
       "        vertical-align: top;\n",
       "    }\n",
       "\n",
       "    .dataframe thead th {\n",
       "        text-align: right;\n",
       "    }\n",
       "</style>\n",
       "<table border=\"1\" class=\"dataframe\">\n",
       "  <thead>\n",
       "    <tr style=\"text-align: right;\">\n",
       "      <th></th>\n",
       "      <th>area</th>\n",
       "      <th>bathroom</th>\n",
       "      <th>bedroom</th>\n",
       "      <th>buildingSize</th>\n",
       "      <th>data-date</th>\n",
       "      <th>data-isonshow</th>\n",
       "      <th>data-location</th>\n",
       "      <th>data-price</th>\n",
       "      <th>data-url</th>\n",
       "      <th>erfSize</th>\n",
       "      <th>garage</th>\n",
       "      <th>type</th>\n",
       "    </tr>\n",
       "  </thead>\n",
       "  <tbody>\n",
       "    <tr>\n",
       "      <th>0</th>\n",
       "      <td>city-bowl</td>\n",
       "      <td>3.5</td>\n",
       "      <td>3.0</td>\n",
       "      <td>NaN</td>\n",
       "      <td>2018-05-15 12:48:53</td>\n",
       "      <td>False</td>\n",
       "      <td>Bo-kaap</td>\n",
       "      <td>6950000</td>\n",
       "      <td>https://www.pamgolding.co.za/property-details/...</td>\n",
       "      <td>156.0</td>\n",
       "      <td>2.0</td>\n",
       "      <td>house</td>\n",
       "    </tr>\n",
       "    <tr>\n",
       "      <th>1</th>\n",
       "      <td>city-bowl</td>\n",
       "      <td>2.0</td>\n",
       "      <td>4.0</td>\n",
       "      <td>NaN</td>\n",
       "      <td>2018-10-09 15:07:41</td>\n",
       "      <td>False</td>\n",
       "      <td>Oranjezicht</td>\n",
       "      <td>6800000</td>\n",
       "      <td>https://www.pamgolding.co.za/property-details/...</td>\n",
       "      <td>270.0</td>\n",
       "      <td>NaN</td>\n",
       "      <td>house</td>\n",
       "    </tr>\n",
       "    <tr>\n",
       "      <th>2</th>\n",
       "      <td>city-bowl</td>\n",
       "      <td>2.0</td>\n",
       "      <td>3.0</td>\n",
       "      <td>180.0</td>\n",
       "      <td>2018-07-31 10:03:10</td>\n",
       "      <td>False</td>\n",
       "      <td>Tamboerskloof</td>\n",
       "      <td>6595000</td>\n",
       "      <td>https://www.pamgolding.co.za/property-details/...</td>\n",
       "      <td>144.0</td>\n",
       "      <td>NaN</td>\n",
       "      <td>house</td>\n",
       "    </tr>\n",
       "    <tr>\n",
       "      <th>3</th>\n",
       "      <td>city-bowl</td>\n",
       "      <td>2.0</td>\n",
       "      <td>3.0</td>\n",
       "      <td>NaN</td>\n",
       "      <td>2018-06-28 13:00:40</td>\n",
       "      <td>False</td>\n",
       "      <td>Tamboerskloof</td>\n",
       "      <td>6490000</td>\n",
       "      <td>https://www.pamgolding.co.za/property-details/...</td>\n",
       "      <td>197.0</td>\n",
       "      <td>NaN</td>\n",
       "      <td>house</td>\n",
       "    </tr>\n",
       "    <tr>\n",
       "      <th>4</th>\n",
       "      <td>city-bowl</td>\n",
       "      <td>2.0</td>\n",
       "      <td>3.0</td>\n",
       "      <td>NaN</td>\n",
       "      <td>2018-10-04 16:06:34</td>\n",
       "      <td>False</td>\n",
       "      <td>Oranjezicht</td>\n",
       "      <td>6450000</td>\n",
       "      <td>https://www.pamgolding.co.za/property-details/...</td>\n",
       "      <td>153.0</td>\n",
       "      <td>NaN</td>\n",
       "      <td>house</td>\n",
       "    </tr>\n",
       "  </tbody>\n",
       "</table>\n",
       "</div>"
      ],
      "text/plain": [
       "        area  bathroom  bedroom  buildingSize           data-date  \\\n",
       "0  city-bowl       3.5      3.0           NaN 2018-05-15 12:48:53   \n",
       "1  city-bowl       2.0      4.0           NaN 2018-10-09 15:07:41   \n",
       "2  city-bowl       2.0      3.0         180.0 2018-07-31 10:03:10   \n",
       "3  city-bowl       2.0      3.0           NaN 2018-06-28 13:00:40   \n",
       "4  city-bowl       2.0      3.0           NaN 2018-10-04 16:06:34   \n",
       "\n",
       "  data-isonshow  data-location  data-price  \\\n",
       "0         False        Bo-kaap     6950000   \n",
       "1         False    Oranjezicht     6800000   \n",
       "2         False  Tamboerskloof     6595000   \n",
       "3         False  Tamboerskloof     6490000   \n",
       "4         False    Oranjezicht     6450000   \n",
       "\n",
       "                                            data-url  erfSize  garage   type  \n",
       "0  https://www.pamgolding.co.za/property-details/...    156.0     2.0  house  \n",
       "1  https://www.pamgolding.co.za/property-details/...    270.0     NaN  house  \n",
       "2  https://www.pamgolding.co.za/property-details/...    144.0     NaN  house  \n",
       "3  https://www.pamgolding.co.za/property-details/...    197.0     NaN  house  \n",
       "4  https://www.pamgolding.co.za/property-details/...    153.0     NaN  house  "
      ]
     },
     "execution_count": 13,
     "metadata": {},
     "output_type": "execute_result"
    }
   ],
   "source": [
    "df.head()"
   ]
  },
  {
   "cell_type": "code",
   "execution_count": 14,
   "metadata": {},
   "outputs": [
    {
     "data": {
      "text/plain": [
       "boland-winelands      940\n",
       "southern-suburbs      231\n",
       "northern-suburbs      149\n",
       "atlantic-seaboard     140\n",
       "southern-peninsula    125\n",
       "city-bowl             104\n",
       "Name: area, dtype: int64"
      ]
     },
     "execution_count": 14,
     "metadata": {},
     "output_type": "execute_result"
    }
   ],
   "source": [
    "df['area'].value_counts()"
   ]
  },
  {
   "cell_type": "code",
   "execution_count": 15,
   "metadata": {},
   "outputs": [
    {
     "data": {
      "text/plain": [
       "area                     object\n",
       "bathroom                float64\n",
       "bedroom                 float64\n",
       "buildingSize            float64\n",
       "data-date        datetime64[ns]\n",
       "data-isonshow            object\n",
       "data-location            object\n",
       "data-price                int64\n",
       "data-url                 object\n",
       "erfSize                 float64\n",
       "garage                  float64\n",
       "type                     object\n",
       "dtype: object"
      ]
     },
     "execution_count": 15,
     "metadata": {},
     "output_type": "execute_result"
    }
   ],
   "source": [
    "df.dtypes"
   ]
  },
  {
   "cell_type": "code",
   "execution_count": 16,
   "metadata": {},
   "outputs": [
    {
     "data": {
      "text/plain": [
       "(1689, 12)"
      ]
     },
     "execution_count": 16,
     "metadata": {},
     "output_type": "execute_result"
    }
   ],
   "source": [
    "df.shape"
   ]
  },
  {
   "cell_type": "code",
   "execution_count": 17,
   "metadata": {},
   "outputs": [],
   "source": [
    "df.to_csv('pam.csv', index=False)"
   ]
  }
 ],
 "metadata": {
  "kernelspec": {
   "display_name": "Python 3",
   "language": "python",
   "name": "python3"
  },
  "language_info": {
   "codemirror_mode": {
    "name": "ipython",
    "version": 3
   },
   "file_extension": ".py",
   "mimetype": "text/x-python",
   "name": "python",
   "nbconvert_exporter": "python",
   "pygments_lexer": "ipython3",
   "version": "3.7.0"
  }
 },
 "nbformat": 4,
 "nbformat_minor": 2
}
